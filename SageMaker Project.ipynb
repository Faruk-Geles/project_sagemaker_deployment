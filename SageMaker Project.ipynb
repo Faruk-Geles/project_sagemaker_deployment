{
 "cells": [
  {
   "cell_type": "markdown",
   "metadata": {},
   "source": [
    "# Creating a Sentiment Analysis Web App\n",
    "## Using PyTorch and SageMaker\n",
    "\n",
    "_Deep Learning Nanodegree Program | Deployment_\n",
    "\n",
    "---\n",
    "\n",
    "Now that we have a basic understanding of how SageMaker works we will try to use it to construct a complete project from end to end. Our goal will be to have a simple web page which a user can use to enter a movie review. The web page will then send the review off to our deployed model which will predict the sentiment of the entered review.\n",
    "\n",
    "## Instructions\n",
    "\n",
    "Some template code has already been provided for you, and you will need to implement additional functionality to successfully complete this notebook. You will not need to modify the included code beyond what is requested. Sections that begin with '**TODO**' in the header indicate that you need to complete or implement some portion within them. Instructions will be provided for each section and the specifics of the implementation are marked in the code block with a `# TODO: ...` comment. Please be sure to read the instructions carefully!\n",
    "\n",
    "In addition to implementing code, there will be questions for you to answer which relate to the task and your implementation. Each section where you will answer a question is preceded by a '**Question:**' header. Carefully read each question and provide your answer below the '**Answer:**' header by editing the Markdown cell.\n",
    "\n",
    "> **Note**: Code and Markdown cells can be executed using the **Shift+Enter** keyboard shortcut. In addition, a cell can be edited by typically clicking it (double-click for Markdown cells) or by pressing **Enter** while it is highlighted.\n",
    "\n",
    "## General Outline\n",
    "\n",
    "Recall the general outline for SageMaker projects using a notebook instance.\n",
    "\n",
    "1. Download or otherwise retrieve the data.\n",
    "2. Process / Prepare the data.\n",
    "3. Upload the processed data to S3.\n",
    "4. Train a chosen model.\n",
    "5. Test the trained model (typically using a batch transform job).\n",
    "6. Deploy the trained model.\n",
    "7. Use the deployed model.\n",
    "\n",
    "For this project, you will be following the steps in the general outline with some modifications. \n",
    "\n",
    "First, you will not be testing the model in its own step. You will still be testing the model, however, you will do it by deploying your model and then using the deployed model by sending the test data to it. One of the reasons for doing this is so that you can make sure that your deployed model is working correctly before moving forward.\n",
    "\n",
    "In addition, you will deploy and use your trained model a second time. In the second iteration you will customize the way that your trained model is deployed by including some of your own code. In addition, your newly deployed model will be used in the sentiment analysis web app."
   ]
  },
  {
   "cell_type": "code",
   "execution_count": 1,
   "metadata": {},
   "outputs": [
    {
     "name": "stdout",
     "output_type": "stream",
     "text": [
      "Collecting sagemaker==1.72.0\n",
      "  Downloading sagemaker-1.72.0.tar.gz (297 kB)\n",
      "\u001b[K     |████████████████████████████████| 297 kB 6.4 MB/s eta 0:00:01\n",
      "\u001b[?25hRequirement already satisfied: boto3>=1.14.12 in /home/ec2-user/anaconda3/envs/pytorch_p36/lib/python3.6/site-packages (from sagemaker==1.72.0) (1.16.37)\n",
      "Requirement already satisfied: numpy>=1.9.0 in /home/ec2-user/anaconda3/envs/pytorch_p36/lib/python3.6/site-packages (from sagemaker==1.72.0) (1.19.4)\n",
      "Requirement already satisfied: protobuf>=3.1 in /home/ec2-user/anaconda3/envs/pytorch_p36/lib/python3.6/site-packages (from sagemaker==1.72.0) (3.14.0)\n",
      "Requirement already satisfied: scipy>=0.19.0 in /home/ec2-user/anaconda3/envs/pytorch_p36/lib/python3.6/site-packages (from sagemaker==1.72.0) (1.4.1)\n",
      "Requirement already satisfied: protobuf3-to-dict>=0.1.5 in /home/ec2-user/anaconda3/envs/pytorch_p36/lib/python3.6/site-packages (from sagemaker==1.72.0) (0.1.5)\n",
      "Requirement already satisfied: importlib-metadata>=1.4.0 in /home/ec2-user/anaconda3/envs/pytorch_p36/lib/python3.6/site-packages (from sagemaker==1.72.0) (3.1.0)\n",
      "Requirement already satisfied: packaging>=20.0 in /home/ec2-user/anaconda3/envs/pytorch_p36/lib/python3.6/site-packages (from sagemaker==1.72.0) (20.7)\n",
      "Requirement already satisfied: jmespath<1.0.0,>=0.7.1 in /home/ec2-user/anaconda3/envs/pytorch_p36/lib/python3.6/site-packages (from boto3>=1.14.12->sagemaker==1.72.0) (0.10.0)\n",
      "Requirement already satisfied: botocore<1.20.0,>=1.19.37 in /home/ec2-user/anaconda3/envs/pytorch_p36/lib/python3.6/site-packages (from boto3>=1.14.12->sagemaker==1.72.0) (1.19.37)\n",
      "Requirement already satisfied: s3transfer<0.4.0,>=0.3.0 in /home/ec2-user/anaconda3/envs/pytorch_p36/lib/python3.6/site-packages (from boto3>=1.14.12->sagemaker==1.72.0) (0.3.3)\n",
      "Requirement already satisfied: python-dateutil<3.0.0,>=2.1 in /home/ec2-user/anaconda3/envs/pytorch_p36/lib/python3.6/site-packages (from botocore<1.20.0,>=1.19.37->boto3>=1.14.12->sagemaker==1.72.0) (2.8.1)\n",
      "Requirement already satisfied: jmespath<1.0.0,>=0.7.1 in /home/ec2-user/anaconda3/envs/pytorch_p36/lib/python3.6/site-packages (from boto3>=1.14.12->sagemaker==1.72.0) (0.10.0)\n",
      "Requirement already satisfied: urllib3<1.27,>=1.25.4 in /home/ec2-user/anaconda3/envs/pytorch_p36/lib/python3.6/site-packages (from botocore<1.20.0,>=1.19.37->boto3>=1.14.12->sagemaker==1.72.0) (1.25.11)\n",
      "Requirement already satisfied: zipp>=0.5 in /home/ec2-user/anaconda3/envs/pytorch_p36/lib/python3.6/site-packages (from importlib-metadata>=1.4.0->sagemaker==1.72.0) (3.4.0)\n",
      "Requirement already satisfied: pyparsing>=2.0.2 in /home/ec2-user/anaconda3/envs/pytorch_p36/lib/python3.6/site-packages (from packaging>=20.0->sagemaker==1.72.0) (2.4.7)\n",
      "Requirement already satisfied: six>=1.9 in /home/ec2-user/anaconda3/envs/pytorch_p36/lib/python3.6/site-packages (from protobuf>=3.1->sagemaker==1.72.0) (1.15.0)\n",
      "Requirement already satisfied: protobuf>=3.1 in /home/ec2-user/anaconda3/envs/pytorch_p36/lib/python3.6/site-packages (from sagemaker==1.72.0) (3.14.0)\n",
      "Requirement already satisfied: six>=1.9 in /home/ec2-user/anaconda3/envs/pytorch_p36/lib/python3.6/site-packages (from protobuf>=3.1->sagemaker==1.72.0) (1.15.0)\n",
      "Requirement already satisfied: six>=1.9 in /home/ec2-user/anaconda3/envs/pytorch_p36/lib/python3.6/site-packages (from protobuf>=3.1->sagemaker==1.72.0) (1.15.0)\n",
      "Requirement already satisfied: botocore<1.20.0,>=1.19.37 in /home/ec2-user/anaconda3/envs/pytorch_p36/lib/python3.6/site-packages (from boto3>=1.14.12->sagemaker==1.72.0) (1.19.37)\n",
      "Requirement already satisfied: numpy>=1.9.0 in /home/ec2-user/anaconda3/envs/pytorch_p36/lib/python3.6/site-packages (from sagemaker==1.72.0) (1.19.4)\n",
      "Collecting smdebug-rulesconfig==0.1.4\n",
      "  Downloading smdebug_rulesconfig-0.1.4-py2.py3-none-any.whl (10 kB)\n",
      "Building wheels for collected packages: sagemaker\n",
      "  Building wheel for sagemaker (setup.py) ... \u001b[?25ldone\n",
      "\u001b[?25h  Created wheel for sagemaker: filename=sagemaker-1.72.0-py2.py3-none-any.whl size=386358 sha256=4bd0815c387f3ae623de9eeb045140c9d27cbec2eb2c085c8d943d004e9a3e48\n",
      "  Stored in directory: /home/ec2-user/.cache/pip/wheels/c3/58/70/85faf4437568bfaa4c419937569ba1fe54d44c5db42406bbd7\n",
      "Successfully built sagemaker\n",
      "Installing collected packages: smdebug-rulesconfig, sagemaker\n",
      "  Attempting uninstall: smdebug-rulesconfig\n",
      "    Found existing installation: smdebug-rulesconfig 1.0.0\n",
      "    Uninstalling smdebug-rulesconfig-1.0.0:\n",
      "      Successfully uninstalled smdebug-rulesconfig-1.0.0\n",
      "  Attempting uninstall: sagemaker\n",
      "    Found existing installation: sagemaker 2.19.0\n",
      "    Uninstalling sagemaker-2.19.0:\n",
      "      Successfully uninstalled sagemaker-2.19.0\n",
      "Successfully installed sagemaker-1.72.0 smdebug-rulesconfig-0.1.4\n",
      "\u001b[33mWARNING: You are using pip version 20.3; however, version 20.3.3 is available.\n",
      "You should consider upgrading via the '/home/ec2-user/anaconda3/envs/pytorch_p36/bin/python -m pip install --upgrade pip' command.\u001b[0m\n"
     ]
    }
   ],
   "source": [
    "# Make sure that we use SageMaker 1.x\n",
    "!pip install sagemaker==1.72.0"
   ]
  },
  {
   "cell_type": "markdown",
   "metadata": {},
   "source": [
    "## Step 1: Downloading the data\n",
    "\n",
    "As in the XGBoost in SageMaker notebook, we will be using the [IMDb dataset](http://ai.stanford.edu/~amaas/data/sentiment/)\n",
    "\n",
    "> Maas, Andrew L., et al. [Learning Word Vectors for Sentiment Analysis](http://ai.stanford.edu/~amaas/data/sentiment/). In _Proceedings of the 49th Annual Meeting of the Association for Computational Linguistics: Human Language Technologies_. Association for Computational Linguistics, 2011."
   ]
  },
  {
   "cell_type": "code",
   "execution_count": 2,
   "metadata": {},
   "outputs": [
    {
     "name": "stdout",
     "output_type": "stream",
     "text": [
      "mkdir: cannot create directory ‘../data’: File exists\n",
      "--2021-01-22 12:10:37--  http://ai.stanford.edu/~amaas/data/sentiment/aclImdb_v1.tar.gz\n",
      "Resolving ai.stanford.edu (ai.stanford.edu)... 171.64.68.10\n",
      "Connecting to ai.stanford.edu (ai.stanford.edu)|171.64.68.10|:80... connected.\n",
      "HTTP request sent, awaiting response... 200 OK\n",
      "Length: 84125825 (80M) [application/x-gzip]\n",
      "Saving to: ‘../data/aclImdb_v1.tar.gz’\n",
      "\n",
      "../data/aclImdb_v1. 100%[===================>]  80.23M  25.5MB/s    in 3.3s    \n",
      "\n",
      "2021-01-22 12:10:40 (24.3 MB/s) - ‘../data/aclImdb_v1.tar.gz’ saved [84125825/84125825]\n",
      "\n"
     ]
    }
   ],
   "source": [
    "%mkdir ../data\n",
    "!wget -O ../data/aclImdb_v1.tar.gz http://ai.stanford.edu/~amaas/data/sentiment/aclImdb_v1.tar.gz\n",
    "!tar -zxf ../data/aclImdb_v1.tar.gz -C ../data"
   ]
  },
  {
   "cell_type": "markdown",
   "metadata": {},
   "source": [
    "## Step 2: Preparing and Processing the data\n",
    "\n",
    "Also, as in the XGBoost notebook, we will be doing some initial data processing. The first few steps are the same as in the XGBoost example. To begin with, we will read in each of the reviews and combine them into a single input structure. Then, we will split the dataset into a training set and a testing set."
   ]
  },
  {
   "cell_type": "code",
   "execution_count": 3,
   "metadata": {},
   "outputs": [],
   "source": [
    "import os\n",
    "import glob\n",
    "\n",
    "def read_imdb_data(data_dir='../data/aclImdb'):\n",
    "    data = {}\n",
    "    labels = {}\n",
    "    \n",
    "    for data_type in ['train', 'test']:\n",
    "        data[data_type] = {}\n",
    "        labels[data_type] = {}\n",
    "        \n",
    "        for sentiment in ['pos', 'neg']:\n",
    "            data[data_type][sentiment] = []\n",
    "            labels[data_type][sentiment] = []\n",
    "            \n",
    "            path = os.path.join(data_dir, data_type, sentiment, '*.txt')\n",
    "            files = glob.glob(path)\n",
    "            \n",
    "            for f in files:\n",
    "                with open(f) as review:\n",
    "                    data[data_type][sentiment].append(review.read())\n",
    "                    # Here we represent a positive review by '1' and a negative review by '0'\n",
    "                    labels[data_type][sentiment].append(1 if sentiment == 'pos' else 0)\n",
    "                    \n",
    "            assert len(data[data_type][sentiment]) == len(labels[data_type][sentiment]), \\\n",
    "                    \"{}/{} data size does not match labels size\".format(data_type, sentiment)\n",
    "                \n",
    "    return data, labels"
   ]
  },
  {
   "cell_type": "code",
   "execution_count": 4,
   "metadata": {},
   "outputs": [
    {
     "name": "stdout",
     "output_type": "stream",
     "text": [
      "IMDB reviews: train = 12500 pos / 12500 neg, test = 12500 pos / 12500 neg\n"
     ]
    }
   ],
   "source": [
    "data, labels = read_imdb_data()\n",
    "print(\"IMDB reviews: train = {} pos / {} neg, test = {} pos / {} neg\".format(\n",
    "            len(data['train']['pos']), len(data['train']['neg']),\n",
    "            len(data['test']['pos']), len(data['test']['neg'])))"
   ]
  },
  {
   "cell_type": "markdown",
   "metadata": {},
   "source": [
    "Now that we've read the raw training and testing data from the downloaded dataset, we will combine the positive and negative reviews and shuffle the resulting records."
   ]
  },
  {
   "cell_type": "code",
   "execution_count": 5,
   "metadata": {},
   "outputs": [],
   "source": [
    "from sklearn.utils import shuffle\n",
    "\n",
    "def prepare_imdb_data(data, labels):\n",
    "    \"\"\"Prepare training and test sets from IMDb movie reviews.\"\"\"\n",
    "    \n",
    "    #Combine positive and negative reviews and labels\n",
    "    data_train = data['train']['pos'] + data['train']['neg']\n",
    "    data_test = data['test']['pos'] + data['test']['neg']\n",
    "    labels_train = labels['train']['pos'] + labels['train']['neg']\n",
    "    labels_test = labels['test']['pos'] + labels['test']['neg']\n",
    "    \n",
    "    #Shuffle reviews and corresponding labels within training and test sets\n",
    "    data_train, labels_train = shuffle(data_train, labels_train)\n",
    "    data_test, labels_test = shuffle(data_test, labels_test)\n",
    "    \n",
    "    # Return a unified training data, test data, training labels, test labets\n",
    "    return data_train, data_test, labels_train, labels_test"
   ]
  },
  {
   "cell_type": "code",
   "execution_count": 6,
   "metadata": {},
   "outputs": [
    {
     "name": "stdout",
     "output_type": "stream",
     "text": [
      "IMDb reviews (combined): train = 25000, test = 25000\n"
     ]
    }
   ],
   "source": [
    "train_X, test_X, train_y, test_y = prepare_imdb_data(data, labels)\n",
    "print(\"IMDb reviews (combined): train = {}, test = {}\".format(len(train_X), len(test_X)))"
   ]
  },
  {
   "cell_type": "markdown",
   "metadata": {},
   "source": [
    "Now that we have our training and testing sets unified and prepared, we should do a quick check and see an example of the data our model will be trained on. This is generally a good idea as it allows you to see how each of the further processing steps affects the reviews and it also ensures that the data has been loaded correctly."
   ]
  },
  {
   "cell_type": "code",
   "execution_count": 7,
   "metadata": {},
   "outputs": [
    {
     "name": "stdout",
     "output_type": "stream",
     "text": [
      "This was my second time watching the film (via the French-language version as opposed to the first, which was dubbed in Italian) and I feel that it improves on subsequent viewings.<br /><br />A compelling if slowly built-up character study that's beautifully shot and with the Parisian settings being equally impressive. In the long run, it's not top-grade Polanski and I would rank it at number 9 in his filmography but it's still a confident mix of subtle chills and, surprisingly, often broad comedy. It also features a fine cast, all of whom are in good form, but especially Isabelle Adjani, Melvyn Douglas and Jo Van Fleet.<br /><br />Even so, I'm a bit baffled by the sudden compulsion for Trelkovsky to 'change' into the previous tenant; apart from the owner of the café opposite the apartment building, where he is given whatever Simone used to have without asking him if he wished any different, there is little to indicate (as far as I could discern, anyway) that this is what everybody wanted of him! Okay, so he found Simone's belongings still lying in the apartment but what exactly drove him to wear her dresses and make himself up as her (even if he apparently started doing this unconsciously)? Following his nightmarish visions in the bathroom, the last section of the film (where Adjani all but disappears) is almost anti-climactic - especially the scene where the landlord and the other tenants witness his attempted suicide as if it were a night at the Opera, a concept which had already been used 46 years earlier by Jean Cocteau in THE BLOOD OF A POET (1930)!<br /><br />The ending, then, is at once predictable and unresolved: just what made the two occupants of this particular apartment jump out of the window?!; I remember this factor bugging me on first viewing as well, and I'm sorry to say it's no clearer now! Mind you, the film's first two-thirds are pretty solid but I wish that Polanski had been less reliant on obscure plot points throughout.\n",
      "1\n"
     ]
    }
   ],
   "source": [
    "print(train_X[100])\n",
    "print(train_y[100])"
   ]
  },
  {
   "cell_type": "markdown",
   "metadata": {},
   "source": [
    "The first step in processing the reviews is to make sure that any html tags that appear should be removed. In addition we wish to tokenize our input, that way words such as *entertained* and *entertaining* are considered the same with regard to sentiment analysis."
   ]
  },
  {
   "cell_type": "code",
   "execution_count": 8,
   "metadata": {},
   "outputs": [],
   "source": [
    "import nltk\n",
    "from nltk.corpus import stopwords\n",
    "from nltk.stem.porter import *\n",
    "\n",
    "import re\n",
    "from bs4 import BeautifulSoup\n",
    "\n",
    "def review_to_words(review):\n",
    "    nltk.download(\"stopwords\", quiet=True)\n",
    "    stemmer = PorterStemmer()\n",
    "    \n",
    "    text = BeautifulSoup(review, \"html.parser\").get_text() # Remove HTML tags\n",
    "    text = re.sub(r\"[^a-zA-Z0-9]\", \" \", text.lower()) # Convert to lower case\n",
    "    words = text.split() # Split string into words\n",
    "    words = [w for w in words if w not in stopwords.words(\"english\")] # Remove stopwords\n",
    "    words = [PorterStemmer().stem(w) for w in words] # stem\n",
    "    \n",
    "    return words"
   ]
  },
  {
   "cell_type": "markdown",
   "metadata": {},
   "source": [
    "The `review_to_words` method defined above uses `BeautifulSoup` to remove any html tags that appear and uses the `nltk` package to tokenize the reviews. As a check to ensure we know how everything is working, try applying `review_to_words` to one of the reviews in the training set."
   ]
  },
  {
   "cell_type": "code",
   "execution_count": 9,
   "metadata": {},
   "outputs": [
    {
     "data": {
      "text/plain": [
       "['second',\n",
       " 'time',\n",
       " 'watch',\n",
       " 'film',\n",
       " 'via',\n",
       " 'french',\n",
       " 'languag',\n",
       " 'version',\n",
       " 'oppos',\n",
       " 'first',\n",
       " 'dub',\n",
       " 'italian',\n",
       " 'feel',\n",
       " 'improv',\n",
       " 'subsequ',\n",
       " 'view',\n",
       " 'compel',\n",
       " 'slowli',\n",
       " 'built',\n",
       " 'charact',\n",
       " 'studi',\n",
       " 'beauti',\n",
       " 'shot',\n",
       " 'parisian',\n",
       " 'set',\n",
       " 'equal',\n",
       " 'impress',\n",
       " 'long',\n",
       " 'run',\n",
       " 'top',\n",
       " 'grade',\n",
       " 'polanski',\n",
       " 'would',\n",
       " 'rank',\n",
       " 'number',\n",
       " '9',\n",
       " 'filmographi',\n",
       " 'still',\n",
       " 'confid',\n",
       " 'mix',\n",
       " 'subtl',\n",
       " 'chill',\n",
       " 'surprisingli',\n",
       " 'often',\n",
       " 'broad',\n",
       " 'comedi',\n",
       " 'also',\n",
       " 'featur',\n",
       " 'fine',\n",
       " 'cast',\n",
       " 'good',\n",
       " 'form',\n",
       " 'especi',\n",
       " 'isabel',\n",
       " 'adjani',\n",
       " 'melvyn',\n",
       " 'dougla',\n",
       " 'jo',\n",
       " 'van',\n",
       " 'fleet',\n",
       " 'even',\n",
       " 'bit',\n",
       " 'baffl',\n",
       " 'sudden',\n",
       " 'compuls',\n",
       " 'trelkovski',\n",
       " 'chang',\n",
       " 'previou',\n",
       " 'tenant',\n",
       " 'apart',\n",
       " 'owner',\n",
       " 'caf',\n",
       " 'opposit',\n",
       " 'apart',\n",
       " 'build',\n",
       " 'given',\n",
       " 'whatev',\n",
       " 'simon',\n",
       " 'use',\n",
       " 'without',\n",
       " 'ask',\n",
       " 'wish',\n",
       " 'differ',\n",
       " 'littl',\n",
       " 'indic',\n",
       " 'far',\n",
       " 'could',\n",
       " 'discern',\n",
       " 'anyway',\n",
       " 'everybodi',\n",
       " 'want',\n",
       " 'okay',\n",
       " 'found',\n",
       " 'simon',\n",
       " 'belong',\n",
       " 'still',\n",
       " 'lie',\n",
       " 'apart',\n",
       " 'exactli',\n",
       " 'drove',\n",
       " 'wear',\n",
       " 'dress',\n",
       " 'make',\n",
       " 'even',\n",
       " 'appar',\n",
       " 'start',\n",
       " 'unconsci',\n",
       " 'follow',\n",
       " 'nightmarish',\n",
       " 'vision',\n",
       " 'bathroom',\n",
       " 'last',\n",
       " 'section',\n",
       " 'film',\n",
       " 'adjani',\n",
       " 'disappear',\n",
       " 'almost',\n",
       " 'anti',\n",
       " 'climact',\n",
       " 'especi',\n",
       " 'scene',\n",
       " 'landlord',\n",
       " 'tenant',\n",
       " 'wit',\n",
       " 'attempt',\n",
       " 'suicid',\n",
       " 'night',\n",
       " 'opera',\n",
       " 'concept',\n",
       " 'alreadi',\n",
       " 'use',\n",
       " '46',\n",
       " 'year',\n",
       " 'earlier',\n",
       " 'jean',\n",
       " 'cocteau',\n",
       " 'blood',\n",
       " 'poet',\n",
       " '1930',\n",
       " 'end',\n",
       " 'predict',\n",
       " 'unresolv',\n",
       " 'made',\n",
       " 'two',\n",
       " 'occup',\n",
       " 'particular',\n",
       " 'apart',\n",
       " 'jump',\n",
       " 'window',\n",
       " 'rememb',\n",
       " 'factor',\n",
       " 'bug',\n",
       " 'first',\n",
       " 'view',\n",
       " 'well',\n",
       " 'sorri',\n",
       " 'say',\n",
       " 'clearer',\n",
       " 'mind',\n",
       " 'film',\n",
       " 'first',\n",
       " 'two',\n",
       " 'third',\n",
       " 'pretti',\n",
       " 'solid',\n",
       " 'wish',\n",
       " 'polanski',\n",
       " 'less',\n",
       " 'reliant',\n",
       " 'obscur',\n",
       " 'plot',\n",
       " 'point',\n",
       " 'throughout']"
      ]
     },
     "execution_count": 9,
     "metadata": {},
     "output_type": "execute_result"
    }
   ],
   "source": [
    "# TODO: Apply review_to_words to a review (train_X[100] or any other review)\n",
    "review_to_words(train_X[100])\n"
   ]
  },
  {
   "cell_type": "markdown",
   "metadata": {},
   "source": [
    "**Question:** Above we mentioned that `review_to_words` method removes html formatting and allows us to tokenize the words found in a review, for example, converting *entertained* and *entertaining* into *entertain* so that they are treated as though they are the same word. What else, if anything, does this method do to the input?"
   ]
  },
  {
   "cell_type": "markdown",
   "metadata": {},
   "source": [
    "**Answer:**\n",
    ">* The words are converted into lower case\n",
    "* The words are stored in a list of strings\n",
    "* Stopwords i.e. frequently used words are removed\n",
    "* Punctuation is removed"
   ]
  },
  {
   "cell_type": "markdown",
   "metadata": {},
   "source": [
    "The method below applies the `review_to_words` method to each of the reviews in the training and testing datasets. In addition it caches the results. This is because performing this processing step can take a long time. This way if you are unable to complete the notebook in the current session, you can come back without needing to process the data a second time."
   ]
  },
  {
   "cell_type": "code",
   "execution_count": 10,
   "metadata": {},
   "outputs": [],
   "source": [
    "import pickle\n",
    "\n",
    "cache_dir = os.path.join(\"../cache\", \"sentiment_analysis\")  # where to store cache files\n",
    "os.makedirs(cache_dir, exist_ok=True)  # ensure cache directory exists\n",
    "\n",
    "def preprocess_data(data_train, data_test, labels_train, labels_test,\n",
    "                    cache_dir=cache_dir, cache_file=\"preprocessed_data.pkl\"):\n",
    "    \"\"\"Convert each review to words; read from cache if available.\"\"\"\n",
    "\n",
    "    # If cache_file is not None, try to read from it first\n",
    "    cache_data = None\n",
    "    if cache_file is not None:\n",
    "        try:\n",
    "            with open(os.path.join(cache_dir, cache_file), \"rb\") as f:\n",
    "                cache_data = pickle.load(f)\n",
    "            print(\"Read preprocessed data from cache file:\", cache_file)\n",
    "        except:\n",
    "            pass  # unable to read from cache, but that's okay\n",
    "    \n",
    "    # If cache is missing, then do the heavy lifting\n",
    "    if cache_data is None:\n",
    "        # Preprocess training and test data to obtain words for each review\n",
    "        #words_train = list(map(review_to_words, data_train))\n",
    "        #words_test = list(map(review_to_words, data_test))\n",
    "        words_train = [review_to_words(review) for review in data_train]\n",
    "        words_test = [review_to_words(review) for review in data_test]\n",
    "        \n",
    "        # Write to cache file for future runs\n",
    "        if cache_file is not None:\n",
    "            cache_data = dict(words_train=words_train, words_test=words_test,\n",
    "                              labels_train=labels_train, labels_test=labels_test)\n",
    "            with open(os.path.join(cache_dir, cache_file), \"wb\") as f:\n",
    "                pickle.dump(cache_data, f)\n",
    "            print(\"Wrote preprocessed data to cache file:\", cache_file)\n",
    "    else:\n",
    "        # Unpack data loaded from cache file\n",
    "        words_train, words_test, labels_train, labels_test = (cache_data['words_train'],\n",
    "                cache_data['words_test'], cache_data['labels_train'], cache_data['labels_test'])\n",
    "    \n",
    "    return words_train, words_test, labels_train, labels_test"
   ]
  },
  {
   "cell_type": "code",
   "execution_count": 11,
   "metadata": {},
   "outputs": [
    {
     "name": "stdout",
     "output_type": "stream",
     "text": [
      "Read preprocessed data from cache file: preprocessed_data.pkl\n"
     ]
    }
   ],
   "source": [
    "# Preprocess data\n",
    "train_X, test_X, train_y, test_y = preprocess_data(train_X, test_X, train_y, test_y)"
   ]
  },
  {
   "cell_type": "markdown",
   "metadata": {},
   "source": [
    "## Transform the data\n",
    "\n",
    "In the XGBoost notebook we transformed the data from its word representation to a bag-of-words feature representation. For the model we are going to construct in this notebook we will construct a feature representation which is very similar. To start, we will represent each word as an integer. Of course, some of the words that appear in the reviews occur very infrequently and so likely don't contain much information for the purposes of sentiment analysis. The way we will deal with this problem is that we will fix the size of our working vocabulary and we will only include the words that appear most frequently. We will then combine all of the infrequent words into a single category and, in our case, we will label it as `1`.\n",
    "\n",
    "Since we will be using a recurrent neural network, it will be convenient if the length of each review is the same. To do this, we will fix a size for our reviews and then pad short reviews with the category 'no word' (which we will label `0`) and truncate long reviews."
   ]
  },
  {
   "cell_type": "markdown",
   "metadata": {},
   "source": [
    "### (TODO) Create a word dictionary\n",
    "\n",
    "To begin with, we need to construct a way to map words that appear in the reviews to integers. Here we fix the size of our vocabulary (including the 'no word' and 'infrequent' categories) to be `5000` but you may wish to change this to see how it affects the model.\n",
    "\n",
    "> **TODO:** Complete the implementation for the `build_dict()` method below. Note that even though the vocab_size is set to `5000`, we only want to construct a mapping for the most frequently appearing `4998` words. This is because we want to reserve the special labels `0` for 'no word' and `1` for 'infrequent word'."
   ]
  },
  {
   "cell_type": "code",
   "execution_count": 12,
   "metadata": {},
   "outputs": [],
   "source": [
    "import numpy as np\n",
    "import collections\n",
    "\n",
    "def build_dict(data, vocab_size = 5000):\n",
    "    \"\"\"Construct and return a dictionary mapping each of the most frequently appearing words to a unique integer.\"\"\"\n",
    "    \n",
    "    # TODO: Determine how often each word appears in `data`. Note that `data` is a list of sentences and that a\n",
    "    #       sentence is a list of words.\n",
    "    \n",
    "    word_count = {} # A dict storing the words that appear in the reviews along with how often they occur\n",
    "    word_count=collections.Counter()\n",
    "    for line in data:\n",
    "        for word in line:\n",
    "            word_count[word] +=1\n",
    "    \n",
    "    \n",
    "    # TODO: Sort the words found in `data` so that sorted_words[0] is the most frequently appearing word and\n",
    "    #       sorted_words[-1] is the least frequently appearing word.\n",
    "    \n",
    "    sorted_words = [word for word in sorted(word_count, key=word_count.get, reverse=True)]\n",
    "    \n",
    "    word_dict = {} # This is what we are building, a dictionary that translates words into integers\n",
    "    for idx, word in enumerate(sorted_words[:vocab_size - 2]): # The -2 is so that we save room for the 'no word'\n",
    "        word_dict[word] = idx + 2                              # 'infrequent' labels\n",
    "        \n",
    "    return word_dict"
   ]
  },
  {
   "cell_type": "code",
   "execution_count": 13,
   "metadata": {},
   "outputs": [
    {
     "name": "stdout",
     "output_type": "stream",
     "text": [
      "{'movi': 2, 'film': 3, 'one': 4, 'like': 5, 'time': 6, 'good': 7, 'make': 8, 'charact': 9, 'get': 10, 'see': 11, 'watch': 12, 'stori': 13, 'even': 14, 'would': 15, 'realli': 16, 'well': 17, 'scene': 18, 'look': 19, 'show': 20, 'much': 21, 'end': 22, 'peopl': 23, 'bad': 24, 'go': 25, 'great': 26, 'also': 27, 'first': 28, 'love': 29, 'think': 30, 'way': 31, 'act': 32, 'play': 33, 'made': 34, 'thing': 35, 'could': 36, 'know': 37, 'say': 38, 'seem': 39, 'work': 40, 'plot': 41, 'two': 42, 'actor': 43, 'year': 44, 'come': 45, 'mani': 46, 'seen': 47, 'take': 48, 'life': 49, 'want': 50, 'never': 51, 'littl': 52, 'best': 53, 'tri': 54, 'man': 55, 'ever': 56, 'give': 57, 'better': 58, 'still': 59, 'perform': 60, 'find': 61, 'feel': 62, 'part': 63, 'back': 64, 'use': 65, 'someth': 66, 'director': 67, 'actual': 68, 'interest': 69, 'lot': 70, 'real': 71, 'old': 72, 'cast': 73, 'though': 74, 'live': 75, 'star': 76, 'enjoy': 77, 'guy': 78, 'anoth': 79, 'new': 80, 'role': 81, 'noth': 82, '10': 83, 'funni': 84, 'music': 85, 'point': 86, 'start': 87, 'set': 88, 'girl': 89, 'origin': 90, 'day': 91, 'world': 92, 'everi': 93, 'believ': 94, 'turn': 95, 'quit': 96, 'us': 97, 'direct': 98, 'thought': 99, 'fact': 100, 'minut': 101, 'horror': 102, 'kill': 103, 'action': 104, 'comedi': 105, 'pretti': 106, 'young': 107, 'wonder': 108, 'happen': 109, 'around': 110, 'got': 111, 'effect': 112, 'right': 113, 'long': 114, 'howev': 115, 'big': 116, 'line': 117, 'famili': 118, 'enough': 119, 'seri': 120, 'may': 121, 'need': 122, 'fan': 123, 'bit': 124, 'script': 125, 'beauti': 126, 'person': 127, 'becom': 128, 'without': 129, 'must': 130, 'alway': 131, 'friend': 132, 'tell': 133, 'reason': 134, 'saw': 135, 'last': 136, 'final': 137, 'kid': 138, 'almost': 139, 'put': 140, 'least': 141, 'sure': 142, 'done': 143, 'whole': 144, 'place': 145, 'complet': 146, 'kind': 147, 'expect': 148, 'differ': 149, 'shot': 150, 'far': 151, 'mean': 152, 'anyth': 153, 'book': 154, 'laugh': 155, 'might': 156, 'name': 157, 'sinc': 158, 'begin': 159, '2': 160, 'probabl': 161, 'woman': 162, 'help': 163, 'entertain': 164, 'let': 165, 'screen': 166, 'call': 167, 'tv': 168, 'moment': 169, 'away': 170, 'read': 171, 'yet': 172, 'rather': 173, 'worst': 174, 'run': 175, 'fun': 176, 'lead': 177, 'hard': 178, 'audienc': 179, 'idea': 180, 'anyon': 181, 'episod': 182, 'american': 183, 'found': 184, 'appear': 185, 'bore': 186, 'especi': 187, 'although': 188, 'hope': 189, 'keep': 190, 'cours': 191, 'anim': 192, 'job': 193, 'goe': 194, 'move': 195, 'sens': 196, 'version': 197, 'dvd': 198, 'war': 199, 'money': 200, 'someon': 201, 'mind': 202, 'mayb': 203, 'problem': 204, 'true': 205, 'hous': 206, 'everyth': 207, 'nice': 208, 'second': 209, 'rate': 210, 'three': 211, 'night': 212, 'face': 213, 'follow': 214, 'recommend': 215, 'main': 216, 'product': 217, 'worth': 218, 'leav': 219, 'human': 220, 'special': 221, 'excel': 222, 'togeth': 223, 'wast': 224, 'everyon': 225, 'sound': 226, 'john': 227, 'hand': 228, '1': 229, 'father': 230, 'later': 231, 'eye': 232, 'said': 233, 'view': 234, 'instead': 235, 'review': 236, 'boy': 237, 'high': 238, 'hour': 239, 'miss': 240, 'talk': 241, 'classic': 242, 'wife': 243, 'understand': 244, 'left': 245, 'care': 246, 'black': 247, 'death': 248, 'open': 249, 'murder': 250, 'write': 251, 'half': 252, 'head': 253, 'rememb': 254, 'chang': 255, 'viewer': 256, 'fight': 257, 'gener': 258, 'surpris': 259, 'includ': 260, 'short': 261, 'die': 262, 'fall': 263, 'less': 264, 'els': 265, 'entir': 266, 'piec': 267, 'involv': 268, 'pictur': 269, 'simpli': 270, 'top': 271, 'home': 272, 'power': 273, 'total': 274, 'usual': 275, 'budget': 276, 'attempt': 277, 'suppos': 278, 'releas': 279, 'hollywood': 280, 'terribl': 281, 'song': 282, 'men': 283, 'possibl': 284, 'featur': 285, 'portray': 286, 'disappoint': 287, '3': 288, 'poor': 289, 'coupl': 290, 'camera': 291, 'stupid': 292, 'dead': 293, 'wrong': 294, 'low': 295, 'produc': 296, 'either': 297, 'video': 298, 'aw': 299, 'definit': 300, 'except': 301, 'rest': 302, 'given': 303, 'absolut': 304, 'women': 305, 'lack': 306, 'word': 307, 'writer': 308, 'titl': 309, 'talent': 310, 'decid': 311, 'full': 312, 'perfect': 313, 'along': 314, 'style': 315, 'close': 316, 'truli': 317, 'school': 318, 'save': 319, 'emot': 320, 'age': 321, 'sex': 322, 'next': 323, 'bring': 324, 'mr': 325, 'case': 326, 'killer': 327, 'heart': 328, 'comment': 329, 'sort': 330, 'creat': 331, 'perhap': 332, 'came': 333, 'brother': 334, 'sever': 335, 'joke': 336, 'art': 337, 'dialogu': 338, 'game': 339, 'small': 340, 'base': 341, 'flick': 342, 'written': 343, 'sequenc': 344, 'meet': 345, 'earli': 346, 'often': 347, 'other': 348, 'mother': 349, 'develop': 350, 'humor': 351, 'actress': 352, 'consid': 353, 'dark': 354, 'guess': 355, 'amaz': 356, 'unfortun': 357, 'lost': 358, 'light': 359, 'exampl': 360, 'cinema': 361, 'drama': 362, 'ye': 363, 'white': 364, 'experi': 365, 'imagin': 366, 'mention': 367, 'stop': 368, 'natur': 369, 'forc': 370, 'manag': 371, 'felt': 372, 'cut': 373, 'present': 374, 'children': 375, 'fail': 376, 'son': 377, 'qualiti': 378, 'car': 379, 'support': 380, 'ask': 381, 'hit': 382, 'side': 383, 'voic': 384, 'extrem': 385, 'impress': 386, 'evil': 387, 'wors': 388, 'stand': 389, 'went': 390, 'certainli': 391, 'basic': 392, 'oh': 393, 'overal': 394, 'favorit': 395, 'horribl': 396, 'mysteri': 397, 'number': 398, 'type': 399, 'danc': 400, 'wait': 401, 'hero': 402, 'alreadi': 403, '5': 404, 'learn': 405, 'matter': 406, '4': 407, 'michael': 408, 'genr': 409, 'fine': 410, 'despit': 411, 'throughout': 412, 'walk': 413, 'success': 414, 'histori': 415, 'question': 416, 'zombi': 417, 'town': 418, 'realiz': 419, 'relationship': 420, 'past': 421, 'child': 422, 'daughter': 423, 'late': 424, 'b': 425, 'wish': 426, 'hate': 427, 'credit': 428, 'event': 429, 'theme': 430, 'touch': 431, 'citi': 432, 'today': 433, 'sometim': 434, 'behind': 435, 'god': 436, 'twist': 437, 'sit': 438, 'annoy': 439, 'stay': 440, 'deal': 441, 'abl': 442, 'rent': 443, 'pleas': 444, 'edit': 445, 'blood': 446, 'deserv': 447, 'anyway': 448, 'comic': 449, 'appar': 450, 'soon': 451, 'gave': 452, 'etc': 453, 'level': 454, 'slow': 455, 'chanc': 456, 'score': 457, 'bodi': 458, 'brilliant': 459, 'incred': 460, 'figur': 461, 'situat': 462, 'major': 463, 'self': 464, 'stuff': 465, 'decent': 466, 'element': 467, 'return': 468, 'dream': 469, 'obvious': 470, 'order': 471, 'continu': 472, 'pace': 473, 'ridicul': 474, 'happi': 475, 'group': 476, 'add': 477, 'highli': 478, 'thank': 479, 'ladi': 480, 'novel': 481, 'speak': 482, 'pain': 483, 'career': 484, 'shoot': 485, 'strang': 486, 'heard': 487, 'sad': 488, 'polic': 489, 'husband': 490, 'import': 491, 'break': 492, 'took': 493, 'strong': 494, 'cannot': 495, 'predict': 496, 'robert': 497, 'violenc': 498, 'hilari': 499, 'recent': 500, 'countri': 501, 'known': 502, 'particularli': 503, 'pick': 504, 'documentari': 505, 'season': 506, 'critic': 507, 'jame': 508, 'compar': 509, 'obviou': 510, 'alon': 511, 'told': 512, 'state': 513, 'rock': 514, 'visual': 515, 'offer': 516, 'theater': 517, 'exist': 518, 'opinion': 519, 'gore': 520, 'hold': 521, 'crap': 522, 'result': 523, 'hear': 524, 'room': 525, 'realiti': 526, 'clich': 527, 'effort': 528, 'thriller': 529, 'caus': 530, 'sequel': 531, 'explain': 532, 'serious': 533, 'king': 534, 'local': 535, 'ago': 536, 'none': 537, 'hell': 538, 'note': 539, 'allow': 540, 'sister': 541, 'david': 542, 'simpl': 543, 'femal': 544, 'deliv': 545, 'ok': 546, 'convinc': 547, 'class': 548, 'check': 549, 'suspens': 550, 'win': 551, 'oscar': 552, 'buy': 553, 'huge': 554, 'valu': 555, 'sexual': 556, 'scari': 557, 'cool': 558, 'excit': 559, 'similar': 560, 'exactli': 561, 'provid': 562, 'apart': 563, 'avoid': 564, 'shown': 565, 'seriou': 566, 'english': 567, 'taken': 568, 'whose': 569, 'cinematographi': 570, 'shock': 571, 'polit': 572, 'spoiler': 573, 'offic': 574, 'across': 575, 'middl': 576, 'pass': 577, 'street': 578, 'messag': 579, 'charm': 580, 'somewhat': 581, 'silli': 582, 'modern': 583, 'confus': 584, 'filmmak': 585, 'form': 586, 'tale': 587, 'singl': 588, 'jack': 589, 'mostli': 590, 'carri': 591, 'attent': 592, 'william': 593, 'sing': 594, 'five': 595, 'subject': 596, 'richard': 597, 'prove': 598, 'team': 599, 'stage': 600, 'unlik': 601, 'cop': 602, 'georg': 603, 'monster': 604, 'televis': 605, 'earth': 606, 'villain': 607, 'cover': 608, 'pay': 609, 'marri': 610, 'toward': 611, 'build': 612, 'pull': 613, 'parent': 614, 'due': 615, 'respect': 616, 'fill': 617, 'four': 618, 'dialog': 619, 'remind': 620, 'futur': 621, 'weak': 622, 'typic': 623, '7': 624, 'cheap': 625, 'intellig': 626, 'british': 627, 'atmospher': 628, '80': 629, 'clearli': 630, 'paul': 631, 'non': 632, 'dog': 633, 'fast': 634, '8': 635, 'artist': 636, 'knew': 637, 'crime': 638, 'easili': 639, 'escap': 640, 'doubt': 641, 'adult': 642, 'detail': 643, 'date': 644, 'romant': 645, 'fire': 646, 'member': 647, 'gun': 648, 'drive': 649, 'straight': 650, 'beyond': 651, 'fit': 652, 'attack': 653, 'imag': 654, 'upon': 655, 'posit': 656, 'whether': 657, 'peter': 658, 'fantast': 659, 'captur': 660, 'appreci': 661, 'aspect': 662, 'ten': 663, 'plan': 664, 'discov': 665, 'remain': 666, 'near': 667, 'period': 668, 'air': 669, 'realist': 670, 'mark': 671, 'red': 672, 'dull': 673, 'adapt': 674, 'within': 675, 'lose': 676, 'spend': 677, 'color': 678, 'materi': 679, 'chase': 680, 'mari': 681, 'storylin': 682, 'forget': 683, 'bunch': 684, 'clear': 685, 'lee': 686, 'victim': 687, 'nearli': 688, 'box': 689, 'york': 690, 'inspir': 691, 'match': 692, 'finish': 693, 'mess': 694, 'standard': 695, 'easi': 696, 'truth': 697, 'busi': 698, 'suffer': 699, 'bill': 700, 'space': 701, 'dramat': 702, 'western': 703, 'e': 704, 'list': 705, 'battl': 706, 'notic': 707, 'de': 708, 'french': 709, 'ad': 710, '9': 711, 'tom': 712, 'larg': 713, 'among': 714, 'eventu': 715, 'accept': 716, 'train': 717, 'agre': 718, 'spirit': 719, 'soundtrack': 720, 'third': 721, 'teenag': 722, 'adventur': 723, 'soldier': 724, 'drug': 725, 'suggest': 726, 'famou': 727, 'sorri': 728, 'normal': 729, 'cri': 730, 'babi': 731, 'ultim': 732, 'troubl': 733, 'contain': 734, 'certain': 735, 'cultur': 736, 'romanc': 737, 'rare': 738, 'lame': 739, 'somehow': 740, 'disney': 741, 'mix': 742, 'gone': 743, 'cartoon': 744, 'student': 745, 'reveal': 746, 'fear': 747, 'kept': 748, 'suck': 749, 'attract': 750, 'appeal': 751, 'premis': 752, 'design': 753, 'secret': 754, 'greatest': 755, 'shame': 756, 'throw': 757, 'copi': 758, 'scare': 759, 'wit': 760, 'admit': 761, 'america': 762, 'brought': 763, 'particular': 764, 'relat': 765, 'screenplay': 766, 'whatev': 767, 'pure': 768, '70': 769, 'harri': 770, 'averag': 771, 'master': 772, 'describ': 773, 'treat': 774, 'male': 775, '20': 776, 'fantasi': 777, 'issu': 778, 'warn': 779, 'inde': 780, 'forward': 781, 'background': 782, 'free': 783, 'project': 784, 'memor': 785, 'japanes': 786, 'poorli': 787, 'award': 788, 'locat': 789, 'amus': 790, 'potenti': 791, 'struggl': 792, 'magic': 793, 'weird': 794, 'societi': 795, 'okay': 796, 'accent': 797, 'doctor': 798, 'imdb': 799, 'hot': 800, 'water': 801, 'dr': 802, 'express': 803, 'alien': 804, '30': 805, 'odd': 806, 'crazi': 807, 'choic': 808, 'studio': 809, 'fiction': 810, 'control': 811, 'becam': 812, 'masterpiec': 813, 'fli': 814, 'difficult': 815, 'joe': 816, 'scream': 817, 'costum': 818, 'lover': 819, 'uniqu': 820, 'refer': 821, 'remak': 822, 'girlfriend': 823, 'vampir': 824, 'prison': 825, 'execut': 826, 'wear': 827, 'jump': 828, 'unless': 829, 'wood': 830, 'creepi': 831, 'cheesi': 832, 'superb': 833, 'otherwis': 834, 'parti': 835, 'ghost': 836, 'roll': 837, 'mad': 838, 'public': 839, 'depict': 840, 'week': 841, 'jane': 842, 'earlier': 843, 'badli': 844, 'moral': 845, 'fi': 846, 'dumb': 847, 'grow': 848, 'flaw': 849, 'sci': 850, 'deep': 851, 'cat': 852, 'maker': 853, 'connect': 854, 'older': 855, 'footag': 856, 'plenti': 857, 'bother': 858, 'outsid': 859, 'stick': 860, 'gay': 861, 'catch': 862, 'co': 863, 'plu': 864, 'popular': 865, 'equal': 866, 'social': 867, 'quickli': 868, 'disturb': 869, 'perfectli': 870, 'dress': 871, 'era': 872, '90': 873, 'mistak': 874, 'lie': 875, 'ride': 876, 'previou': 877, 'combin': 878, 'band': 879, 'concept': 880, 'surviv': 881, 'answer': 882, 'rich': 883, 'front': 884, 'sweet': 885, 'christma': 886, 'insid': 887, 'concern': 888, 'bare': 889, 'eat': 890, 'listen': 891, 'beat': 892, 'ben': 893, 'c': 894, 'serv': 895, 'term': 896, 'meant': 897, 'german': 898, 'la': 899, 'stereotyp': 900, 'hardli': 901, 'innoc': 902, 'law': 903, 'desper': 904, 'memori': 905, 'promis': 906, 'cute': 907, 'intent': 908, 'variou': 909, 'steal': 910, 'inform': 911, 'brain': 912, 'post': 913, 'tone': 914, 'island': 915, 'amount': 916, 'nuditi': 917, 'track': 918, 'compani': 919, 'claim': 920, 'store': 921, '50': 922, 'hair': 923, 'flat': 924, 'land': 925, 'univers': 926, 'fairli': 927, 'scott': 928, 'kick': 929, 'danger': 930, 'player': 931, 'step': 932, 'crew': 933, 'plain': 934, 'toni': 935, 'share': 936, 'tast': 937, 'centuri': 938, 'achiev': 939, 'engag': 940, 'cold': 941, 'travel': 942, 'rip': 943, 'record': 944, 'suit': 945, 'sadli': 946, 'manner': 947, 'wrote': 948, 'tension': 949, 'spot': 950, 'intens': 951, 'fascin': 952, 'familiar': 953, 'remark': 954, 'depth': 955, 'burn': 956, 'histor': 957, 'destroy': 958, 'sleep': 959, 'purpos': 960, 'languag': 961, 'ruin': 962, 'ignor': 963, 'delight': 964, 'italian': 965, 'unbeliev': 966, 'abil': 967, 'soul': 968, 'collect': 969, 'detect': 970, 'clever': 971, 'violent': 972, 'rape': 973, 'reach': 974, 'door': 975, 'liter': 976, 'trash': 977, 'scienc': 978, 'reveng': 979, 'commun': 980, 'caught': 981, 'creatur': 982, 'trip': 983, 'approach': 984, 'intrigu': 985, 'fashion': 986, 'skill': 987, 'introduc': 988, 'paint': 989, 'complex': 990, 'channel': 991, 'camp': 992, 'christian': 993, 'extra': 994, 'hole': 995, 'ann': 996, 'immedi': 997, 'limit': 998, 'mental': 999, 'slightli': 1000, '6': 1001, 'million': 1002, 'mere': 1003, 'comput': 1004, 'slasher': 1005, 'conclus': 1006, 'suddenli': 1007, 'imposs': 1008, 'teen': 1009, 'crimin': 1010, 'neither': 1011, 'spent': 1012, 'nation': 1013, 'physic': 1014, 'respons': 1015, 'planet': 1016, 'receiv': 1017, 'fake': 1018, 'sick': 1019, 'blue': 1020, 'bizarr': 1021, 'embarrass': 1022, 'indian': 1023, 'ring': 1024, '15': 1025, 'drop': 1026, 'pop': 1027, 'drag': 1028, 'haunt': 1029, 'suspect': 1030, 'pointless': 1031, 'search': 1032, 'edg': 1033, 'handl': 1034, 'common': 1035, 'biggest': 1036, 'hurt': 1037, 'arriv': 1038, 'faith': 1039, 'technic': 1040, 'angel': 1041, 'genuin': 1042, 'dad': 1043, 'solid': 1044, 'awesom': 1045, 'f': 1046, 'colleg': 1047, 'van': 1048, 'former': 1049, 'focu': 1050, 'count': 1051, 'tear': 1052, 'heavi': 1053, 'wall': 1054, 'rais': 1055, 'laughabl': 1056, 'visit': 1057, 'younger': 1058, 'fair': 1059, 'excus': 1060, 'sign': 1061, 'cult': 1062, 'tough': 1063, 'motion': 1064, 'key': 1065, 'desir': 1066, 'super': 1067, 'addit': 1068, 'stun': 1069, 'exploit': 1070, 'cloth': 1071, 'tortur': 1072, 'smith': 1073, 'davi': 1074, 'race': 1075, 'author': 1076, 'cross': 1077, 'jim': 1078, 'minor': 1079, 'compel': 1080, 'consist': 1081, 'focus': 1082, 'pathet': 1083, 'commit': 1084, 'chemistri': 1085, 'park': 1086, 'obsess': 1087, 'frank': 1088, 'tradit': 1089, 'grade': 1090, '60': 1091, 'asid': 1092, 'brutal': 1093, 'steve': 1094, 'somewher': 1095, 'depress': 1096, 'grant': 1097, 'u': 1098, 'explor': 1099, 'opportun': 1100, 'rule': 1101, 'besid': 1102, 'honest': 1103, 'dub': 1104, 'anti': 1105, 'trailer': 1106, 'intend': 1107, 'bar': 1108, 'regard': 1109, 'west': 1110, 'scientist': 1111, 'longer': 1112, 'decad': 1113, 'judg': 1114, 'silent': 1115, 'armi': 1116, 'creativ': 1117, 'wild': 1118, 'g': 1119, 'stewart': 1120, 'south': 1121, 'draw': 1122, 'road': 1123, 'govern': 1124, 'ex': 1125, 'boss': 1126, 'practic': 1127, 'motiv': 1128, 'surprisingli': 1129, 'festiv': 1130, 'gang': 1131, 'club': 1132, 'redeem': 1133, 'london': 1134, 'green': 1135, 'page': 1136, 'aliv': 1137, 'idiot': 1138, 'display': 1139, 'militari': 1140, 'machin': 1141, 'repeat': 1142, 'thrill': 1143, 'yeah': 1144, 'nobodi': 1145, 'folk': 1146, '100': 1147, '40': 1148, 'garbag': 1149, 'journey': 1150, 'smile': 1151, 'tire': 1152, 'ground': 1153, 'mood': 1154, 'bought': 1155, 'stone': 1156, 'cost': 1157, 'sam': 1158, 'mouth': 1159, 'noir': 1160, 'terrif': 1161, 'agent': 1162, 'requir': 1163, 'utterli': 1164, 'area': 1165, 'sexi': 1166, 'honestli': 1167, 'geniu': 1168, 'report': 1169, 'investig': 1170, 'enter': 1171, 'humour': 1172, 'glad': 1173, 'serial': 1174, 'narr': 1175, 'occasion': 1176, 'passion': 1177, 'climax': 1178, 'marriag': 1179, 'studi': 1180, 'industri': 1181, 'charli': 1182, 'ship': 1183, 'center': 1184, 'nowher': 1185, 'demon': 1186, 'loos': 1187, 'hors': 1188, 'bear': 1189, 'wow': 1190, 'hang': 1191, 'graphic': 1192, 'admir': 1193, 'giant': 1194, 'send': 1195, 'loud': 1196, 'damn': 1197, 'nake': 1198, 'profession': 1199, 'subtl': 1200, 'rel': 1201, 'blow': 1202, 'bottom': 1203, 'batman': 1204, 'insult': 1205, 'doubl': 1206, 'r': 1207, 'boyfriend': 1208, 'kelli': 1209, 'initi': 1210, 'frame': 1211, 'opera': 1212, 'gem': 1213, 'church': 1214, 'affect': 1215, 'challeng': 1216, 'cinemat': 1217, 'drawn': 1218, 'j': 1219, 'l': 1220, 'seek': 1221, 'evid': 1222, 'nightmar': 1223, 'fulli': 1224, 'conflict': 1225, 'arm': 1226, 'essenti': 1227, 'wind': 1228, 'christoph': 1229, 'henri': 1230, 'grace': 1231, 'assum': 1232, 'witch': 1233, 'narrat': 1234, 'push': 1235, 'hunt': 1236, 'wise': 1237, 'chri': 1238, 'nomin': 1239, 'month': 1240, 'repres': 1241, 'affair': 1242, 'hide': 1243, 'sceneri': 1244, 'avail': 1245, 'smart': 1246, 'justic': 1247, 'bond': 1248, 'thu': 1249, 'interview': 1250, 'outstand': 1251, 'flashback': 1252, 'presenc': 1253, 'satisfi': 1254, 'constantli': 1255, 'central': 1256, 'bed': 1257, 'sell': 1258, 'iron': 1259, 'content': 1260, 'everybodi': 1261, 'gag': 1262, 'slowli': 1263, 'hotel': 1264, 'hire': 1265, 'system': 1266, 'hey': 1267, 'individu': 1268, 'charl': 1269, 'adam': 1270, 'thrown': 1271, 'allen': 1272, 'jone': 1273, 'mediocr': 1274, 'ray': 1275, 'billi': 1276, 'lesson': 1277, 'cameo': 1278, 'photographi': 1279, 'fellow': 1280, 'pari': 1281, 'strike': 1282, 'independ': 1283, 'absurd': 1284, 'rise': 1285, 'brief': 1286, 'neg': 1287, 'phone': 1288, 'impact': 1289, 'born': 1290, 'model': 1291, 'ill': 1292, 'fresh': 1293, 'angl': 1294, 'spoil': 1295, 'likabl': 1296, 'abus': 1297, 'hill': 1298, 'discuss': 1299, 'ahead': 1300, 'sight': 1301, 'photograph': 1302, 'sent': 1303, 'logic': 1304, 'shine': 1305, 'blame': 1306, 'occur': 1307, 'bruce': 1308, 'mainli': 1309, 'forev': 1310, 'commerci': 1311, 'skip': 1312, 'teacher': 1313, 'segment': 1314, 'held': 1315, 'surround': 1316, 'zero': 1317, 'blond': 1318, 'summer': 1319, 'resembl': 1320, 'satir': 1321, 'trap': 1322, 'queen': 1323, 'ball': 1324, 'six': 1325, 'fool': 1326, 'sub': 1327, 'twice': 1328, 'tragedi': 1329, 'reaction': 1330, 'pack': 1331, 'bomb': 1332, 'protagonist': 1333, 'will': 1334, 'hospit': 1335, 'mile': 1336, 'sport': 1337, 'trust': 1338, 'jerri': 1339, 'drink': 1340, 'vote': 1341, 'mom': 1342, 'encount': 1343, 'plane': 1344, 'current': 1345, 'al': 1346, 'program': 1347, 'station': 1348, 'celebr': 1349, 'martin': 1350, 'choos': 1351, 'join': 1352, 'round': 1353, 'tragic': 1354, 'field': 1355, 'lord': 1356, 'favourit': 1357, 'jean': 1358, 'vision': 1359, 'robot': 1360, 'arthur': 1361, 'tie': 1362, 'fortun': 1363, 'roger': 1364, 'random': 1365, 'intern': 1366, 'dread': 1367, 'psycholog': 1368, 'improv': 1369, 'prefer': 1370, 'epic': 1371, 'nonsens': 1372, 'formula': 1373, 'legend': 1374, 'highlight': 1375, 'pleasur': 1376, 'tape': 1377, '11': 1378, 'dollar': 1379, 'gorgeou': 1380, 'wide': 1381, 'porn': 1382, 'thin': 1383, 'fox': 1384, 'object': 1385, 'ugli': 1386, 'influenc': 1387, 'buddi': 1388, 'prepar': 1389, 'nasti': 1390, 'ii': 1391, 'supposedli': 1392, 'warm': 1393, 'progress': 1394, 'reflect': 1395, 'worthi': 1396, 'youth': 1397, 'latter': 1398, 'unusu': 1399, 'length': 1400, 'crash': 1401, 'superior': 1402, 'childhood': 1403, 'seven': 1404, 'shop': 1405, 'theatr': 1406, 'remot': 1407, 'paid': 1408, 'disgust': 1409, 'funniest': 1410, 'pilot': 1411, 'trick': 1412, 'convers': 1413, 'fell': 1414, 'castl': 1415, 'rob': 1416, 'disast': 1417, 'establish': 1418, 'gangster': 1419, 'disappear': 1420, 'ident': 1421, 'heaven': 1422, 'mine': 1423, 'suicid': 1424, 'decis': 1425, 'mask': 1426, 'forgotten': 1427, 'singer': 1428, 'tend': 1429, 'heroin': 1430, 'brian': 1431, 'partner': 1432, 'recogn': 1433, 'desert': 1434, 'alan': 1435, 'thoroughli': 1436, 'stuck': 1437, 'ms': 1438, 'sky': 1439, 'p': 1440, 'accur': 1441, 'replac': 1442, 'market': 1443, 'clue': 1444, 'seemingli': 1445, 'commentari': 1446, 'andi': 1447, 'eddi': 1448, 'danni': 1449, 'uncl': 1450, 'jackson': 1451, 'devil': 1452, 'pair': 1453, 'refus': 1454, 'that': 1455, 'therefor': 1456, 'fate': 1457, 'accid': 1458, 'fault': 1459, 'unit': 1460, 'river': 1461, 'ed': 1462, 'afraid': 1463, 'tune': 1464, 'stephen': 1465, 'clean': 1466, 'russian': 1467, 'hidden': 1468, 'irrit': 1469, 'captain': 1470, 'test': 1471, 'convey': 1472, 'quick': 1473, 'instanc': 1474, 'readi': 1475, 'european': 1476, 'insan': 1477, 'frustrat': 1478, 'daniel': 1479, 'rescu': 1480, '1950': 1481, 'wed': 1482, 'food': 1483, 'chines': 1484, 'lock': 1485, 'angri': 1486, 'dirti': 1487, 'joy': 1488, 'price': 1489, 'steven': 1490, 'cage': 1491, 'bland': 1492, 'anymor': 1493, 'rang': 1494, 'wooden': 1495, 'rush': 1496, 'jason': 1497, 'news': 1498, 'n': 1499, '12': 1500, 'led': 1501, 'worri': 1502, 'twenti': 1503, 'board': 1504, 'martial': 1505, 'hunter': 1506, 'cgi': 1507, 'transform': 1508, 'symbol': 1509, 'x': 1510, 'johnni': 1511, 'invent': 1512, 'sentiment': 1513, 'onto': 1514, 'piti': 1515, 'attitud': 1516, 'explan': 1517, 'process': 1518, 'awar': 1519, 'owner': 1520, 'aim': 1521, 'energi': 1522, 'necessari': 1523, 'target': 1524, 'favor': 1525, 'floor': 1526, 'religi': 1527, 'opposit': 1528, 'chick': 1529, 'blind': 1530, 'window': 1531, 'insight': 1532, 'movement': 1533, 'comparison': 1534, 'possess': 1535, 'research': 1536, 'deepli': 1537, 'mountain': 1538, 'rain': 1539, 'whatsoev': 1540, 'grand': 1541, 'comed': 1542, 'mid': 1543, 'shadow': 1544, 'bank': 1545, 'began': 1546, 'parodi': 1547, 'princ': 1548, 'credibl': 1549, 'friendship': 1550, 'weapon': 1551, 'pre': 1552, 'taylor': 1553, 'flesh': 1554, 'dougla': 1555, 'teach': 1556, 'hint': 1557, 'bloodi': 1558, 'terror': 1559, 'protect': 1560, 'marvel': 1561, 'leader': 1562, 'accord': 1563, 'drunk': 1564, 'load': 1565, 'watchabl': 1566, 'anybodi': 1567, 'superman': 1568, 'brown': 1569, 'freddi': 1570, 'appropri': 1571, 'jeff': 1572, 'tim': 1573, 'seat': 1574, 'hitler': 1575, 'charg': 1576, 'knock': 1577, 'keaton': 1578, 'villag': 1579, 'unknown': 1580, 'unnecessari': 1581, 'media': 1582, 'empti': 1583, 'england': 1584, 'enemi': 1585, 'buck': 1586, 'dare': 1587, 'craft': 1588, 'strength': 1589, 'utter': 1590, 'wave': 1591, 'perspect': 1592, 'contrast': 1593, 'nativ': 1594, 'ford': 1595, 'correct': 1596, 'kiss': 1597, 'knowledg': 1598, 'chill': 1599, 'speed': 1600, 'soap': 1601, 'distract': 1602, 'anywher': 1603, 'nazi': 1604, 'magnific': 1605, 'breath': 1606, '1980': 1607, 'fred': 1608, 'ice': 1609, 'mission': 1610, 'jr': 1611, 'crowd': 1612, 'joan': 1613, 'moon': 1614, 'frighten': 1615, 'soft': 1616, 'kate': 1617, '000': 1618, 'dan': 1619, 'nick': 1620, 'dick': 1621, 'hundr': 1622, 'simon': 1623, 'dozen': 1624, 'somebodi': 1625, 'radio': 1626, 'loss': 1627, 'shakespear': 1628, 'andrew': 1629, 'thousand': 1630, 'academi': 1631, 'vehicl': 1632, 'quot': 1633, 'account': 1634, 'sum': 1635, 'root': 1636, 'convent': 1637, 'behavior': 1638, 'leg': 1639, '1970': 1640, 'regular': 1641, 'gold': 1642, 'pretenti': 1643, 'compet': 1644, 'demand': 1645, 'worker': 1646, 'stretch': 1647, 'candi': 1648, 'privat': 1649, 'interpret': 1650, 'japan': 1651, 'explos': 1652, 'notabl': 1653, 'lynch': 1654, 'debut': 1655, 'constant': 1656, 'tarzan': 1657, 'prais': 1658, 'translat': 1659, 'revolv': 1660, 'spi': 1661, 'sea': 1662, 'quiet': 1663, 'threaten': 1664, 'technolog': 1665, 'ass': 1666, 'failur': 1667, 'sat': 1668, 'franc': 1669, 'jesu': 1670, 'higher': 1671, 'toy': 1672, 'kevin': 1673, 'aid': 1674, 'punch': 1675, 'met': 1676, 'vh': 1677, 'interact': 1678, 'abandon': 1679, 'mike': 1680, 'separ': 1681, 'confront': 1682, 'command': 1683, 'bet': 1684, 'recal': 1685, 'stunt': 1686, 'techniqu': 1687, 'belong': 1688, 'gotten': 1689, 'servic': 1690, 'site': 1691, 'freak': 1692, 'cabl': 1693, 'bug': 1694, 'foot': 1695, 'bright': 1696, 'capabl': 1697, 'african': 1698, 'jimmi': 1699, 'fu': 1700, 'boat': 1701, 'presid': 1702, 'succeed': 1703, 'clark': 1704, 'fat': 1705, 'stock': 1706, 'structur': 1707, 'gene': 1708, 'spanish': 1709, 'kidnap': 1710, 'paper': 1711, 'whilst': 1712, 'belief': 1713, 'factor': 1714, 'attend': 1715, 'complic': 1716, 'tree': 1717, 'witti': 1718, 'realis': 1719, 'realism': 1720, 'bob': 1721, 'educ': 1722, 'santa': 1723, 'assist': 1724, 'finest': 1725, 'broken': 1726, 'observ': 1727, 'depart': 1728, 'up': 1729, 'v': 1730, 'smoke': 1731, 'determin': 1732, 'fame': 1733, 'domin': 1734, 'hat': 1735, 'lewi': 1736, 'oper': 1737, 'rubbish': 1738, 'routin': 1739, 'safe': 1740, 'hook': 1741, 'advanc': 1742, 'kinda': 1743, 'morgan': 1744, 'lone': 1745, 'foreign': 1746, 'numer': 1747, 'rank': 1748, 'civil': 1749, 'rose': 1750, 'shape': 1751, 'vs': 1752, 'shallow': 1753, 'werewolf': 1754, 'washington': 1755, 'gari': 1756, 'morn': 1757, 'kong': 1758, 'winner': 1759, 'ordinari': 1760, 'accomplish': 1761, 'grab': 1762, 'whenev': 1763, 'peac': 1764, 'virtual': 1765, 'luck': 1766, 'offens': 1767, 'h': 1768, 'contriv': 1769, 'activ': 1770, 'complain': 1771, 'welcom': 1772, 'unfunni': 1773, 'patient': 1774, 'bigger': 1775, 'con': 1776, 'pretend': 1777, 'dimension': 1778, 'trek': 1779, 'flash': 1780, 'cain': 1781, 'code': 1782, 'dri': 1783, 'lesbian': 1784, 'wake': 1785, 'eric': 1786, 'statu': 1787, 'manipul': 1788, 'guard': 1789, 'corrupt': 1790, 'dancer': 1791, 'albert': 1792, 'gain': 1793, 'sourc': 1794, 'context': 1795, 'signific': 1796, 'speech': 1797, 'awkward': 1798, 'psycho': 1799, 'clip': 1800, 'anthoni': 1801, 'corni': 1802, '13': 1803, 'sean': 1804, 'advic': 1805, 'theatric': 1806, 'w': 1807, 'curiou': 1808, 'priest': 1809, 'reli': 1810, 'religion': 1811, 'addict': 1812, 'flow': 1813, 'howard': 1814, 'secur': 1815, 'specif': 1816, 'jennif': 1817, 'skin': 1818, 'asian': 1819, 'core': 1820, 'luke': 1821, 'comfort': 1822, 'promot': 1823, 'golden': 1824, 'organ': 1825, 'lucki': 1826, 'cheat': 1827, 'cash': 1828, 'dislik': 1829, 'lower': 1830, 'associ': 1831, 'spell': 1832, 'degre': 1833, 'contribut': 1834, 'frankli': 1835, 'frequent': 1836, 'regret': 1837, 'devic': 1838, 'wing': 1839, 'balanc': 1840, 'lake': 1841, 'print': 1842, 'sake': 1843, 'forgiv': 1844, 'mass': 1845, 'thoma': 1846, 'betti': 1847, 'unexpect': 1848, 'crack': 1849, 'gordon': 1850, 'amateur': 1851, 'invit': 1852, 'unfold': 1853, 'depend': 1854, 'grown': 1855, 'construct': 1856, 'categori': 1857, 'anna': 1858, 'honor': 1859, 'condit': 1860, 'matur': 1861, 'walter': 1862, 'intellectu': 1863, 'grew': 1864, 'sudden': 1865, 'mirror': 1866, 'sole': 1867, 'spectacular': 1868, 'veteran': 1869, 'freedom': 1870, 'experienc': 1871, 'grip': 1872, 'card': 1873, 'robin': 1874, 'overli': 1875, 'liner': 1876, 'meanwhil': 1877, 'gift': 1878, 'demonstr': 1879, 'circumst': 1880, 'brilliantli': 1881, 'sheriff': 1882, 'drew': 1883, 'theori': 1884, 'unabl': 1885, 'section': 1886, 'crappi': 1887, 'colour': 1888, 'subtitl': 1889, 'oliv': 1890, 'path': 1891, 'parker': 1892, 'sheer': 1893, 'laughter': 1894, 'pile': 1895, 'cook': 1896, 'matt': 1897, 'altern': 1898, 'lawyer': 1899, 'relief': 1900, 'defin': 1901, 'accident': 1902, 'treatment': 1903, 'wander': 1904, 'hall': 1905, 'sinatra': 1906, 'captiv': 1907, 'hank': 1908, 'dragon': 1909, 'halloween': 1910, 'moor': 1911, 'gratuit': 1912, 'barbara': 1913, 'broadway': 1914, 'wayn': 1915, 'unintent': 1916, 'wound': 1917, 'cowboy': 1918, 'k': 1919, 'kung': 1920, 'jacki': 1921, 'spoof': 1922, 'canadian': 1923, 'surreal': 1924, 'winter': 1925, 'statement': 1926, 'compos': 1927, 'cheer': 1928, 'fare': 1929, 'treasur': 1930, 'fish': 1931, 'gonna': 1932, 'emerg': 1933, 'victor': 1934, 'woodi': 1935, 'unrealist': 1936, 'sensit': 1937, 'sympathet': 1938, 'neighbor': 1939, 'driven': 1940, 'ran': 1941, 'topic': 1942, 'authent': 1943, 'menac': 1944, 'overlook': 1945, 'glass': 1946, 'expos': 1947, 'handsom': 1948, 'chief': 1949, 'ancient': 1950, 'gross': 1951, 'michel': 1952, 'feet': 1953, 'comedian': 1954, 'network': 1955, 'nevertheless': 1956, 'stranger': 1957, 'contemporari': 1958, 'russel': 1959, 'built': 1960, 'cinderella': 1961, 'pleasant': 1962, 'gori': 1963, 'earn': 1964, 'underr': 1965, 'blockbust': 1966, 'miser': 1967, 'consider': 1968, 'letter': 1969, 'endless': 1970, 'solv': 1971, 'brook': 1972, 'switch': 1973, 'virgin': 1974, 'convict': 1975, 'bullet': 1976, 'joseph': 1977, 'edward': 1978, 'victoria': 1979, 'chosen': 1980, 'scenario': 1981, 'scale': 1982, 'cynic': 1983, '0': 1984, 'alex': 1985, 'gut': 1986, 'outrag': 1987, 'com': 1988, 'curs': 1989, 'sword': 1990, 'wrap': 1991, 'substanc': 1992, 'proper': 1993, 'driver': 1994, 'screenwrit': 1995, 'monkey': 1996, 'uk': 1997, 'juli': 1998, 'par': 1999, 'court': 2000, 'indic': 2001, 'bird': 2002, 'remov': 2003, 'nanci': 2004, 'advertis': 2005, 'rental': 2006, 'grave': 2007, 'naiv': 2008, 'loser': 2009, 'consequ': 2010, 'inevit': 2011, 'roy': 2012, 'fatal': 2013, 'brave': 2014, 'invis': 2015, 'germani': 2016, 'le': 2017, 'slap': 2018, 'bridg': 2019, 'ador': 2020, 'footbal': 2021, 'loui': 2022, 'anger': 2023, 'provok': 2024, 'anderson': 2025, 'chan': 2026, 'alcohol': 2027, 'willi': 2028, 'stumbl': 2029, 'professor': 2030, 'ryan': 2031, 'sharp': 2032, '1930': 2033, 'bat': 2034, 'assassin': 2035, 'patrick': 2036, 'australian': 2037, 'lousi': 2038, 'refresh': 2039, 'strongli': 2040, 'saturday': 2041, 'deni': 2042, 'eight': 2043, 'heck': 2044, 'trilog': 2045, 'ape': 2046, 'amateurish': 2047, 'liber': 2048, 'cell': 2049, 'sin': 2050, 'justifi': 2051, 'san': 2052, 'vagu': 2053, 'resid': 2054, 'terrifi': 2055, 'creator': 2056, 'sympathi': 2057, 'mini': 2058, 'reput': 2059, 'defeat': 2060, 'indi': 2061, 'task': 2062, 'tabl': 2063, 'endur': 2064, 'prevent': 2065, 'expert': 2066, 'tediou': 2067, 'employ': 2068, 'imit': 2069, 'offend': 2070, 'basebal': 2071, 'rival': 2072, 'trial': 2073, 'che': 2074, 'max': 2075, 'fairi': 2076, 'dig': 2077, 'europ': 2078, 'beach': 2079, 'weekend': 2080, 'complaint': 2081, 'pitch': 2082, 'format': 2083, 'purchas': 2084, 'murphi': 2085, 'risk': 2086, 'nois': 2087, 'titan': 2088, 'harsh': 2089, 'hype': 2090, 'bite': 2091, 'reminisc': 2092, 'glimps': 2093, 'tini': 2094, 'powel': 2095, 'asleep': 2096, '14': 2097, 'till': 2098, 'north': 2099, 'prime': 2100, 'fals': 2101, 'strip': 2102, 'destruct': 2103, 'descript': 2104, 'revel': 2105, 'africa': 2106, 'texa': 2107, 'semi': 2108, 'inner': 2109, 'excess': 2110, 'surfac': 2111, 'arrest': 2112, 'uninterest': 2113, 'sitcom': 2114, 'spin': 2115, 'hitchcock': 2116, 'controversi': 2117, 'twin': 2118, 'argu': 2119, 'massiv': 2120, 'maintain': 2121, 'makeup': 2122, 'dinosaur': 2123, 'reject': 2124, 'ideal': 2125, 'expens': 2126, 'melodrama': 2127, 'kim': 2128, 'insist': 2129, 'ludicr': 2130, 'stare': 2131, 'forest': 2132, 'ga': 2133, 'subplot': 2134, 'supernatur': 2135, 'erot': 2136, 'nail': 2137, 'ala': 2138, 'atroci': 2139, 'press': 2140, 'host': 2141, 'columbo': 2142, 'notch': 2143, 'presum': 2144, 'identifi': 2145, 'dude': 2146, 'cant': 2147, 'forgett': 2148, 'crude': 2149, 'plagu': 2150, 'method': 2151, 'closer': 2152, 'guest': 2153, 'character': 2154, 'beast': 2155, 'landscap': 2156, 'lion': 2157, 'princess': 2158, 'border': 2159, 'foster': 2160, 'ear': 2161, 'birth': 2162, 'urban': 2163, 'accus': 2164, 'storytel': 2165, 'bound': 2166, 'jungl': 2167, 'pacino': 2168, 'previous': 2169, 'aunt': 2170, 'damag': 2171, 'nude': 2172, 'jess': 2173, 'propaganda': 2174, 'thirti': 2175, 'emma': 2176, 'chose': 2177, 'doll': 2178, 'guid': 2179, 'mate': 2180, '25': 2181, 'pet': 2182, 'whoever': 2183, 'mainstream': 2184, 'warrior': 2185, 'friday': 2186, 'cooper': 2187, 'gritti': 2188, 'deadli': 2189, 'exact': 2190, 'size': 2191, 'merit': 2192, 'upset': 2193, 'latest': 2194, 'poster': 2195, 'settl': 2196, 'blend': 2197, 'contact': 2198, 'wilson': 2199, 'rough': 2200, 'corps': 2201, 'warner': 2202, 'contest': 2203, 'buff': 2204, 'ton': 2205, '1990': 2206, 'citizen': 2207, 'sun': 2208, 'popul': 2209, 'pitt': 2210, 'metal': 2211, 'environ': 2212, 'mgm': 2213, 'bu': 2214, 'select': 2215, 'overcom': 2216, 'alic': 2217, 'rat': 2218, 'widow': 2219, 'lift': 2220, 'particip': 2221, 'guilti': 2222, 'link': 2223, 'ted': 2224, 'revolut': 2225, 'matrix': 2226, 'corner': 2227, 'afternoon': 2228, 'corpor': 2229, '1960': 2230, 'accompani': 2231, 'prostitut': 2232, 'moron': 2233, 'exagger': 2234, 'johnson': 2235, 'sincer': 2236, 'leagu': 2237, 'holm': 2238, 'multipl': 2239, 'clair': 2240, 'doom': 2241, 'instal': 2242, 'friendli': 2243, 'hood': 2244, 'sunday': 2245, 'advis': 2246, 'lugosi': 2247, 'junk': 2248, 'examin': 2249, 'grim': 2250, 'hip': 2251, 'campi': 2252, 'defend': 2253, 'string': 2254, 'irish': 2255, 'aka': 2256, 'blah': 2257, 'tight': 2258, 'icon': 2259, 'confid': 2260, 'varieti': 2261, 'shake': 2262, 'shut': 2263, 'pro': 2264, 'rachel': 2265, 'denni': 2266, 'jaw': 2267, 'attach': 2268, 'goal': 2269, 'mexican': 2270, 'medic': 2271, 'directli': 2272, 'sullivan': 2273, 'prior': 2274, 'breast': 2275, 'terrorist': 2276, 'legendari': 2277, 'vietnam': 2278, 'dean': 2279, 'duke': 2280, 'bourn': 2281, 'sentenc': 2282, 'truck': 2283, 'courag': 2284, 'sarah': 2285, 'un': 2286, 'split': 2287, 'hong': 2288, 'behav': 2289, 'entri': 2290, 'nose': 2291, 'donald': 2292, 'proceed': 2293, 'yell': 2294, 'jerk': 2295, 'concentr': 2296, 'confess': 2297, 'everywher': 2298, 'borrow': 2299, 'forth': 2300, 'buri': 2301, 'crush': 2302, 'gather': 2303, 'lifetim': 2304, 'stolen': 2305, 'swim': 2306, 'unconvinc': 2307, 'julia': 2308, 'spite': 2309, 'california': 2310, 'turkey': 2311, 'lip': 2312, 'deliveri': 2313, 'pan': 2314, 'flight': 2315, 'offici': 2316, 'quest': 2317, 'hoffman': 2318, 'proud': 2319, 'downright': 2320, 'china': 2321, 'reward': 2322, 'freeman': 2323, 'notori': 2324, 'encourag': 2325, 'sink': 2326, 'fade': 2327, 'worthwhil': 2328, 'inept': 2329, 'jail': 2330, 'betray': 2331, 'jon': 2332, 'fabul': 2333, 'lazi': 2334, 'sir': 2335, 'cousin': 2336, 'shower': 2337, 'storm': 2338, 'relev': 2339, 'survivor': 2340, 'bell': 2341, 'lisa': 2342, 'retard': 2343, 'bag': 2344, 'teeth': 2345, 'branagh': 2346, 'imageri': 2347, 'susan': 2348, 'mexico': 2349, 'tremend': 2350, 'facial': 2351, 'summari': 2352, 'quirki': 2353, 'hugh': 2354, 'finger': 2355, 'stab': 2356, 'trade': 2357, 'alright': 2358, 'bride': 2359, 'shark': 2360, 'toler': 2361, 'hyster': 2362, 'blown': 2363, 'pose': 2364, 'ha': 2365, 'von': 2366, 'bitter': 2367, 'ned': 2368, 'bone': 2369, 'afterward': 2370, 'address': 2371, 'scheme': 2372, 'cruel': 2373, 'ron': 2374, 'larri': 2375, 'christ': 2376, 'distinct': 2377, 'swear': 2378, 'traci': 2379, 'beg': 2380, 'thumb': 2381, 'feed': 2382, 'snake': 2383, 'tour': 2384, 'pursu': 2385, 'screw': 2386, 'mechan': 2387, 'occas': 2388, 'chair': 2389, 'raw': 2390, 'photo': 2391, 'obscur': 2392, 'stomach': 2393, 'gruesom': 2394, 'cabin': 2395, 'sidney': 2396, 'argument': 2397, 'render': 2398, 'chain': 2399, 'holiday': 2400, 'hardi': 2401, 'resist': 2402, 'southern': 2403, 'heavili': 2404, 'necessarili': 2405, 'indulg': 2406, 'satan': 2407, 'india': 2408, 'philip': 2409, 'understood': 2410, 'racist': 2411, 'stalk': 2412, 'fourth': 2413, 'belov': 2414, 'outfit': 2415, 'integr': 2416, 'midnight': 2417, 'tongu': 2418, 'pregnant': 2419, 'obnoxi': 2420, 'lay': 2421, 'forgot': 2422, 'magazin': 2423, 'inhabit': 2424, 'slapstick': 2425, 'ticket': 2426, 'deeper': 2427, 'carol': 2428, 'garden': 2429, 'restor': 2430, '17': 2431, 'shoe': 2432, 'devot': 2433, 'brad': 2434, 'lincoln': 2435, 'incid': 2436, 'underground': 2437, 'anticip': 2438, 'disbelief': 2439, 'guarante': 2440, 'elizabeth': 2441, 'divorc': 2442, 'sandler': 2443, 'benefit': 2444, 'maria': 2445, 'lili': 2446, 'explod': 2447, 'mildli': 2448, 'cring': 2449, 'capit': 2450, 'creation': 2451, 'slave': 2452, 'greater': 2453, 'bbc': 2454, 'princip': 2455, 'amazingli': 2456, 'introduct': 2457, 'halfway': 2458, 'funnier': 2459, 'lesli': 2460, 'extraordinari': 2461, 'advantag': 2462, 'punish': 2463, 'transfer': 2464, 'extent': 2465, 'text': 2466, 'wreck': 2467, 'overwhelm': 2468, 'enhanc': 2469, 'tap': 2470, 'horrif': 2471, 'deliber': 2472, 'error': 2473, 'lo': 2474, 'dynam': 2475, 'east': 2476, 'lane': 2477, 'preview': 2478, 'plant': 2479, 'jessica': 2480, '2000': 2481, 'ensu': 2482, 'basi': 2483, 'vacat': 2484, 'sophist': 2485, 'miller': 2486, 'appli': 2487, 'homosexu': 2488, 'miscast': 2489, 'vincent': 2490, 'sleazi': 2491, 'steel': 2492, 'elev': 2493, 'mansion': 2494, 'measur': 2495, 'bollywood': 2496, 'via': 2497, 'spoken': 2498, 'reed': 2499, 'extend': 2500, 'uncomfort': 2501, 'alter': 2502, 'mous': 2503, 'daili': 2504, 'savag': 2505, 'breathtak': 2506, 'overact': 2507, 'beer': 2508, 'stanley': 2509, 'conceiv': 2510, 'blair': 2511, 'assign': 2512, 'goofi': 2513, 'cathol': 2514, 'hippi': 2515, 'melt': 2516, 'dentist': 2517, 'fix': 2518, 'sacrific': 2519, 'inspector': 2520, 'properli': 2521, 'everyday': 2522, 'succe': 2523, 'subsequ': 2524, 'nowaday': 2525, 'carpent': 2526, 'oppos': 2527, 'burt': 2528, 'neck': 2529, 'block': 2530, 'laura': 2531, 'massacr': 2532, 'circl': 2533, 'pool': 2534, 'mob': 2535, 'seagal': 2536, 'fallen': 2537, 'grey': 2538, 'portrait': 2539, 'concert': 2540, 'lesser': 2541, 'fay': 2542, 'christi': 2543, 'access': 2544, 'jewish': 2545, 'isol': 2546, 'react': 2547, 'jake': 2548, 'chees': 2549, 'sinist': 2550, 'competit': 2551, 'usa': 2552, 'relax': 2553, 'nine': 2554, 'ironi': 2555, 'stink': 2556, 'lyric': 2557, 'chop': 2558, 'nonetheless': 2559, '2006': 2560, 'suitabl': 2561, 'immens': 2562, 'creep': 2563, 'spiritu': 2564, 'appal': 2565, 'retir': 2566, 'adopt': 2567, 'franchis': 2568, 'user': 2569, 'reduc': 2570, 'nut': 2571, 'needless': 2572, 'rage': 2573, 'showcas': 2574, 'spring': 2575, 'luci': 2576, 'sold': 2577, 'navi': 2578, 'shirt': 2579, 'digit': 2580, 'jay': 2581, 'nurs': 2582, 'zone': 2583, 'uninspir': 2584, 'bath': 2585, 'asham': 2586, 'stanwyck': 2587, 'bulli': 2588, 'per': 2589, 'oddli': 2590, 'amongst': 2591, '1940': 2592, 'broadcast': 2593, '2001': 2594, 'upper': 2595, 'illustr': 2596, 'laid': 2597, 'sutherland': 2598, 'stylish': 2599, 'throat': 2600, 'aspir': 2601, 'disguis': 2602, 'brando': 2603, 'fulfil': 2604, 'baker': 2605, 'wanna': 2606, 'thief': 2607, 'impli': 2608, 'em': 2609, '18': 2610, 'endear': 2611, 'nobl': 2612, 'wwii': 2613, 'neighborhood': 2614, 'pound': 2615, 'pride': 2616, 'tens': 2617, 'prop': 2618, 'cinematograph': 2619, 'bett': 2620, 'coher': 2621, 'bo': 2622, 'diseas': 2623, 'albeit': 2624, 'rochest': 2625, 'distribut': 2626, 'dawn': 2627, 'shoulder': 2628, 'shift': 2629, '16': 2630, 'dinner': 2631, 'forti': 2632, 'wash': 2633, 'contract': 2634, 'knife': 2635, 'rebel': 2636, 'poignant': 2637, 'surf': 2638, 'shout': 2639, 'snow': 2640, 'matthau': 2641, 'function': 2642, 'silenc': 2643, 'proof': 2644, 'eeri': 2645, 'silver': 2646, 'internet': 2647, 'widmark': 2648, 'reunion': 2649, 'derek': 2650, 'duti': 2651, 'instinct': 2652, 'cancel': 2653, 'height': 2654, 'cannib': 2655, 'henc': 2656, 'horrend': 2657, 'heat': 2658, 'mindless': 2659, 'elvira': 2660, 'chuck': 2661, 'pie': 2662, 'innov': 2663, 'greatli': 2664, 'neat': 2665, 'glori': 2666, 'etern': 2667, 'premier': 2668, 'torn': 2669, 'absorb': 2670, 'alik': 2671, 'spielberg': 2672, 'incoher': 2673, 'musician': 2674, 'mill': 2675, 'repetit': 2676, 'elvi': 2677, 'precis': 2678, 'trite': 2679, 'redempt': 2680, 'lovabl': 2681, 'crisi': 2682, 'fbi': 2683, 'homag': 2684, 'announc': 2685, 'horrifi': 2686, 'britain': 2687, 'infam': 2688, 'blank': 2689, 'diamond': 2690, 'burton': 2691, 'racism': 2692, 'bang': 2693, 'itali': 2694, 'nelson': 2695, 'wealthi': 2696, 'hammer': 2697, 'pat': 2698, 'dedic': 2699, 'helen': 2700, 'chaplin': 2701, 'flop': 2702, 'resolut': 2703, 'happili': 2704, 'parallel': 2705, 'wilder': 2706, 'ensembl': 2707, 'streisand': 2708, 'mar': 2709, 'conclud': 2710, 'triumph': 2711, 'broke': 2712, 'disagre': 2713, 'plastic': 2714, 'carter': 2715, 'factori': 2716, 'st': 2717, 'oil': 2718, 'cube': 2719, 'bush': 2720, 'climb': 2721, 'row': 2722, 'chuckl': 2723, 'weight': 2724, 'rocket': 2725, 'vega': 2726, 'fighter': 2727, 'own': 2728, 'march': 2729, 'lust': 2730, 'dump': 2731, 'wherea': 2732, 'enorm': 2733, 'unforgett': 2734, 'kurt': 2735, 'boot': 2736, 'luca': 2737, 'meaning': 2738, 'mst3k': 2739, 'dane': 2740, 'thug': 2741, 'sensibl': 2742, 'spare': 2743, 'bobbi': 2744, 'butt': 2745, 'fifti': 2746, 'brand': 2747, 'karloff': 2748, 'arnold': 2749, 'caricatur': 2750, 'difficulti': 2751, 'threat': 2752, 'stress': 2753, 'dear': 2754, 'adequ': 2755, 'engin': 2756, 'rap': 2757, 'elabor': 2758, 'arrog': 2759, 'homeless': 2760, 'ego': 2761, 'swing': 2762, 'journalist': 2763, 'polish': 2764, 'ralph': 2765, 'flynn': 2766, 'fest': 2767, 'secretari': 2768, 'hamlet': 2769, 'barri': 2770, 'grate': 2771, 'puppet': 2772, 'float': 2773, 'tool': 2774, 'conspiraci': 2775, 'unbear': 2776, 'fanci': 2777, 'arrang': 2778, 'spike': 2779, 'induc': 2780, 'simpson': 2781, 'resort': 2782, 'phillip': 2783, 'pig': 2784, 'tribut': 2785, 'guilt': 2786, 'boll': 2787, 'exercis': 2788, 'basement': 2789, 'muppet': 2790, 'choreograph': 2791, 'cruis': 2792, 'puzzl': 2793, 'slip': 2794, 'item': 2795, 'file': 2796, 'document': 2797, 'babe': 2798, 'fianc': 2799, 'medium': 2800, '24': 2801, 'ham': 2802, 'stan': 2803, 'korean': 2804, 'layer': 2805, 'editor': 2806, 'tower': 2807, 'ward': 2808, 'scarecrow': 2809, 'toilet': 2810, 'slaughter': 2811, 'librari': 2812, 'catherin': 2813, 'assur': 2814, 'philosoph': 2815, 'transit': 2816, 'minim': 2817, 'superfici': 2818, 'spark': 2819, 'orient': 2820, 'glover': 2821, 'portion': 2822, 'doc': 2823, 'larger': 2824, 'denzel': 2825, 'territori': 2826, 'inexplic': 2827, 'persona': 2828, 'shi': 2829, 'owe': 2830, 'jeremi': 2831, 'pg': 2832, 'boredom': 2833, 'sneak': 2834, 'wolf': 2835, 'curti': 2836, 'financi': 2837, 'walken': 2838, 'jet': 2839, 'ban': 2840, 'dorothi': 2841, 'whale': 2842, 'metaphor': 2843, 'ambigu': 2844, 'profound': 2845, 'multi': 2846, 'eleph': 2847, 'backdrop': 2848, 'hudson': 2849, 'cusack': 2850, 'hack': 2851, 'ultra': 2852, 'rave': 2853, 'birthday': 2854, 'elsewher': 2855, 'union': 2856, 'notion': 2857, '2005': 2858, 'implaus': 2859, 'viru': 2860, 'stiff': 2861, 'gadget': 2862, 'slight': 2863, 'deriv': 2864, 'disc': 2865, 'eastwood': 2866, 'afford': 2867, 'lloyd': 2868, '1st': 2869, 'distanc': 2870, 'hawk': 2871, 'reader': 2872, 'pad': 2873, 'canada': 2874, 'bibl': 2875, 'eva': 2876, 'newspap': 2877, 'urg': 2878, 'superhero': 2879, 'squar': 2880, 'poison': 2881, 'essenc': 2882, 'drown': 2883, 'spread': 2884, 'montag': 2885, 'health': 2886, 'restaur': 2887, 'skit': 2888, 'sadist': 2889, 'charisma': 2890, 'heston': 2891, 'button': 2892, 'huh': 2893, 'cure': 2894, 'muslim': 2895, 'dealt': 2896, 'peak': 2897, 'fetch': 2898, 'gradual': 2899, 'lab': 2900, 'companion': 2901, 'maniac': 2902, 'invest': 2903, 'godfath': 2904, 'scoobi': 2905, 'estat': 2906, 'gothic': 2907, 'tea': 2908, 'ritter': 2909, 'kane': 2910, 'subtleti': 2911, 'countless': 2912, 'alli': 2913, 'miik': 2914, 'cup': 2915, 'servant': 2916, 'salli': 2917, 'briefli': 2918, 'heroic': 2919, 'elect': 2920, 'charismat': 2921, 'electr': 2922, 'iii': 2923, 'toss': 2924, 'wannab': 2925, 'grandmoth': 2926, 'resourc': 2927, 'nuanc': 2928, 'ingredi': 2929, 'admittedli': 2930, 'tender': 2931, 'cole': 2932, 'neil': 2933, 'reel': 2934, 'bud': 2935, 'label': 2936, 'reev': 2937, 'dawson': 2938, 'punk': 2939, 'pauli': 2940, 'kubrick': 2941, 'pit': 2942, 'gate': 2943, 'poverti': 2944, 'shall': 2945, 'carrey': 2946, 'mafia': 2947, 'stronger': 2948, 'stood': 2949, 'mild': 2950, 'outcom': 2951, 'assault': 2952, 'useless': 2953, 'burst': 2954, 'updat': 2955, 'cardboard': 2956, 'ian': 2957, 'tag': 2958, 'smash': 2959, 'terri': 2960, 'cox': 2961, 'fond': 2962, 'easier': 2963, 'smooth': 2964, 'astair': 2965, 'bakshi': 2966, 'divers': 2967, 'exchang': 2968, 'melodramat': 2969, 'vulner': 2970, 'resolv': 2971, 'vari': 2972, 'increasingli': 2973, 'fist': 2974, 'sketch': 2975, 'rex': 2976, 'coincid': 2977, 'qualifi': 2978, '2002': 2979, 'samurai': 2980, 'scratch': 2981, 'suspend': 2982, 'brillianc': 2983, 'reynold': 2984, 'blast': 2985, 'templ': 2986, 'tame': 2987, 'be': 2988, 'insert': 2989, 'luckili': 2990, 'conveni': 2991, 'hamilton': 2992, 'fisher': 2993, 'walker': 2994, 'meat': 2995, 'nuclear': 2996, 'farm': 2997, 'seventi': 2998, 'pin': 2999, 'strictli': 3000, 'matthew': 3001, 'gotta': 3002, 'jami': 3003, 'ambiti': 3004, 'coach': 3005, 'soprano': 3006, 'spooki': 3007, 'clock': 3008, 'timeless': 3009, 'joey': 3010, 'revers': 3011, 'eccentr': 3012, 'grasp': 3013, 'worthless': 3014, 'instantli': 3015, 'empir': 3016, 'struck': 3017, 'recreat': 3018, 'ninja': 3019, 'closet': 3020, 'cave': 3021, 'brosnan': 3022, 'discoveri': 3023, 'butcher': 3024, 'convolut': 3025, 'kudo': 3026, 'monk': 3027, 'wipe': 3028, 'pal': 3029, 'importantli': 3030, 'eighti': 3031, 'partli': 3032, 'communist': 3033, 'cliff': 3034, 'inconsist': 3035, 'sloppi': 3036, 'miracl': 3037, 'evok': 3038, 'norman': 3039, 'bleak': 3040, 'declar': 3041, 'sidekick': 3042, 'clown': 3043, 'gray': 3044, 'selfish': 3045, 'mitchel': 3046, 'fifteen': 3047, 'seller': 3048, 'psychiatrist': 3049, 'flawless': 3050, 'enthusiast': 3051, 'lifestyl': 3052, 'aforement': 3053, 'destin': 3054, 'superbl': 3055, 'farc': 3056, 'debat': 3057, 'cheek': 3058, 'piano': 3059, 'stoog': 3060, '45': 3061, 'websit': 3062, 'seed': 3063, 'ho': 3064, 'chew': 3065, 'australia': 3066, 'abc': 3067, 'incompet': 3068, 'slice': 3069, 'soviet': 3070, 'regardless': 3071, 'emili': 3072, 'dire': 3073, 'kitchen': 3074, 'bash': 3075, 'pressur': 3076, 'anni': 3077, 'dash': 3078, 'wick': 3079, 'directori': 3080, 'wrestl': 3081, 'splatter': 3082, 'drivel': 3083, 'akshay': 3084, 'chapter': 3085, 'suppli': 3086, 'seduc': 3087, 'mann': 3088, 'cameron': 3089, 'dave': 3090, 'duo': 3091, 'recov': 3092, 'artifici': 3093, 'boil': 3094, 'cagney': 3095, 'jar': 3096, 'blob': 3097, 'increas': 3098, 'doo': 3099, 'distant': 3100, 'pleasantli': 3101, 'lou': 3102, 'cia': 3103, 'judi': 3104, 'prize': 3105, 'ken': 3106, 'flower': 3107, 'helicopt': 3108, 'glow': 3109, 'curios': 3110, 'beaten': 3111, 'craven': 3112, 'goldberg': 3113, 'perri': 3114, 'hop': 3115, 'favour': 3116, 'panic': 3117, 'eleg': 3118, 'francisco': 3119, 'drunken': 3120, 'splendid': 3121, 'psychot': 3122, 'laurel': 3123, 'turner': 3124, 'craig': 3125, 'web': 3126, 'combat': 3127, 'glenn': 3128, 'ranger': 3129, 'ellen': 3130, 'shortli': 3131, 'slightest': 3132, 'plausibl': 3133, 'greek': 3134, 'rid': 3135, 'flip': 3136, 'hatr': 3137, 'philosophi': 3138, '20th': 3139, 'gentl': 3140, 'alexand': 3141, 'ruth': 3142, 'graduat': 3143, 'wizard': 3144, 'gandhi': 3145, 'min': 3146, 'falk': 3147, 'fx': 3148, 'modesti': 3149, 'dracula': 3150, 'futurist': 3151, 'fund': 3152, 'we': 3153, 'ocean': 3154, 'jealou': 3155, 'legal': 3156, 'knight': 3157, 'unpleas': 3158, 'felix': 3159, 'harm': 3160, 'preciou': 3161, 'holi': 3162, 'manhattan': 3163, 'tall': 3164, 'lend': 3165, 'mock': 3166, 'nod': 3167, 'ami': 3168, 'forbidden': 3169, 'reviv': 3170, 'bless': 3171, 'childish': 3172, 'scientif': 3173, 'giallo': 3174, 'thread': 3175, 'digniti': 3176, 'explicit': 3177, 'overdon': 3178, 'tank': 3179, 'nerv': 3180, '99': 3181, 'awe': 3182, 'eve': 3183, 'margaret': 3184, 'mel': 3185, 'broad': 3186, 'elderli': 3187, 'repeatedli': 3188, '2004': 3189, 'pirat': 3190, 'fever': 3191, 'yesterday': 3192, 'verhoeven': 3193, 'torment': 3194, 'unwatch': 3195, 'awaken': 3196, 'thick': 3197, 'timothi': 3198, 'eas': 3199, 'launch': 3200, 'royal': 3201, 'griffith': 3202, 'bin': 3203, 'ah': 3204, 'roman': 3205, 'automat': 3206, 'ambit': 3207, 'stiller': 3208, 'acclaim': 3209, 'kay': 3210, 'custom': 3211, 'absenc': 3212, 'uniform': 3213, 'rivet': 3214, 'publish': 3215, 'politician': 3216, 'lean': 3217, 'romero': 3218, 'crook': 3219, 'foul': 3220, 'darker': 3221, 'phrase': 3222, 'purpl': 3223, 'stinker': 3224, 'antic': 3225, 'termin': 3226, 'tomato': 3227, 'bathroom': 3228, 'warren': 3229, 'wallac': 3230, 'pulp': 3231, 'homicid': 3232, 'sunshin': 3233, 'gabriel': 3234, 'transport': 3235, 'pierc': 3236, 'karen': 3237, 'marin': 3238, 'viciou': 3239, 'packag': 3240, 'horrid': 3241, 'evolv': 3242, 'coloni': 3243, 'album': 3244, 'juvenil': 3245, 'q': 3246, 'pray': 3247, 'contrari': 3248, 'eyr': 3249, 'hollow': 3250, 'brazil': 3251, 'saint': 3252, 'ought': 3253, 'kenneth': 3254, 'revolutionari': 3255, '2003': 3256, 'li': 3257, 'sixti': 3258, 'rambo': 3259, 'prom': 3260, 'donna': 3261, 'awak': 3262, 'choreographi': 3263, 'ireland': 3264, 'stole': 3265, 'twelv': 3266, 'overr': 3267, 'blade': 3268, 'kapoor': 3269, 'conserv': 3270, 'nerd': 3271, 'mummi': 3272, 'defi': 3273, 'boast': 3274, 'beatti': 3275, 'candid': 3276, 'dose': 3277, 'option': 3278, 'mildr': 3279, 'ramon': 3280, 'fulci': 3281, 'detract': 3282, 'jazz': 3283, 'astonish': 3284, 'trio': 3285, 'flame': 3286, 'protest': 3287, 'confirm': 3288, 'funer': 3289, 'natali': 3290, 'collabor': 3291, 'kirk': 3292, 'global': 3293, 'altman': 3294, 'delici': 3295, 'shade': 3296, 'audio': 3297, 'leap': 3298, 'tommi': 3299, 'bull': 3300, 'spit': 3301, 'bottl': 3302, 'destini': 3303, 'mystic': 3304, 'yellow': 3305, 'whip': 3306, 'racial': 3307, 'blake': 3308, 'nicholson': 3309, 'enterpris': 3310, 'altogeth': 3311, 'visibl': 3312, 'pseudo': 3313, 'bedroom': 3314, 'inherit': 3315, 'adolesc': 3316, 'merci': 3317, 'vivid': 3318, 'threw': 3319, 'enchant': 3320, 'popcorn': 3321, 'harder': 3322, 'neo': 3323, 'meaningless': 3324, 'fonda': 3325, 'staff': 3326, 'reunit': 3327, 'swedish': 3328, 'todd': 3329, 'decor': 3330, 'reserv': 3331, 'await': 3332, 'tip': 3333, 'lawrenc': 3334, 'respond': 3335, 'edi': 3336, 'suspici': 3337, 'uneven': 3338, 'leonard': 3339, 'fanat': 3340, 'ruthless': 3341, 'wire': 3342, 'roommat': 3343, 'synopsi': 3344, 'kennedi': 3345, 'madonna': 3346, 'lemmon': 3347, 'voight': 3348, 'befriend': 3349, 'jew': 3350, 'exhibit': 3351, 'moodi': 3352, 'bust': 3353, 'atlanti': 3354, 'crocodil': 3355, 'palma': 3356, 'bold': 3357, 'audit': 3358, 'clint': 3359, 'centr': 3360, 'abysm': 3361, 'chao': 3362, 'incident': 3363, 'bargain': 3364, 'clumsi': 3365, 'ventur': 3366, 'rural': 3367, 'dimens': 3368, 'holli': 3369, 'carl': 3370, 'voyag': 3371, '2007': 3372, 'unsettl': 3373, 'garner': 3374, 'bradi': 3375, 'humili': 3376, 'echo': 3377, 'versu': 3378, 'poetic': 3379, 'timon': 3380, 'nearbi': 3381, 'hart': 3382, '2nd': 3383, 'daddi': 3384, 'neglect': 3385, 'tiger': 3386, 'wealth': 3387, 'trail': 3388, 'cari': 3389, 'troop': 3390, 'lit': 3391, 'imperson': 3392, 'immigr': 3393, 'cd': 3394, 'elimin': 3395, 'characterist': 3396, 'acknowledg': 3397, 'cuba': 3398, 'mall': 3399, 'ant': 3400, 'jeffrey': 3401, 'domest': 3402, 'repuls': 3403, 'prejudic': 3404, 'solo': 3405, 'marshal': 3406, 'saga': 3407, 'collaps': 3408, 'mickey': 3409, 'infect': 3410, 'homer': 3411, 'paus': 3412, 'celluloid': 3413, 'pun': 3414, 'mistaken': 3415, 'ginger': 3416, 'assembl': 3417, 'chest': 3418, 'hbo': 3419, 'interrupt': 3420, 'gear': 3421, 'cake': 3422, 'apolog': 3423, 'harvey': 3424, 'leon': 3425, 'undoubtedli': 3426, 'inappropri': 3427, 'sore': 3428, 'promin': 3429, 'milk': 3430, '1996': 3431, 'coat': 3432, 'coffe': 3433, 'equip': 3434, 'tribe': 3435, 'olivi': 3436, 'inan': 3437, 'pant': 3438, 'vulgar': 3439, 'pot': 3440, 'aveng': 3441, 'solut': 3442, 'institut': 3443, 'colonel': 3444, 'instant': 3445, 'furthermor': 3446, 'maggi': 3447, 'trace': 3448, 'colleagu': 3449, 'humbl': 3450, 'airplan': 3451, 'highest': 3452, 'florida': 3453, 'consum': 3454, 'brooklyn': 3455, 'primari': 3456, 'retain': 3457, 'jenni': 3458, 'exot': 3459, 'devast': 3460, 'pen': 3461, 'embrac': 3462, 'polanski': 3463, 'linda': 3464, 'ya': 3465, 'strain': 3466, 'principl': 3467, 'seduct': 3468, 'wive': 3469, 'outer': 3470, 'dutch': 3471, 'sale': 3472, 'smaller': 3473, '1999': 3474, 'disabl': 3475, 'poke': 3476, 'godzilla': 3477, 'illog': 3478, '3rd': 3479, 'gender': 3480, 'cope': 3481, 'bowl': 3482, 'descend': 3483, 'rick': 3484, 'dian': 3485, 'lol': 3486, 'yard': 3487, 'mixtur': 3488, 'primarili': 3489, 'dud': 3490, 'gloriou': 3491, 'secondli': 3492, 'bubbl': 3493, 'beneath': 3494, 'predecessor': 3495, 'rabbit': 3496, 'glamor': 3497, 'gundam': 3498, 'blatant': 3499, 'dive': 3500, 'scope': 3501, 'hal': 3502, 'vast': 3503, 'cue': 3504, 'devoid': 3505, 'inferior': 3506, 'hideou': 3507, 'countrysid': 3508, 'museum': 3509, 'shelf': 3510, 'april': 3511, 'shirley': 3512, 'invas': 3513, 'senseless': 3514, 'aggress': 3515, 'et': 3516, 'talki': 3517, 'pearl': 3518, 'simplist': 3519, 'domino': 3520, 'disjoint': 3521, 'trademark': 3522, 'myer': 3523, 'casual': 3524, 'grinch': 3525, 'arab': 3526, 'streep': 3527, 'alfr': 3528, 'z': 3529, 'breed': 3530, 'alert': 3531, 'garbo': 3532, 'boom': 3533, 'sh': 3534, 'disgrac': 3535, 'stellar': 3536, 'khan': 3537, 'mayor': 3538, 'vanish': 3539, 'defens': 3540, 'uwe': 3541, 'oz': 3542, 'experiment': 3543, 'stack': 3544, 'mail': 3545, 'applaud': 3546, 'illeg': 3547, 'acid': 3548, 'robberi': 3549, 'unhappi': 3550, 'hardcor': 3551, 'loyal': 3552, 'obtain': 3553, 'maci': 3554, 'robinson': 3555, 'slide': 3556, 'stir': 3557, 'rendit': 3558, 'hopeless': 3559, 'tenant': 3560, 'psychic': 3561, 'rifl': 3562, 'recruit': 3563, 'spider': 3564, 'topless': 3565, 'soccer': 3566, 'emphasi': 3567, 'dismiss': 3568, 'berlin': 3569, 'span': 3570, 'fri': 3571, 'counter': 3572, 'tempt': 3573, 'declin': 3574, 'scroog': 3575, 'craze': 3576, 'incomprehens': 3577, 'amanda': 3578, 'blew': 3579, 'wont': 3580, 'hartley': 3581, 'grandfath': 3582, 'dicken': 3583, 'diana': 3584, 'shed': 3585, 'lumet': 3586, 'faster': 3587, 'justin': 3588, 'porno': 3589, 'sibl': 3590, 'intim': 3591, 'goer': 3592, 'bitch': 3593, 'woo': 3594, 'ethnic': 3595, 'wet': 3596, 'riot': 3597, 'resurrect': 3598, 'shaw': 3599, 'revolt': 3600, 'ration': 3601, 'parad': 3602, 'trashi': 3603, 'sympath': 3604, 'niro': 3605, 'slick': 3606, 'enlighten': 3607, 'immort': 3608, 'gap': 3609, 'ballet': 3610, 'ensur': 3611, 'choru': 3612, 'feminist': 3613, 'region': 3614, 'eager': 3615, 'farmer': 3616, 'weakest': 3617, 'unreal': 3618, 'steam': 3619, 'lena': 3620, 'patriot': 3621, 'wheel': 3622, 'hesit': 3623, 'biographi': 3624, '00': 3625, 'andr': 3626, 'dealer': 3627, 'honesti': 3628, 'rider': 3629, 'partial': 3630, 'commend': 3631, 'hopper': 3632, 'wendi': 3633, 'nephew': 3634, 'mario': 3635, 'jonathan': 3636, 'worm': 3637, 'vice': 3638, 'sappi': 3639, 'leo': 3640, 'skull': 3641, 'franco': 3642, 'charlott': 3643, 'composit': 3644, 'similarli': 3645, 'util': 3646, 'wore': 3647, 'morri': 3648, 'victori': 3649, 'confin': 3650, 'mutant': 3651, 'owen': 3652, 'prequel': 3653, 'hung': 3654, 'safeti': 3655, 'snap': 3656, 'nostalg': 3657, 'repress': 3658, 'sandra': 3659, 'blunt': 3660, 'psychopath': 3661, 'kingdom': 3662, 'properti': 3663, 'macarthur': 3664, 'pattern': 3665, 'compens': 3666, 'emperor': 3667, 'montana': 3668, 'whoopi': 3669, 'strand': 3670, 'dust': 3671, 'tail': 3672, 'tad': 3673, 'repli': 3674, 'bumbl': 3675, 'recycl': 3676, 'rambl': 3677, 'rope': 3678, 'bergman': 3679, 'kyle': 3680, 'latin': 3681, 'acquir': 3682, 'valuabl': 3683, 'cg': 3684, 'dalton': 3685, 'speci': 3686, 'thru': 3687, '1972': 3688, 'hyde': 3689, 'del': 3690, 'miseri': 3691, 'bonu': 3692, 'heartbreak': 3693, 'exit': 3694, 'rocki': 3695, 'despair': 3696, 'campbel': 3697, 'drum': 3698, 'bow': 3699, 'drain': 3700, 'deed': 3701, 'compass': 3702, 'nervou': 3703, 'farrel': 3704, 'snl': 3705, 'wacki': 3706, 'airport': 3707, 'downhil': 3708, 'gimmick': 3709, 'gal': 3710, 'slug': 3711, 'radic': 3712, 'tonight': 3713, 'contempl': 3714, 'da': 3715, 'martian': 3716, 'bleed': 3717, 'roth': 3718, 'olli': 3719, 'oppress': 3720, 'mistress': 3721, '35': 3722, 'carradin': 3723, 'percept': 3724, 'pour': 3725, 'orson': 3726, 'rotten': 3727, 'rapist': 3728, 'chess': 3729, 'romp': 3730, 'arguabl': 3731, 'banal': 3732, 'pervers': 3733, 'belt': 3734, 'attorney': 3735, '1983': 3736, 'pursuit': 3737, 'pervert': 3738, 'arc': 3739, 'paltrow': 3740, 'stilt': 3741, 'heal': 3742, 'melodi': 3743, 'slash': 3744, 'champion': 3745, 'edgar': 3746, 'dazzl': 3747, 'tooth': 3748, 'programm': 3749, 'preach': 3750, 'mislead': 3751, 'tackl': 3752, 'unpredict': 3753, 'taught': 3754, 'shelley': 3755, 'cleverli': 3756, 'raymond': 3757, 'duval': 3758, 'vengeanc': 3759, 'sensat': 3760, 'orang': 3761, 'franki': 3762, 'tiresom': 3763, 'virginia': 3764, 'mesmer': 3765, 'uplift': 3766, 'employe': 3767, 'marti': 3768, 'vocal': 3769, 'closest': 3770, 'rubi': 3771, 'gambl': 3772, 'graham': 3773, 'passeng': 3774, 'poem': 3775, 'chicken': 3776, 'dixon': 3777, 'plight': 3778, 'maid': 3779, 'bela': 3780, 'conneri': 3781, 'swallow': 3782, 'abraham': 3783, 'quarter': 3784, 'profan': 3785, 'extens': 3786, 'mute': 3787, 'lundgren': 3788, 'convincingli': 3789, 'crystal': 3790, 'amitabh': 3791, 'iran': 3792, 'inject': 3793, 'climact': 3794, 'clone': 3795, 'suffic': 3796, 'bay': 3797, 'engross': 3798, 'outing': 3799, 'tube': 3800, 'whine': 3801, 'calm': 3802, 'habit': 3803, 'giggl': 3804, 'monologu': 3805, 'yawn': 3806, 'secretli': 3807, '1968': 3808, 'paranoia': 3809, 'numb': 3810, 'scottish': 3811, 'volum': 3812, 'gerard': 3813, 'sirk': 3814, 'pokemon': 3815, 'backward': 3816, 'dispos': 3817, 'bend': 3818, 'trend': 3819, 'plod': 3820, 'lowest': 3821, 'earl': 3822, 'frankenstein': 3823, 'chicago': 3824, 'abort': 3825, 'poetri': 3826, 'ethan': 3827, 'im': 3828, 'grotesqu': 3829, 'franci': 3830, 'underst': 3831, 'junior': 3832, 'spock': 3833, 'fed': 3834, 'septemb': 3835, 'taxi': 3836, 'linger': 3837, 'austen': 3838, 'richardson': 3839, 'nichola': 3840, 'meander': 3841, 'expand': 3842, 'surpass': 3843, 'profess': 3844, 'myth': 3845, 'eugen': 3846, 'tourist': 3847, 'mundan': 3848, 'cannon': 3849, 'waitress': 3850, 'dysfunct': 3851, 'instrument': 3852, 'lure': 3853, 'literatur': 3854, 'descent': 3855, 'household': 3856, 'der': 3857, 'compliment': 3858, 'greedi': 3859, 'spoke': 3860, 'simplic': 3861, 'sue': 3862, 'econom': 3863, 'hum': 3864, 'catchi': 3865, 'nostalgia': 3866, 'rubber': 3867, 'stallon': 3868, 'rant': 3869, 'muddl': 3870, 'furi': 3871, 'occupi': 3872, 'deaf': 3873, 'recognis': 3874, 'damon': 3875, 'june': 3876, 'firstli': 3877, 'mortal': 3878, 'dement': 3879, 'phantom': 3880, 'map': 3881, 'sissi': 3882, 'molli': 3883, 'hello': 3884, 'eaten': 3885, 'insur': 3886, 'alongsid': 3887, 'crucial': 3888, 'carel': 3889, 'duck': 3890, 'dictat': 3891, 'omen': 3892, 'irrelev': 3893, 'stale': 3894, 'mankind': 3895, 'coast': 3896, 'phoni': 3897, 'flee': 3898, 'cent': 3899, 'randi': 3900, 'equival': 3901, 'bacal': 3902, 'recognit': 3903, 'lang': 3904, 'louis': 3905, 'daisi': 3906, 'bump': 3907, 'labor': 3908, 'reign': 3909, 'buffalo': 3910, 'likewis': 3911, 'lengthi': 3912, 'twilight': 3913, 'newli': 3914, 'freez': 3915, 'cyborg': 3916, 'rude': 3917, 'loyalti': 3918, 'bike': 3919, '1973': 3920, 'blackmail': 3921, 'onlin': 3922, 'biko': 3923, 'damm': 3924, 'wisdom': 3925, 'heel': 3926, 'ashley': 3927, 'antwon': 3928, 'drake': 3929, 'grayson': 3930, 'rooney': 3931, 'dreari': 3932, 'distinguish': 3933, 'proce': 3934, 'keith': 3935, 'startl': 3936, 'baddi': 3937, 'nineti': 3938, 'exposur': 3939, 'incorpor': 3940, 'tunnel': 3941, 'vein': 3942, 'approv': 3943, 'sailor': 3944, 'ridden': 3945, 'provoc': 3946, 'inher': 3947, 'interior': 3948, 'boxer': 3949, 'chronicl': 3950, 'worn': 3951, 'pink': 3952, 'analysi': 3953, 'barrymor': 3954, 'attribut': 3955, 'emphas': 3956, 'butler': 3957, 'basketbal': 3958, 'prey': 3959, 'unorigin': 3960, 'underli': 3961, 'barrel': 3962, 'stalker': 3963, 'julian': 3964, 'hypnot': 3965, 'undeni': 3966, 'elm': 3967, 'mighti': 3968, 'improvis': 3969, 'othello': 3970, 'condemn': 3971, 'indiffer': 3972, 'degrad': 3973, 'er': 3974, 'drift': 3975, 'bunni': 3976, 'meg': 3977, 'fleet': 3978, 'meyer': 3979, 'robbin': 3980, 'nicol': 3981, 'predat': 3982, 'belushi': 3983, 'unrel': 3984, 'substitut': 3985, 'millionair': 3986, 'walsh': 3987, 'mormon': 3988, 'carla': 3989, 'simmon': 3990, 'shove': 3991, 'palac': 3992, 'unawar': 3993, 'dolph': 3994, 'marion': 3995, 'hay': 3996, 'vital': 3997, 'edgi': 3998, 'enthusiasm': 3999, '3d': 4000, 'firm': 4001, 'warmth': 4002, 'rukh': 4003, 'exquisit': 4004, 'disord': 4005, 'mtv': 4006, 'agenda': 4007, 'nyc': 4008, 'errol': 4009, 'alarm': 4010, 'priceless': 4011, 'roof': 4012, 'novak': 4013, 'greed': 4014, 'watson': 4015, 'reid': 4016, 'lampoon': 4017, 'alison': 4018, '13th': 4019, 'drip': 4020, 'minimum': 4021, 'testament': 4022, 'israel': 4023, 'eastern': 4024, 'crown': 4025, 'peril': 4026, 'beatl': 4027, 'thompson': 4028, 'orlean': 4029, 'peck': 4030, 'sergeant': 4031, 'what': 4032, 'glanc': 4033, 'showdown': 4034, 'iraq': 4035, 'championship': 4036, 'petti': 4037, 'zizek': 4038, 'campaign': 4039, 'distort': 4040, 'angela': 4041, 'pamela': 4042, 'valentin': 4043, 'randomli': 4044, 'gestur': 4045, 'nun': 4046, '1933': 4047, 'session': 4048, 'unleash': 4049, 'simultan': 4050, 'coup': 4051, 'profit': 4052, 'ponder': 4053, 'preserv': 4054, 'spain': 4055, 'cassidi': 4056, 'scotland': 4057, 'exposit': 4058, 'quinn': 4059, 'represent': 4060, 'climat': 4061, 'cream': 4062, 'bro': 4063, 'crawl': 4064, 'perpetu': 4065, 'mon': 4066, '1984': 4067, 'wig': 4068, 'gentleman': 4069, 'crow': 4070, 'han': 4071, 'reson': 4072, 'jan': 4073, 'miyazaki': 4074, 'kurosawa': 4075, 'travesti': 4076, 'contradict': 4077, 'realm': 4078, 'stake': 4079, 'restrain': 4080, 'sabrina': 4081, 'empathi': 4082, 'calib': 4083, 'shootout': 4084, 'brenda': 4085, 'rout': 4086, 'cooki': 4087, 'stroke': 4088, 'buster': 4089, 'unimagin': 4090, 'valley': 4091, 'fido': 4092, 'regist': 4093, 'din': 4094, 'wax': 4095, 'geek': 4096, 'sucker': 4097, '1997': 4098, '1987': 4099, 'crawford': 4100, 'painter': 4101, 'monoton': 4102, 'fuller': 4103, 'dana': 4104, 'demis': 4105, 'absent': 4106, 'baldwin': 4107, 'unseen': 4108, 'greg': 4109, 'passabl': 4110, 'ross': 4111, 'derang': 4112, 'shaki': 4113, 'warrant': 4114, 'pole': 4115, 'josh': 4116, 'shoddi': 4117, 'censor': 4118, 'delic': 4119, 'traumat': 4120, 'pretens': 4121, 'compromis': 4122, 'distress': 4123, 'stargat': 4124, 'businessman': 4125, 'unsatisfi': 4126, 'cloud': 4127, 'abomin': 4128, 'perceiv': 4129, 'soderbergh': 4130, 'meryl': 4131, 'femm': 4132, 'darren': 4133, 'mclaglen': 4134, 'tacki': 4135, 'spacey': 4136, 'sammi': 4137, 'ustinov': 4138, 'norm': 4139, 'furiou': 4140, 'austin': 4141, 'deceas': 4142, 'accuraci': 4143, 'primit': 4144, 'verbal': 4145, 'exclus': 4146, 'clash': 4147, 'nathan': 4148, 'uncov': 4149, 'tarantino': 4150, 'unravel': 4151, 'dee': 4152, 'reluct': 4153, 'valid': 4154, 'tech': 4155, 'jewel': 4156, 'deniro': 4157, 'click': 4158, 'fog': 4159, 'judgment': 4160, 'kumar': 4161, '1993': 4162, 'sid': 4163, 'polici': 4164, 'correctli': 4165, 'fenc': 4166, 'expedit': 4167, 'wholli': 4168, 'seal': 4169, 'anchor': 4170, 'antonioni': 4171, 'behold': 4172, 'bake': 4173, 'roller': 4174, 'nicola': 4175, 'sustain': 4176, '2008': 4177, 'sheet': 4178, 'ritual': 4179, 'mode': 4180, 'unfair': 4181, 'trait': 4182, '3000': 4183, 'logan': 4184, 'clerk': 4185, '1971': 4186, 'enforc': 4187, 'alec': 4188, 'fart': 4189, 'tax': 4190, 'hallucin': 4191, 'wretch': 4192, 'patienc': 4193, 'wang': 4194, 'sand': 4195, 'fought': 4196, 'darn': 4197, 'dreck': 4198, 'pocket': 4199, 'vanc': 4200, 'crippl': 4201, 'sunni': 4202, '1995': 4203, 'fabric': 4204, 'murray': 4205, 'conduct': 4206, 'temper': 4207, 'shanghai': 4208, 'debt': 4209, 'slam': 4210, 'joel': 4211, 'seldom': 4212, 'malon': 4213, 'phil': 4214, 'squad': 4215, 'preposter': 4216, 'conscious': 4217, 'divid': 4218, 'legaci': 4219, 'guitar': 4220, 'runner': 4221, 'exhaust': 4222, 'fundament': 4223, 'stark': 4224, 'robber': 4225, 'stuart': 4226, 'schedul': 4227, 'technicolor': 4228, 'clau': 4229, 'rita': 4230, 'sweep': 4231, 'grief': 4232, 'preston': 4233, 'penni': 4234, 'canyon': 4235, 'despis': 4236, 'tactic': 4237, 'scriptwrit': 4238, 'shell': 4239, 'helpless': 4240, 'outlin': 4241, 'bias': 4242, 'critiqu': 4243, 'isabel': 4244, 'bridget': 4245, 'soup': 4246, 'pete': 4247, 'invad': 4248, 'delv': 4249, 'drove': 4250, 'downey': 4251, 'passag': 4252, 'cigarett': 4253, 'rear': 4254, 'boyl': 4255, 'restrict': 4256, 'marc': 4257, 'jacket': 4258, 'flair': 4259, 'gregori': 4260, 'alicia': 4261, 'connor': 4262, 'agenc': 4263, 'vomit': 4264, 'unexpectedli': 4265, 'consciou': 4266, 'rehash': 4267, 'bloom': 4268, 'liberti': 4269, 'implic': 4270, 'sugar': 4271, 'culmin': 4272, 'russia': 4273, 'newman': 4274, 'lacklust': 4275, 'inabl': 4276, 'propos': 4277, 'jodi': 4278, 'palanc': 4279, 'alley': 4280, 'sentinel': 4281, 'sniper': 4282, 'kansa': 4283, 'horn': 4284, '1936': 4285, 'mccoy': 4286, 'cap': 4287, 'improb': 4288, 'asylum': 4289, 'pale': 4290, 'aesthet': 4291, 'tripe': 4292, 'arrow': 4293, 'vet': 4294, 'feat': 4295, 'chainsaw': 4296, 'karl': 4297, 'bacon': 4298, 'lush': 4299, 'foxx': 4300, 'ladder': 4301, 'delet': 4302, 'behaviour': 4303, 'wrench': 4304, '22': 4305, 'rod': 4306, 'rehears': 4307, 'awhil': 4308, 'tendenc': 4309, 'rampag': 4310, 'sharon': 4311, 'kolchak': 4312, 'yeti': 4313, 'coaster': 4314, 'prank': 4315, 'wildli': 4316, 'stream': 4317, 'minu': 4318, 'hulk': 4319, 'globe': 4320, 'sung': 4321, 'elit': 4322, 'shortcom': 4323, '1920': 4324, 'hungri': 4325, 'underneath': 4326, 'aristocrat': 4327, 'newcom': 4328, 'financ': 4329, 'suffici': 4330, '1988': 4331, 'fright': 4332, 'filler': 4333, '1978': 4334, 'spice': 4335, 'tomorrow': 4336, 'loneli': 4337, 'el': 4338, 'weav': 4339, 'lurk': 4340, 'suspicion': 4341, 'paramount': 4342, 'rhythm': 4343, 'basing': 4344, 'paradis': 4345, 'amazon': 4346, 'wagner': 4347, 'rumor': 4348, 'conscienc': 4349, 'hackney': 4350, 'tasteless': 4351, 'visitor': 4352, 'scoop': 4353, '19th': 4354, 'thunderbird': 4355, 'leigh': 4356, 'heist': 4357, 'standout': 4358, 'teas': 4359, 'dirt': 4360, 'recogniz': 4361, '1989': 4362, 'counterpart': 4363, 'bread': 4364, 'hopkin': 4365, 'minist': 4366, 'immers': 4367, 'literari': 4368, 'smell': 4369, 'naughti': 4370, 'en': 4371, 'ram': 4372, 'ingeni': 4373, 'lectur': 4374, 'couch': 4375, 'curli': 4376, 'rub': 4377, 'entranc': 4378, '75': 4379, 'abrupt': 4380, 'secondari': 4381, 'iv': 4382, 'grudg': 4383, 'wwe': 4384, 'inmat': 4385, 'impos': 4386, 'worship': 4387, 'beverli': 4388, 'straightforward': 4389, 'posey': 4390, 'atroc': 4391, '1939': 4392, 'penn': 4393, 'brit': 4394, 'choppi': 4395, 'chavez': 4396, 'springer': 4397, 'quietli': 4398, 'chamberlain': 4399, 'paxton': 4400, 'cancer': 4401, 'tierney': 4402, 'clan': 4403, 'ace': 4404, 'convert': 4405, 'enthral': 4406, '1986': 4407, 'heartfelt': 4408, 'yearn': 4409, 'variat': 4410, 'morbid': 4411, 'moreov': 4412, 'watcher': 4413, 'sassi': 4414, 'injuri': 4415, 'esther': 4416, 'nolan': 4417, 'entitl': 4418, 'lindsay': 4419, 'cattl': 4420, 'ratso': 4421, 'misguid': 4422, 'transcend': 4423, 'geni': 4424, 'missil': 4425, 'policeman': 4426, 'skeptic': 4427, 'quaid': 4428, 'duel': 4429, 'nemesi': 4430, 'sublim': 4431, 'attenborough': 4432, 'bernard': 4433, 'laurenc': 4434, 'net': 4435, 'bean': 4436, 'moder': 4437, 'unexplain': 4438, 'vader': 4439, 'dont': 4440, 'hopelessli': 4441, 'tyler': 4442, 'steadi': 4443, 'brood': 4444, 'diari': 4445, 'obstacl': 4446, 'grin': 4447, 'spiral': 4448, 'egg': 4449, 'youngest': 4450, 'poe': 4451, 'graini': 4452, 'enabl': 4453, 'setup': 4454, 'mytholog': 4455, 'buzz': 4456, 'hk': 4457, 'artsi': 4458, 'cruelti': 4459, 'reliabl': 4460, 'carlito': 4461, 'facil': 4462, 'puppi': 4463, 'characteris': 4464, '1979': 4465, 'out': 4466, 'kidman': 4467, 'uncut': 4468, 'kitti': 4469, 'bye': 4470, 'rosemari': 4471, 'heap': 4472, 'gillian': 4473, 'underworld': 4474, 'clueless': 4475, 'kline': 4476, 'niec': 4477, 'hain': 4478, 'exterior': 4479, 'christin': 4480, 'spontan': 4481, 'weather': 4482, 'effici': 4483, 'despic': 4484, 'hammi': 4485, 'decept': 4486, 'oblig': 4487, 'disastr': 4488, 'bronson': 4489, 'bounc': 4490, 'martha': 4491, 'bewar': 4492, 'fuel': 4493, 'baffl': 4494, 'patricia': 4495, 'acquaint': 4496, '1969': 4497, 'narrow': 4498, 'preming': 4499, 'athlet': 4500, 'sweat': 4501, 'gina': 4502, 'brendan': 4503, 'housewif': 4504, 'loath': 4505, 'sooner': 4506, 'virtu': 4507, 'mayhem': 4508, 'renaiss': 4509, 'headach': 4510, 'tick': 4511, 'taboo': 4512, 'angst': 4513, 'astound': 4514, 'scar': 4515, 'sleepwalk': 4516, 'candl': 4517, '19': 4518, 'goof': 4519, 'dandi': 4520, 'lester': 4521, 'enlist': 4522, 'suprem': 4523, 'injur': 4524, 'analyz': 4525, 'loi': 4526, 'outlaw': 4527, 'dilemma': 4528, 'harmless': 4529, '73': 4530, 'shatter': 4531, 'biker': 4532, 'viewpoint': 4533, 'hepburn': 4534, 'insipid': 4535, 'trigger': 4536, 'rome': 4537, 'preachi': 4538, 'mermaid': 4539, 'circu': 4540, 'uh': 4541, 'fontain': 4542, 'tripl': 4543, 'redund': 4544, 'phenomenon': 4545, 'scorses': 4546, 'bent': 4547, 'contempt': 4548, 'hooker': 4549, 'oldest': 4550, 'stair': 4551, 'foolish': 4552, 'sox': 4553, 'whore': 4554, 'zoom': 4555, 'amor': 4556, 'ebert': 4557, 'salt': 4558, 'immatur': 4559, 'stimul': 4560, 'steer': 4561, 'glorifi': 4562, 'gere': 4563, 'dish': 4564, 'idol': 4565, 'camcord': 4566, 'overlong': 4567, 'spade': 4568, 'boston': 4569, 'hostag': 4570, 'guin': 4571, 'ariel': 4572, 'slimi': 4573, 'macho': 4574, 'claustrophob': 4575, 'filth': 4576, 'dismal': 4577, 'hokey': 4578, 'surgeri': 4579, 'fluff': 4580, 'cassavet': 4581, 'intric': 4582, 'corbett': 4583, 'cush': 4584, 'flirt': 4585, 'obligatori': 4586, 'margin': 4587, 'harold': 4588, 'corman': 4589, 'transplant': 4590, 'spinal': 4591, 'antagonist': 4592, 'mutual': 4593, 'joker': 4594, 'proport': 4595, 'keen': 4596, 'zane': 4597, 'rhyme': 4598, 'faint': 4599, 'shield': 4600, 'preced': 4601, 'flag': 4602, 'remad': 4603, 'strongest': 4604, 'gabl': 4605, 'astronaut': 4606, 'gasp': 4607, 'naschi': 4608, 'messi': 4609, 'conquer': 4610, 'cow': 4611, 'perman': 4612, 'spree': 4613, 'flashi': 4614, 'frantic': 4615, 'mount': 4616, 'fascist': 4617, 'muscl': 4618, 'schlock': 4619, 'trivia': 4620, 'nolt': 4621, 'cohen': 4622, 'dwarf': 4623, '1981': 4624, 'radiat': 4625, 'assert': 4626, 'down': 4627, 'shred': 4628, 'widescreen': 4629, 'beard': 4630, '1976': 4631, 'alvin': 4632, 'persuad': 4633, 'triangl': 4634, 'scandal': 4635, 'flock': 4636, 'barn': 4637, '28': 4638, 'mobil': 4639, 'raj': 4640, 'departur': 4641, 'off': 4642, 'inflict': 4643, 'claud': 4644, 'hara': 4645, 'wield': 4646, 'www': 4647, 'info': 4648, 'brush': 4649, '1945': 4650, 'resum': 4651, '95': 4652, 'interestingli': 4653, 'someday': 4654, 'discern': 4655, 'repris': 4656, 'bachelor': 4657, 'archiv': 4658, 'carey': 4659, 'danish': 4660, 'divin': 4661, 'strive': 4662, 'vaniti': 4663, 'fishburn': 4664, 'bitten': 4665, 'neurot': 4666, 'deer': 4667, 'instruct': 4668, 'boob': 4669, 'mol': 4670, 'ritchi': 4671, 'sensual': 4672, 'aborigin': 4673, 'parson': 4674, 'timberlak': 4675, 'hilar': 4676, 'proclaim': 4677, 'cb': 4678, 'pixar': 4679, 'melissa': 4680, 'carlo': 4681, 'submit': 4682, 'undermin': 4683, 'helm': 4684, 'frontier': 4685, 'recit': 4686, 'harrison': 4687, 'ish': 4688, 'clad': 4689, 'banter': 4690, 'artwork': 4691, 'heartwarm': 4692, 'senior': 4693, 'bate': 4694, 'anton': 4695, 'prophet': 4696, 'cycl': 4697, 'mobster': 4698, 'cher': 4699, 'traffic': 4700, 'dim': 4701, 'rot': 4702, 'hug': 4703, 'casino': 4704, 'wendigo': 4705, 'axe': 4706, 'miracul': 4707, 'dame': 4708, 'luka': 4709, 'hapless': 4710, 'dylan': 4711, 'jade': 4712, 'vibrant': 4713, 'loretta': 4714, 'fragil': 4715, 'europa': 4716, 'earnest': 4717, 'colin': 4718, 'pacif': 4719, 'pickford': 4720, 'kathryn': 4721, 'neill': 4722, 'biblic': 4723, 'cliffhang': 4724, 'feast': 4725, 'antholog': 4726, 'electron': 4727, 'foil': 4728, 'legitim': 4729, 'articl': 4730, 'bikini': 4731, 'seedi': 4732, 'shepherd': 4733, 'akin': 4734, 'isra': 4735, 'token': 4736, 'static': 4737, 'trier': 4738, 'sicken': 4739, 'mason': 4740, 'uma': 4741, 'flavor': 4742, 'wardrob': 4743, 'misfortun': 4744, 'northern': 4745, 'http': 4746, 'marlon': 4747, 'jordan': 4748, 'toronto': 4749, 'orphan': 4750, 'breakfast': 4751, 'jo': 4752, 'vanessa': 4753, 'aris': 4754, 'eli': 4755, 'holocaust': 4756, 'winchest': 4757, 'cerebr': 4758, 'nope': 4759, 'rooki': 4760, 'blatantli': 4761, 'estrang': 4762, 'lucil': 4763, 'illus': 4764, 'razor': 4765, 'milo': 4766, 'lui': 4767, 'pc': 4768, 'venom': 4769, 'choke': 4770, 'vile': 4771, 'redneck': 4772, 'mathieu': 4773, 'alexandr': 4774, 'bondag': 4775, 'gilbert': 4776, 'frog': 4777, 'howl': 4778, 'leather': 4779, 'nightclub': 4780, 'retriev': 4781, 'smack': 4782, 'glare': 4783, 'tack': 4784, 'disregard': 4785, 'styliz': 4786, 'affleck': 4787, 'fifth': 4788, 'turd': 4789, 'dudley': 4790, 'clinic': 4791, 'abund': 4792, 'huston': 4793, 'comprehend': 4794, 'cartoonish': 4795, 'linear': 4796, 'knightley': 4797, 'charlton': 4798, 'feminin': 4799, 'wrestler': 4800, 'ceremoni': 4801, 'shorter': 4802, 'peer': 4803, 'deem': 4804, 'psych': 4805, 'boyer': 4806, 'ideolog': 4807, 'highway': 4808, 'oppon': 4809, 'outdat': 4810, 'audrey': 4811, 'magician': 4812, 'swept': 4813, 'gunga': 4814, 'collector': 4815, 'energet': 4816, '1991': 4817, 'tara': 4818, 'monument': 4819, 'snatch': 4820, 'moe': 4821, 'cemeteri': 4822, 'client': 4823, 'corn': 4824, 'sleaz': 4825, 'spawn': 4826, 'whack': 4827, 'chip': 4828, 'evolut': 4829, 'salman': 4830, 'btw': 4831, 'potter': 4832, 'greet': 4833, 'phenomen': 4834, 'lighter': 4835, 'bastard': 4836, 'senat': 4837, 'conrad': 4838, 'deliver': 4839, 'summar': 4840, 'toe': 4841, 'durat': 4842, 'newer': 4843, 'breakdown': 4844, 'lavish': 4845, '1994': 4846, 'cuban': 4847, 'compris': 4848, 'goldsworthi': 4849, 'einstein': 4850, 'boo': 4851, 'lifeless': 4852, '4th': 4853, 'spine': 4854, 'mitch': 4855, 'plate': 4856, 'braveheart': 4857, 'bogu': 4858, 'uniformli': 4859, 'creek': 4860, 'inaccuraci': 4861, 'jedi': 4862, 'neatli': 4863, 'spectacl': 4864, 'wtf': 4865, 'outright': 4866, 'appl': 4867, 'capot': 4868, 'eleven': 4869, 'historian': 4870, 'embark': 4871, 'cecil': 4872, 'luxuri': 4873, '1977': 4874, 'firmli': 4875, 'constitut': 4876, 'nina': 4877, 'evelyn': 4878, 'sorrow': 4879, 'gilliam': 4880, '1974': 4881, 'randolph': 4882, 'fluid': 4883, 'armstrong': 4884, 'bori': 4885, 'trauma': 4886, 'mcqueen': 4887, 'ol': 4888, 'undertak': 4889, 'lex': 4890, 'ie': 4891, 'alleg': 4892, 'signal': 4893, 'pronounc': 4894, 'healthi': 4895, 'kent': 4896, 'undead': 4897, 'occup': 4898, 'bulk': 4899, 'replay': 4900, 'jare': 4901, 'kazan': 4902, 'jule': 4903, 'judd': 4904, 'liu': 4905, 'clara': 4906, 'belli': 4907, 'jam': 4908, 'vain': 4909, 'conan': 4910, 'decapit': 4911, 'unattract': 4912, 'pepper': 4913, 'meal': 4914, 'sidewalk': 4915, 'pioneer': 4916, 'genet': 4917, 'miniseri': 4918, 'blur': 4919, 'comprehens': 4920, 'unsuspect': 4921, 'comb': 4922, 'mum': 4923, 'roar': 4924, 'truman': 4925, 'abound': 4926, 'forgiven': 4927, 'goldblum': 4928, 'lanc': 4929, 'congratul': 4930, 'id': 4931, 'carmen': 4932, 'galaxi': 4933, 'fruit': 4934, 'knee': 4935, 'rosario': 4936, '1985': 4937, 'curtain': 4938, 'cape': 4939, 'miami': 4940, 'groan': 4941, 'relentless': 4942, 'bait': 4943, 'sacrif': 4944, 'vignett': 4945, 'inaccur': 4946, 'inclus': 4947, 'subtli': 4948, 'tokyo': 4949, 'aussi': 4950, 'spray': 4951, 'poker': 4952, 'basket': 4953, 'ash': 4954, 'palm': 4955, 'porter': 4956, 'kiddi': 4957, 'propheci': 4958, 'walt': 4959, 'bsg': 4960, 'lauren': 4961, 'paula': 4962, 'antonio': 4963, 'weaker': 4964, 'ingrid': 4965, 'playboy': 4966, 'modest': 4967, 'sparkl': 4968, 'spill': 4969, 'optimist': 4970, 'asset': 4971, 'hostil': 4972, 'growth': 4973, 'rapidli': 4974, 'motorcycl': 4975, 'verg': 4976, 'epitom': 4977, 'incorrect': 4978, 'orchestr': 4979, 'ghetto': 4980, 'monti': 4981, 'weari': 4982, 'bach': 4983, 'evan': 4984, 'victorian': 4985, 'drone': 4986, 'assort': 4987, 'sophi': 4988, 'bravo': 4989, 'mice': 4990, 'detach': 4991, 'scariest': 4992, 'profil': 4993, 'macabr': 4994, 'frontal': 4995, 'masterson': 4996, 'handicap': 4997, 'vastli': 4998, 'dubiou': 4999}\n"
     ]
    }
   ],
   "source": [
    "word_dict = build_dict(train_X)\n",
    "print(word_dict)"
   ]
  },
  {
   "cell_type": "markdown",
   "metadata": {},
   "source": [
    "**Question:** What are the five most frequently appearing (tokenized) words in the training set? Does it makes sense that these words appear frequently in the training set?"
   ]
  },
  {
   "cell_type": "markdown",
   "metadata": {},
   "source": [
    "**Answer:**"
   ]
  },
  {
   "cell_type": "code",
   "execution_count": 14,
   "metadata": {},
   "outputs": [
    {
     "data": {
      "text/plain": [
       "['movi', 'film', 'one', 'like', 'time']"
      ]
     },
     "execution_count": 14,
     "metadata": {},
     "output_type": "execute_result"
    }
   ],
   "source": [
    "# TODO: Use this space to determine the five most frequently appearing words in the training set.\n",
    "list(word_dict.keys())[:5]"
   ]
  },
  {
   "cell_type": "markdown",
   "metadata": {},
   "source": [
    "### Save `word_dict`\n",
    "\n",
    "Later on when we construct an endpoint which processes a submitted review we will need to make use of the `word_dict` which we have created. As such, we will save it to a file now for future use."
   ]
  },
  {
   "cell_type": "code",
   "execution_count": 15,
   "metadata": {},
   "outputs": [],
   "source": [
    "data_dir = '../data/pytorch' # The folder we will use for storing data\n",
    "if not os.path.exists(data_dir): # Make sure that the folder exists\n",
    "    os.makedirs(data_dir)"
   ]
  },
  {
   "cell_type": "code",
   "execution_count": 16,
   "metadata": {},
   "outputs": [],
   "source": [
    "with open(os.path.join(data_dir, 'word_dict.pkl'), \"wb\") as f:\n",
    "    pickle.dump(word_dict, f)"
   ]
  },
  {
   "cell_type": "markdown",
   "metadata": {},
   "source": [
    "### Transform the reviews\n",
    "\n",
    "Now that we have our word dictionary which allows us to transform the words appearing in the reviews into integers, it is time to make use of it and convert our reviews to their integer sequence representation, making sure to pad or truncate to a fixed length, which in our case is `500`."
   ]
  },
  {
   "cell_type": "code",
   "execution_count": 17,
   "metadata": {},
   "outputs": [],
   "source": [
    "def convert_and_pad(word_dict, sentence, pad=500):\n",
    "    NOWORD = 0 # We will use 0 to represent the 'no word' category\n",
    "    INFREQ = 1 # and we use 1 to represent the infrequent words, i.e., words not appearing in word_dict\n",
    "    \n",
    "    working_sentence = [NOWORD] * pad\n",
    "    \n",
    "    for word_index, word in enumerate(sentence[:pad]):\n",
    "        if word in word_dict:\n",
    "            working_sentence[word_index] = word_dict[word]\n",
    "        else:\n",
    "            working_sentence[word_index] = INFREQ\n",
    "            \n",
    "    return working_sentence, min(len(sentence), pad)\n",
    "\n",
    "def convert_and_pad_data(word_dict, data, pad=500):\n",
    "    result = []\n",
    "    lengths = []\n",
    "    \n",
    "    for sentence in data:\n",
    "        converted, leng = convert_and_pad(word_dict, sentence, pad)\n",
    "        result.append(converted)\n",
    "        lengths.append(leng)\n",
    "        \n",
    "    return np.array(result), np.array(lengths)"
   ]
  },
  {
   "cell_type": "code",
   "execution_count": 18,
   "metadata": {},
   "outputs": [],
   "source": [
    "train_X, train_X_len = convert_and_pad_data(word_dict, train_X)\n",
    "test_X, test_X_len = convert_and_pad_data(word_dict, test_X)"
   ]
  },
  {
   "cell_type": "markdown",
   "metadata": {},
   "source": [
    "As a quick check to make sure that things are working as intended, check to see what one of the reviews in the training set looks like after having been processeed. Does this look reasonable? What is the length of a review in the training set?"
   ]
  },
  {
   "cell_type": "code",
   "execution_count": 19,
   "metadata": {},
   "outputs": [
    {
     "name": "stdout",
     "output_type": "stream",
     "text": [
      "=======================================\n",
      "The first review:\n",
      "[3237 2744 2783  367    4  138   10  228  739  439  336   51  881  983\n",
      "  237   56  200 3237  318 1313   48  476  138    1 1047  957 1180 2745\n",
      " 1386  535  175    1  463    1 4472 3264  142  145  501    1  196    1\n",
      "    1 1756 1623    1  779 3237  745  440 1891    1 2132 3845 1109    1\n",
      " 4436 4403    1    1    1    1  118 1349    1   22 1319    1    1 4725\n",
      "  293 2519  122    1  719 1756 1392    1 2336    1 3416    1 1272  133\n",
      "   97 1290    1   84  142   11 2951   17   14   57 1805 1441  688  225\n",
      "  262   14   51    1 1891   14   11 2394 1457  604  524 1606  687   31\n",
      "   21    1  213 1320    1    1   19    5 3507 2124  838 2075  269   48\n",
      "  114  387    1  103  225  631 1814    1 3237   29   69   34  294 1425\n",
      "   45 3264  129  823 2274 1598  396 1373 1005    1 4139    1  276   20\n",
      "    1    9 3417  117  527    1  172 2811  275 1963   31  498 1780  575\n",
      "  166  868   21    1    1   32  248  611  687   70 1986   10  613  634\n",
      "  445  373    4   18    1   79   11 4473 4356 1380 1198  458  169   42\n",
      "    1  119  215 4214 1489   16 1469    1    9 1094  347 3585   24  336\n",
      "  442   10 4356 1913 1198 2337  104  181  355  134  389  456    1    1\n",
      "  996    1 1363   81    1 1663 1974 1246   89   27   96  800   37    4\n",
      " 1980  766  881    1    1 1026  114  119   10  328  373 3418  141   11\n",
      " 2275    1 3418  249 1079  117   42  240  132   19    3  216  204   13\n",
      "    9  350    1    1  419  537   69   67  993    1  165 1187  604  175\n",
      "    1  530    1    1  266   73  139    4  376    1  675  663  101  393\n",
      "  597    1 1079  249 1278  687    1 1891    1  992 1529    0    0    0\n",
      "    0    0    0    0    0    0    0    0    0    0    0    0    0    0\n",
      "    0    0    0    0    0    0    0    0    0    0    0    0    0    0\n",
      "    0    0    0    0    0    0    0    0    0    0    0    0    0    0\n",
      "    0    0    0    0    0    0    0    0    0    0    0    0    0    0\n",
      "    0    0    0    0    0    0    0    0    0    0    0    0    0    0\n",
      "    0    0    0    0    0    0    0    0    0    0    0    0    0    0\n",
      "    0    0    0    0    0    0    0    0    0    0    0    0    0    0\n",
      "    0    0    0    0    0    0    0    0    0    0    0    0    0    0\n",
      "    0    0    0    0    0    0    0    0    0    0    0    0    0    0\n",
      "    0    0    0    0    0    0    0    0    0    0    0    0    0    0\n",
      "    0    0    0    0    0    0    0    0    0    0    0    0    0    0\n",
      "    0    0    0    0    0    0    0    0    0    0    0    0    0    0\n",
      "    0    0    0    0    0    0    0    0    0    0    0    0    0    0\n",
      "    0    0    0    0    0    0    0    0    0    0]\n",
      "=======================================\n",
      "\n",
      "The length of the review\n",
      "500\n"
     ]
    }
   ],
   "source": [
    "# Use this cell to examine one of the processed reviews to make sure everything is working as intended.\n",
    "print(\"=======================================\")\n",
    "print(\"The first review:\")\n",
    "print(train_X[0])\n",
    "print(\"=======================================\")\n",
    "print()\n",
    "#print(train_X[1])\n",
    "\n",
    "#print(len(train_X[0]))\n",
    "#print()\n",
    "print(\"The length of the review\")\n",
    "print(len(train_X[0]))\n"
   ]
  },
  {
   "cell_type": "markdown",
   "metadata": {},
   "source": [
    "**Question:** In the cells above we use the `preprocess_data` and `convert_and_pad_data` methods to process both the training and testing set. Why or why not might this be a problem?"
   ]
  },
  {
   "cell_type": "markdown",
   "metadata": {},
   "source": [
    "**Answer:**\n",
    "* In preprocess_data and convert_and_pad_data are applied both on training and test set, which is of course good\n",
    "* In convert_and_pad_data big reviews are ignored, so some information is not taken into account\n",
    "* And new data samples can have new data\n"
   ]
  },
  {
   "cell_type": "markdown",
   "metadata": {},
   "source": [
    "## Step 3: Upload the data to S3\n",
    "\n",
    "As in the XGBoost notebook, we will need to upload the training dataset to S3 in order for our training code to access it. For now we will save it locally and we will upload to S3 later on.\n",
    "\n",
    "### Save the processed training dataset locally\n",
    "\n",
    "It is important to note the format of the data that we are saving as we will need to know it when we write the training code. In our case, each row of the dataset has the form `label`, `length`, `review[500]` where `review[500]` is a sequence of `500` integers representing the words in the review."
   ]
  },
  {
   "cell_type": "code",
   "execution_count": 20,
   "metadata": {},
   "outputs": [],
   "source": [
    "import pandas as pd\n",
    "    \n",
    "pd.concat([pd.DataFrame(train_y), pd.DataFrame(train_X_len), pd.DataFrame(train_X)], axis=1) \\\n",
    "        .to_csv(os.path.join(data_dir, 'train.csv'), header=False, index=False)"
   ]
  },
  {
   "cell_type": "markdown",
   "metadata": {},
   "source": [
    "### Uploading the training data\n",
    "\n",
    "\n",
    "Next, we need to upload the training data to the SageMaker default S3 bucket so that we can provide access to it while training our model."
   ]
  },
  {
   "cell_type": "code",
   "execution_count": 21,
   "metadata": {},
   "outputs": [],
   "source": [
    "import sagemaker\n",
    "\n",
    "sagemaker_session = sagemaker.Session()\n",
    "\n",
    "bucket = sagemaker_session.default_bucket()\n",
    "prefix = 'sagemaker/sentiment_rnn'\n",
    "\n",
    "role = sagemaker.get_execution_role()"
   ]
  },
  {
   "cell_type": "code",
   "execution_count": 22,
   "metadata": {},
   "outputs": [],
   "source": [
    "input_data = sagemaker_session.upload_data(path=data_dir, bucket=bucket, key_prefix=prefix)"
   ]
  },
  {
   "cell_type": "markdown",
   "metadata": {},
   "source": [
    "**NOTE:** The cell above uploads the entire contents of our data directory. This includes the `word_dict.pkl` file. This is fortunate as we will need this later on when we create an endpoint that accepts an arbitrary review. For now, we will just take note of the fact that it resides in the data directory (and so also in the S3 training bucket) and that we will need to make sure it gets saved in the model directory."
   ]
  },
  {
   "cell_type": "markdown",
   "metadata": {},
   "source": [
    "## Step 4: Build and Train the PyTorch Model\n",
    "\n",
    "In the XGBoost notebook we discussed what a model is in the SageMaker framework. In particular, a model comprises three objects\n",
    "\n",
    " - Model Artifacts,\n",
    " - Training Code, and\n",
    " - Inference Code,\n",
    " \n",
    "each of which interact with one another. In the XGBoost example we used training and inference code that was provided by Amazon. Here we will still be using containers provided by Amazon with the added benefit of being able to include our own custom code.\n",
    "\n",
    "We will start by implementing our own neural network in PyTorch along with a training script. For the purposes of this project we have provided the necessary model object in the `model.py` file, inside of the `train` folder. You can see the provided implementation by running the cell below."
   ]
  },
  {
   "cell_type": "code",
   "execution_count": 23,
   "metadata": {},
   "outputs": [
    {
     "name": "stdout",
     "output_type": "stream",
     "text": [
      "\u001b[34mimport\u001b[39;49;00m \u001b[04m\u001b[36mtorch\u001b[39;49;00m\u001b[04m\u001b[36m.\u001b[39;49;00m\u001b[04m\u001b[36mnn\u001b[39;49;00m \u001b[34mas\u001b[39;49;00m \u001b[04m\u001b[36mnn\u001b[39;49;00m\r\n",
      "\r\n",
      "\u001b[34mclass\u001b[39;49;00m \u001b[04m\u001b[32mLSTMClassifier\u001b[39;49;00m(nn.Module):\r\n",
      "    \u001b[33m\"\"\"\u001b[39;49;00m\r\n",
      "\u001b[33m    This is the simple RNN model we will be using to perform Sentiment Analysis.\u001b[39;49;00m\r\n",
      "\u001b[33m    \"\"\"\u001b[39;49;00m\r\n",
      "\r\n",
      "    \u001b[34mdef\u001b[39;49;00m \u001b[32m__init__\u001b[39;49;00m(\u001b[36mself\u001b[39;49;00m, embedding_dim, hidden_dim, vocab_size):\r\n",
      "        \u001b[33m\"\"\"\u001b[39;49;00m\r\n",
      "\u001b[33m        Initialize the model by settingg up the various layers.\u001b[39;49;00m\r\n",
      "\u001b[33m        \"\"\"\u001b[39;49;00m\r\n",
      "        \u001b[36msuper\u001b[39;49;00m(LSTMClassifier, \u001b[36mself\u001b[39;49;00m).\u001b[32m__init__\u001b[39;49;00m()\r\n",
      "\r\n",
      "        \u001b[36mself\u001b[39;49;00m.embedding = nn.Embedding(vocab_size, embedding_dim, padding_idx=\u001b[34m0\u001b[39;49;00m)\r\n",
      "        \u001b[36mself\u001b[39;49;00m.lstm = nn.LSTM(embedding_dim, hidden_dim)\r\n",
      "        \u001b[36mself\u001b[39;49;00m.dense = nn.Linear(in_features=hidden_dim, out_features=\u001b[34m1\u001b[39;49;00m)\r\n",
      "        \u001b[36mself\u001b[39;49;00m.sig = nn.Sigmoid()\r\n",
      "        \r\n",
      "        \u001b[36mself\u001b[39;49;00m.word_dict = \u001b[34mNone\u001b[39;49;00m\r\n",
      "\r\n",
      "    \u001b[34mdef\u001b[39;49;00m \u001b[32mforward\u001b[39;49;00m(\u001b[36mself\u001b[39;49;00m, x):\r\n",
      "        \u001b[33m\"\"\"\u001b[39;49;00m\r\n",
      "\u001b[33m        Perform a forward pass of our model on some input.\u001b[39;49;00m\r\n",
      "\u001b[33m        \"\"\"\u001b[39;49;00m\r\n",
      "        x = x.t()\r\n",
      "        lengths = x[\u001b[34m0\u001b[39;49;00m,:]\r\n",
      "        reviews = x[\u001b[34m1\u001b[39;49;00m:,:]\r\n",
      "        embeds = \u001b[36mself\u001b[39;49;00m.embedding(reviews)\r\n",
      "        lstm_out, _ = \u001b[36mself\u001b[39;49;00m.lstm(embeds)\r\n",
      "        out = \u001b[36mself\u001b[39;49;00m.dense(lstm_out)\r\n",
      "        out = out[lengths - \u001b[34m1\u001b[39;49;00m, \u001b[36mrange\u001b[39;49;00m(\u001b[36mlen\u001b[39;49;00m(lengths))]\r\n",
      "        \u001b[34mreturn\u001b[39;49;00m \u001b[36mself\u001b[39;49;00m.sig(out.squeeze())\r\n"
     ]
    }
   ],
   "source": [
    "!pygmentize train/model.py"
   ]
  },
  {
   "cell_type": "markdown",
   "metadata": {},
   "source": [
    "The important takeaway from the implementation provided is that there are three parameters that we may wish to tweak to improve the performance of our model. These are the embedding dimension, the hidden dimension and the size of the vocabulary. We will likely want to make these parameters configurable in the training script so that if we wish to modify them we do not need to modify the script itself. We will see how to do this later on. To start we will write some of the training code in the notebook so that we can more easily diagnose any issues that arise.\n",
    "\n",
    "First we will load a small portion of the training data set to use as a sample. It would be very time consuming to try and train the model completely in the notebook as we do not have access to a gpu and the compute instance that we are using is not particularly powerful. However, we can work on a small bit of the data to get a feel for how our training script is behaving."
   ]
  },
  {
   "cell_type": "code",
   "execution_count": 24,
   "metadata": {},
   "outputs": [],
   "source": [
    "import torch\n",
    "import torch.utils.data\n",
    "\n",
    "# Read in only the first 250 rows\n",
    "train_sample = pd.read_csv(os.path.join(data_dir, 'train.csv'), header=None, names=None, nrows=250)\n",
    "\n",
    "# Turn the input pandas dataframe into tensors\n",
    "train_sample_y = torch.from_numpy(train_sample[[0]].values).float().squeeze()\n",
    "train_sample_X = torch.from_numpy(train_sample.drop([0], axis=1).values).long()\n",
    "\n",
    "# Build the dataset\n",
    "train_sample_ds = torch.utils.data.TensorDataset(train_sample_X, train_sample_y)\n",
    "# Build the dataloader\n",
    "train_sample_dl = torch.utils.data.DataLoader(train_sample_ds, batch_size=50)"
   ]
  },
  {
   "cell_type": "markdown",
   "metadata": {},
   "source": [
    "### (TODO) Writing the training method\n",
    "\n",
    "Next we need to write the training code itself. This should be very similar to training methods that you have written before to train PyTorch models. We will leave any difficult aspects such as model saving / loading and parameter loading until a little later."
   ]
  },
  {
   "cell_type": "code",
   "execution_count": 25,
   "metadata": {},
   "outputs": [],
   "source": [
    "def train(model, train_loader, epochs, optimizer, loss_fn, device):\n",
    "    for epoch in range(1, epochs + 1):\n",
    "        model.train()\n",
    "        total_loss = 0\n",
    "        for batch in train_loader:         \n",
    "            batch_X, batch_y = batch\n",
    "            \n",
    "            batch_X = batch_X.to(device)\n",
    "            batch_y = batch_y.to(device)\n",
    "            \n",
    "            # TODO: Complete this train method to train the model provided.\n",
    "            #set the accumulated gradients to zero\n",
    "            model.zero_grad()\n",
    "            \n",
    "            #forward propagation, calculate the output\n",
    "            output=model.forward(batch_X)\n",
    "            \n",
    "            #calculate the loss\n",
    "            loss=loss_fn(output.squeeze(),batch_y)\n",
    "            \n",
    "            #backward propagation\n",
    "            loss.backward()\n",
    "            \n",
    "            #optimization step\n",
    "            optimizer.step()\n",
    "            \n",
    "            total_loss += loss.data.item()\n",
    "        print(\"Epoch: {}, BCELoss: {}\".format(epoch, total_loss / len(train_loader)))"
   ]
  },
  {
   "cell_type": "markdown",
   "metadata": {},
   "source": [
    "Supposing we have the training method above, we will test that it is working by writing a bit of code in the notebook that executes our training method on the small sample training set that we loaded earlier. The reason for doing this in the notebook is so that we have an opportunity to fix any errors that arise early when they are easier to diagnose."
   ]
  },
  {
   "cell_type": "code",
   "execution_count": 26,
   "metadata": {},
   "outputs": [
    {
     "name": "stdout",
     "output_type": "stream",
     "text": [
      "Epoch: 1, BCELoss: 0.6937427639961242\n",
      "Epoch: 2, BCELoss: 0.6846665143966675\n",
      "Epoch: 3, BCELoss: 0.676603126525879\n",
      "Epoch: 4, BCELoss: 0.6674444794654846\n",
      "Epoch: 5, BCELoss: 0.6559481024742126\n"
     ]
    }
   ],
   "source": [
    "import torch.optim as optim\n",
    "from train.model import LSTMClassifier\n",
    "\n",
    "device = torch.device(\"cuda\" if torch.cuda.is_available() else \"cpu\")\n",
    "model = LSTMClassifier(32, 100, 5000).to(device)\n",
    "optimizer = optim.Adam(model.parameters())\n",
    "loss_fn = torch.nn.BCELoss()\n",
    "\n",
    "train(model, train_sample_dl, 5, optimizer, loss_fn, device)"
   ]
  },
  {
   "cell_type": "markdown",
   "metadata": {},
   "source": [
    "In order to construct a PyTorch model using SageMaker we must provide SageMaker with a training script. We may optionally include a directory which will be copied to the container and from which our training code will be run. When the training container is executed it will check the uploaded directory (if there is one) for a `requirements.txt` file and install any required Python libraries, after which the training script will be run."
   ]
  },
  {
   "cell_type": "markdown",
   "metadata": {},
   "source": [
    "### (TODO) Training the model\n",
    "\n",
    "When a PyTorch model is constructed in SageMaker, an entry point must be specified. This is the Python file which will be executed when the model is trained. Inside of the `train` directory is a file called `train.py` which has been provided and which contains most of the necessary code to train our model. The only thing that is missing is the implementation of the `train()` method which you wrote earlier in this notebook.\n",
    "\n",
    "**TODO**: Copy the `train()` method written above and paste it into the `train/train.py` file where required.\n",
    "\n",
    "The way that SageMaker passes hyperparameters to the training script is by way of arguments. These arguments can then be parsed and used in the training script. To see how this is done take a look at the provided `train/train.py` file."
   ]
  },
  {
   "cell_type": "code",
   "execution_count": 27,
   "metadata": {},
   "outputs": [],
   "source": [
    "from sagemaker.pytorch import PyTorch\n",
    "\n",
    "estimator = PyTorch(entry_point=\"train.py\",\n",
    "                    source_dir=\"train\",\n",
    "                    role=role,\n",
    "                    framework_version='0.4.0',\n",
    "                    train_instance_count=1,\n",
    "                    train_instance_type='ml.m4.xlarge',\n",
    "                    hyperparameters={\n",
    "                        'epochs': 10,\n",
    "                        'hidden_dim': 200,\n",
    "                    })\n"
   ]
  },
  {
   "cell_type": "code",
   "execution_count": 28,
   "metadata": {},
   "outputs": [
    {
     "name": "stderr",
     "output_type": "stream",
     "text": [
      "'create_image_uri' will be deprecated in favor of 'ImageURIProvider' class in SageMaker Python SDK v2.\n",
      "'s3_input' class will be renamed to 'TrainingInput' in SageMaker Python SDK v2.\n",
      "'create_image_uri' will be deprecated in favor of 'ImageURIProvider' class in SageMaker Python SDK v2.\n"
     ]
    },
    {
     "name": "stdout",
     "output_type": "stream",
     "text": [
      "2021-01-22 12:14:25 Starting - Starting the training job...\n",
      "2021-01-22 12:14:26 Starting - Launching requested ML instances......\n",
      "2021-01-22 12:15:46 Starting - Preparing the instances for training......\n",
      "2021-01-22 12:16:40 Downloading - Downloading input data...\n",
      "2021-01-22 12:17:24 Training - Training image download completed. Training in progress..\u001b[34mbash: cannot set terminal process group (-1): Inappropriate ioctl for device\u001b[0m\n",
      "\u001b[34mbash: no job control in this shell\u001b[0m\n",
      "\u001b[34m2021-01-22 12:17:25,448 sagemaker-containers INFO     Imported framework sagemaker_pytorch_container.training\u001b[0m\n",
      "\u001b[34m2021-01-22 12:17:25,451 sagemaker-containers INFO     No GPUs detected (normal if no gpus installed)\u001b[0m\n",
      "\u001b[34m2021-01-22 12:17:25,464 sagemaker_pytorch_container.training INFO     Block until all host DNS lookups succeed.\u001b[0m\n",
      "\u001b[34m2021-01-22 12:17:25,468 sagemaker_pytorch_container.training INFO     Invoking user training script.\u001b[0m\n",
      "\u001b[34m2021-01-22 12:17:25,745 sagemaker-containers INFO     Module train does not provide a setup.py. \u001b[0m\n",
      "\u001b[34mGenerating setup.py\u001b[0m\n",
      "\u001b[34m2021-01-22 12:17:25,745 sagemaker-containers INFO     Generating setup.cfg\u001b[0m\n",
      "\u001b[34m2021-01-22 12:17:25,745 sagemaker-containers INFO     Generating MANIFEST.in\u001b[0m\n",
      "\u001b[34m2021-01-22 12:17:25,745 sagemaker-containers INFO     Installing module with the following command:\u001b[0m\n",
      "\u001b[34m/usr/bin/python -m pip install -U . -r requirements.txt\u001b[0m\n",
      "\u001b[34mProcessing /opt/ml/code\u001b[0m\n",
      "\u001b[34mCollecting pandas (from -r requirements.txt (line 1))\n",
      "  Downloading https://files.pythonhosted.org/packages/74/24/0cdbf8907e1e3bc5a8da03345c23cbed7044330bb8f73bb12e711a640a00/pandas-0.24.2-cp35-cp35m-manylinux1_x86_64.whl (10.0MB)\u001b[0m\n",
      "\u001b[34mCollecting numpy (from -r requirements.txt (line 2))\n",
      "  Downloading https://files.pythonhosted.org/packages/b5/36/88723426b4ff576809fec7d73594fe17a35c27f8d01f93637637a29ae25b/numpy-1.18.5-cp35-cp35m-manylinux1_x86_64.whl (19.9MB)\u001b[0m\n",
      "\u001b[34mCollecting nltk (from -r requirements.txt (line 3))\n",
      "  Downloading https://files.pythonhosted.org/packages/92/75/ce35194d8e3022203cca0d2f896dbb88689f9b3fce8e9f9cff942913519d/nltk-3.5.zip (1.4MB)\u001b[0m\n",
      "\u001b[34mCollecting beautifulsoup4 (from -r requirements.txt (line 4))\n",
      "  Downloading https://files.pythonhosted.org/packages/d1/41/e6495bd7d3781cee623ce23ea6ac73282a373088fcd0ddc809a047b18eae/beautifulsoup4-4.9.3-py3-none-any.whl (115kB)\u001b[0m\n",
      "\u001b[34mCollecting html5lib (from -r requirements.txt (line 5))\n",
      "  Downloading https://files.pythonhosted.org/packages/6c/dd/a834df6482147d48e225a49515aabc28974ad5a4ca3215c18a882565b028/html5lib-1.1-py2.py3-none-any.whl (112kB)\u001b[0m\n",
      "\u001b[34mRequirement already satisfied, skipping upgrade: python-dateutil>=2.5.0 in /usr/local/lib/python3.5/dist-packages (from pandas->-r requirements.txt (line 1)) (2.7.5)\u001b[0m\n",
      "\u001b[34mCollecting pytz>=2011k (from pandas->-r requirements.txt (line 1))\n",
      "  Downloading https://files.pythonhosted.org/packages/89/06/2c2d3034b4d6bf22f2a4ae546d16925898658a33b4400cfb7e2c1e2871a3/pytz-2020.5-py2.py3-none-any.whl (510kB)\u001b[0m\n",
      "\u001b[34mRequirement already satisfied, skipping upgrade: click in /usr/local/lib/python3.5/dist-packages (from nltk->-r requirements.txt (line 3)) (7.0)\u001b[0m\n",
      "\u001b[34mCollecting joblib (from nltk->-r requirements.txt (line 3))\n",
      "  Downloading https://files.pythonhosted.org/packages/28/5c/cf6a2b65a321c4a209efcdf64c2689efae2cb62661f8f6f4bb28547cf1bf/joblib-0.14.1-py2.py3-none-any.whl (294kB)\u001b[0m\n",
      "\u001b[34mCollecting regex (from nltk->-r requirements.txt (line 3))\u001b[0m\n",
      "\u001b[34m  Downloading https://files.pythonhosted.org/packages/2e/e4/3447fed9ab29944333f48730ecff4dca92f0868c5b188d6ab2b2078e32c2/regex-2020.11.13.tar.gz (694kB)\u001b[0m\n",
      "\u001b[34mCollecting tqdm (from nltk->-r requirements.txt (line 3))\n",
      "  Downloading https://files.pythonhosted.org/packages/80/02/8f8880a4fd6625461833abcf679d4c12a44c76f9925f92bf212bb6cefaad/tqdm-4.56.0-py2.py3-none-any.whl (72kB)\u001b[0m\n",
      "\u001b[34mCollecting soupsieve>1.2; python_version >= \"3.0\" (from beautifulsoup4->-r requirements.txt (line 4))\n",
      "  Downloading https://files.pythonhosted.org/packages/02/fb/1c65691a9aeb7bd6ac2aa505b84cb8b49ac29c976411c6ab3659425e045f/soupsieve-2.1-py3-none-any.whl\u001b[0m\n",
      "\u001b[34mRequirement already satisfied, skipping upgrade: six>=1.9 in /usr/local/lib/python3.5/dist-packages (from html5lib->-r requirements.txt (line 5)) (1.11.0)\u001b[0m\n",
      "\u001b[34mCollecting webencodings (from html5lib->-r requirements.txt (line 5))\n",
      "  Downloading https://files.pythonhosted.org/packages/f4/24/2a3e3df732393fed8b3ebf2ec078f05546de641fe1b667ee316ec1dcf3b7/webencodings-0.5.1-py2.py3-none-any.whl\u001b[0m\n",
      "\u001b[34mBuilding wheels for collected packages: nltk, train, regex\n",
      "  Running setup.py bdist_wheel for nltk: started\n",
      "  Running setup.py bdist_wheel for nltk: finished with status 'done'\n",
      "  Stored in directory: /root/.cache/pip/wheels/ae/8c/3f/b1fe0ba04555b08b57ab52ab7f86023639a526d8bc8d384306\n",
      "  Running setup.py bdist_wheel for train: started\u001b[0m\n",
      "\u001b[34m  Running setup.py bdist_wheel for train: finished with status 'done'\n",
      "  Stored in directory: /tmp/pip-ephem-wheel-cache-tfkvwgn9/wheels/35/24/16/37574d11bf9bde50616c67372a334f94fa8356bc7164af8ca3\n",
      "  Running setup.py bdist_wheel for regex: started\u001b[0m\n",
      "\u001b[34m  Running setup.py bdist_wheel for regex: finished with status 'done'\n",
      "  Stored in directory: /root/.cache/pip/wheels/27/f6/66/a4243e485a0ebc73dc59033ae26c48e82526f77dbfe158ac59\u001b[0m\n",
      "\u001b[34mSuccessfully built nltk train regex\u001b[0m\n",
      "\u001b[34mInstalling collected packages: numpy, pytz, pandas, joblib, regex, tqdm, nltk, soupsieve, beautifulsoup4, webencodings, html5lib, train\u001b[0m\n",
      "\u001b[34m  Found existing installation: numpy 1.15.4\n",
      "    Uninstalling numpy-1.15.4:\u001b[0m\n",
      "\u001b[34m      Successfully uninstalled numpy-1.15.4\u001b[0m\n",
      "\u001b[34mSuccessfully installed beautifulsoup4-4.9.3 html5lib-1.1 joblib-0.14.1 nltk-3.5 numpy-1.18.5 pandas-0.24.2 pytz-2020.5 regex-2020.11.13 soupsieve-2.1 tqdm-4.56.0 train-1.0.0 webencodings-0.5.1\u001b[0m\n",
      "\u001b[34mYou are using pip version 18.1, however version 20.3.3 is available.\u001b[0m\n",
      "\u001b[34mYou should consider upgrading via the 'pip install --upgrade pip' command.\u001b[0m\n",
      "\u001b[34m2021-01-22 12:17:51,264 sagemaker-containers INFO     No GPUs detected (normal if no gpus installed)\u001b[0m\n",
      "\u001b[34m2021-01-22 12:17:51,280 sagemaker-containers INFO     Invoking user script\n",
      "\u001b[0m\n",
      "\u001b[34mTraining Env:\n",
      "\u001b[0m\n",
      "\u001b[34m{\n",
      "    \"framework_module\": \"sagemaker_pytorch_container.training:main\",\n",
      "    \"input_data_config\": {\n",
      "        \"training\": {\n",
      "            \"TrainingInputMode\": \"File\",\n",
      "            \"S3DistributionType\": \"FullyReplicated\",\n",
      "            \"RecordWrapperType\": \"None\"\n",
      "        }\n",
      "    },\n",
      "    \"input_config_dir\": \"/opt/ml/input/config\",\n",
      "    \"input_dir\": \"/opt/ml/input\",\n",
      "    \"output_dir\": \"/opt/ml/output\",\n",
      "    \"channel_input_dirs\": {\n",
      "        \"training\": \"/opt/ml/input/data/training\"\n",
      "    },\n",
      "    \"additional_framework_parameters\": {},\n",
      "    \"model_dir\": \"/opt/ml/model\",\n",
      "    \"hyperparameters\": {\n",
      "        \"hidden_dim\": 200,\n",
      "        \"epochs\": 10\n",
      "    },\n",
      "    \"module_name\": \"train\",\n",
      "    \"resource_config\": {\n",
      "        \"network_interface_name\": \"eth0\",\n",
      "        \"current_host\": \"algo-1\",\n",
      "        \"hosts\": [\n",
      "            \"algo-1\"\n",
      "        ]\n",
      "    },\n",
      "    \"user_entry_point\": \"train.py\",\n",
      "    \"num_gpus\": 0,\n",
      "    \"output_data_dir\": \"/opt/ml/output/data\",\n",
      "    \"job_name\": \"sagemaker-pytorch-2021-01-22-12-14-24-821\",\n",
      "    \"log_level\": 20,\n",
      "    \"current_host\": \"algo-1\",\n",
      "    \"module_dir\": \"s3://sagemaker-us-east-2-659306883340/sagemaker-pytorch-2021-01-22-12-14-24-821/source/sourcedir.tar.gz\",\n",
      "    \"hosts\": [\n",
      "        \"algo-1\"\n",
      "    ],\n",
      "    \"network_interface_name\": \"eth0\",\n",
      "    \"num_cpus\": 4,\n",
      "    \"output_intermediate_dir\": \"/opt/ml/output/intermediate\"\u001b[0m\n",
      "\u001b[34m}\n",
      "\u001b[0m\n",
      "\u001b[34mEnvironment variables:\n",
      "\u001b[0m\n",
      "\u001b[34mSM_HPS={\"epochs\":10,\"hidden_dim\":200}\u001b[0m\n",
      "\u001b[34mPYTHONPATH=/usr/local/bin:/usr/lib/python35.zip:/usr/lib/python3.5:/usr/lib/python3.5/plat-x86_64-linux-gnu:/usr/lib/python3.5/lib-dynload:/usr/local/lib/python3.5/dist-packages:/usr/lib/python3/dist-packages\u001b[0m\n",
      "\u001b[34mSM_FRAMEWORK_PARAMS={}\u001b[0m\n",
      "\u001b[34mSM_HP_HIDDEN_DIM=200\u001b[0m\n",
      "\u001b[34mSM_OUTPUT_DIR=/opt/ml/output\u001b[0m\n",
      "\u001b[34mSM_TRAINING_ENV={\"additional_framework_parameters\":{},\"channel_input_dirs\":{\"training\":\"/opt/ml/input/data/training\"},\"current_host\":\"algo-1\",\"framework_module\":\"sagemaker_pytorch_container.training:main\",\"hosts\":[\"algo-1\"],\"hyperparameters\":{\"epochs\":10,\"hidden_dim\":200},\"input_config_dir\":\"/opt/ml/input/config\",\"input_data_config\":{\"training\":{\"RecordWrapperType\":\"None\",\"S3DistributionType\":\"FullyReplicated\",\"TrainingInputMode\":\"File\"}},\"input_dir\":\"/opt/ml/input\",\"job_name\":\"sagemaker-pytorch-2021-01-22-12-14-24-821\",\"log_level\":20,\"model_dir\":\"/opt/ml/model\",\"module_dir\":\"s3://sagemaker-us-east-2-659306883340/sagemaker-pytorch-2021-01-22-12-14-24-821/source/sourcedir.tar.gz\",\"module_name\":\"train\",\"network_interface_name\":\"eth0\",\"num_cpus\":4,\"num_gpus\":0,\"output_data_dir\":\"/opt/ml/output/data\",\"output_dir\":\"/opt/ml/output\",\"output_intermediate_dir\":\"/opt/ml/output/intermediate\",\"resource_config\":{\"current_host\":\"algo-1\",\"hosts\":[\"algo-1\"],\"network_interface_name\":\"eth0\"},\"user_entry_point\":\"train.py\"}\u001b[0m\n",
      "\u001b[34mSM_CURRENT_HOST=algo-1\u001b[0m\n",
      "\u001b[34mSM_OUTPUT_INTERMEDIATE_DIR=/opt/ml/output/intermediate\u001b[0m\n",
      "\u001b[34mSM_INPUT_CONFIG_DIR=/opt/ml/input/config\u001b[0m\n",
      "\u001b[34mSM_HOSTS=[\"algo-1\"]\u001b[0m\n",
      "\u001b[34mSM_OUTPUT_DATA_DIR=/opt/ml/output/data\u001b[0m\n",
      "\u001b[34mSM_HP_EPOCHS=10\u001b[0m\n",
      "\u001b[34mSM_INPUT_DIR=/opt/ml/input\u001b[0m\n",
      "\u001b[34mSM_FRAMEWORK_MODULE=sagemaker_pytorch_container.training:main\u001b[0m\n",
      "\u001b[34mSM_RESOURCE_CONFIG={\"current_host\":\"algo-1\",\"hosts\":[\"algo-1\"],\"network_interface_name\":\"eth0\"}\u001b[0m\n",
      "\u001b[34mSM_MODEL_DIR=/opt/ml/model\u001b[0m\n",
      "\u001b[34mSM_LOG_LEVEL=20\u001b[0m\n",
      "\u001b[34mSM_CHANNEL_TRAINING=/opt/ml/input/data/training\u001b[0m\n",
      "\u001b[34mSM_USER_ENTRY_POINT=train.py\u001b[0m\n",
      "\u001b[34mSM_NUM_GPUS=0\u001b[0m\n",
      "\u001b[34mSM_USER_ARGS=[\"--epochs\",\"10\",\"--hidden_dim\",\"200\"]\u001b[0m\n",
      "\u001b[34mSM_INPUT_DATA_CONFIG={\"training\":{\"RecordWrapperType\":\"None\",\"S3DistributionType\":\"FullyReplicated\",\"TrainingInputMode\":\"File\"}}\u001b[0m\n",
      "\u001b[34mSM_CHANNELS=[\"training\"]\u001b[0m\n",
      "\u001b[34mSM_MODULE_DIR=s3://sagemaker-us-east-2-659306883340/sagemaker-pytorch-2021-01-22-12-14-24-821/source/sourcedir.tar.gz\u001b[0m\n",
      "\u001b[34mSM_NETWORK_INTERFACE_NAME=eth0\u001b[0m\n",
      "\u001b[34mSM_NUM_CPUS=4\u001b[0m\n",
      "\u001b[34mSM_MODULE_NAME=train\n",
      "\u001b[0m\n",
      "\u001b[34mInvoking script with the following command:\n",
      "\u001b[0m\n",
      "\u001b[34m/usr/bin/python -m train --epochs 10 --hidden_dim 200\n",
      "\n",
      "\u001b[0m\n",
      "\u001b[34mUsing device cpu.\u001b[0m\n",
      "\u001b[34mGet train data loader.\u001b[0m\n",
      "\u001b[34mModel loaded with embedding_dim 32, hidden_dim 200, vocab_size 5000.\u001b[0m\n",
      "\u001b[34mEpoch: 1, BCELoss: 0.6707868430079246\u001b[0m\n",
      "\u001b[34mEpoch: 2, BCELoss: 0.5782445790816326\u001b[0m\n",
      "\u001b[34mEpoch: 3, BCELoss: 0.4951017839568002\u001b[0m\n",
      "\u001b[34mEpoch: 4, BCELoss: 0.4430378340944952\u001b[0m\n",
      "\u001b[34mEpoch: 5, BCELoss: 0.3787820594651358\u001b[0m\n",
      "\u001b[34mEpoch: 6, BCELoss: 0.34333312876370486\u001b[0m\n",
      "\u001b[34mEpoch: 7, BCELoss: 0.3387477975718829\u001b[0m\n",
      "\u001b[34mEpoch: 8, BCELoss: 0.3224651643208095\u001b[0m\n",
      "\u001b[34mEpoch: 9, BCELoss: 0.306979025505027\u001b[0m\n",
      "\n",
      "2021-01-22 14:05:42 Uploading - Uploading generated training model\u001b[34mEpoch: 10, BCELoss: 0.277078812523764\u001b[0m\n",
      "\u001b[34m2021-01-22 14:05:41,124 sagemaker-containers INFO     Reporting training SUCCESS\u001b[0m\n",
      "\n",
      "2021-01-22 14:05:49 Completed - Training job completed\n",
      "Training seconds: 6549\n",
      "Billable seconds: 6549\n"
     ]
    }
   ],
   "source": [
    "estimator.fit({'training': input_data})"
   ]
  },
  {
   "cell_type": "markdown",
   "metadata": {},
   "source": [
    "## Step 5: Testing the model\n",
    "\n",
    "As mentioned at the top of this notebook, we will be testing this model by first deploying it and then sending the testing data to the deployed endpoint. We will do this so that we can make sure that the deployed model is working correctly.\n",
    "\n",
    "## Step 6: Deploy the model for testing\n",
    "\n",
    "Now that we have trained our model, we would like to test it to see how it performs. Currently our model takes input of the form `review_length, review[500]` where `review[500]` is a sequence of `500` integers which describe the words present in the review, encoded using `word_dict`. Fortunately for us, SageMaker provides built-in inference code for models with simple inputs such as this.\n",
    "\n",
    "There is one thing that we need to provide, however, and that is a function which loads the saved model. This function must be called `model_fn()` and takes as its only parameter a path to the directory where the model artifacts are stored. This function must also be present in the python file which we specified as the entry point. In our case the model loading function has been provided and so no changes need to be made.\n",
    "\n",
    "**NOTE**: When the built-in inference code is run it must import the `model_fn()` method from the `train.py` file. This is why the training code is wrapped in a main guard ( ie, `if __name__ == '__main__':` )\n",
    "\n",
    "Since we don't need to change anything in the code that was uploaded during training, we can simply deploy the current model as-is.\n",
    "\n",
    "**NOTE:** When deploying a model you are asking SageMaker to launch an compute instance that will wait for data to be sent to it. As a result, this compute instance will continue to run until *you* shut it down. This is important to know since the cost of a deployed endpoint depends on how long it has been running for.\n",
    "\n",
    "In other words **If you are no longer using a deployed endpoint, shut it down!**\n",
    "\n",
    "**TODO:** Deploy the trained model."
   ]
  },
  {
   "cell_type": "code",
   "execution_count": 29,
   "metadata": {},
   "outputs": [
    {
     "name": "stderr",
     "output_type": "stream",
     "text": [
      "Parameter image will be renamed to image_uri in SageMaker Python SDK v2.\n",
      "'create_image_uri' will be deprecated in favor of 'ImageURIProvider' class in SageMaker Python SDK v2.\n"
     ]
    },
    {
     "name": "stdout",
     "output_type": "stream",
     "text": [
      "---------------!"
     ]
    }
   ],
   "source": [
    "# TODO: Deploy the trained model\n",
    "predictor=estimator.deploy(instance_type='ml.m4.xlarge', initial_instance_count=1)"
   ]
  },
  {
   "cell_type": "code",
   "execution_count": 45,
   "metadata": {},
   "outputs": [
    {
     "name": "stderr",
     "output_type": "stream",
     "text": [
      "Parameter image will be renamed to image_uri in SageMaker Python SDK v2.\n",
      "'create_image_uri' will be deprecated in favor of 'ImageURIProvider' class in SageMaker Python SDK v2.\n",
      "Using already existing model: sagemaker-pytorch-2021-01-22-12-14-24-821\n"
     ]
    },
    {
     "name": "stdout",
     "output_type": "stream",
     "text": [
      "---------------!"
     ]
    }
   ],
   "source": [
    "# TODO: Deploy the trained model\n",
    "predictor = estimator.deploy(initial_instance_count=1, instance_type='ml.m4.xlarge')"
   ]
  },
  {
   "cell_type": "markdown",
   "metadata": {},
   "source": [
    "## Step 7 - Use the model for testing\n",
    "\n",
    "Once deployed, we can read in the test data and send it off to our deployed model to get some results. Once we collect all of the results we can determine how accurate our model is."
   ]
  },
  {
   "cell_type": "code",
   "execution_count": 30,
   "metadata": {},
   "outputs": [],
   "source": [
    "test_X = pd.concat([pd.DataFrame(test_X_len), pd.DataFrame(test_X)], axis=1)"
   ]
  },
  {
   "cell_type": "code",
   "execution_count": 31,
   "metadata": {},
   "outputs": [],
   "source": [
    "# We split the data into chunks and send each chunk seperately, accumulating the results.\n",
    "\n",
    "def predict(data, rows=512):\n",
    "    split_array = np.array_split(data, int(data.shape[0] / float(rows) + 1))\n",
    "    predictions = np.array([])\n",
    "    for array in split_array:\n",
    "        predictions = np.append(predictions, predictor.predict(array))\n",
    "    \n",
    "    return predictions"
   ]
  },
  {
   "cell_type": "code",
   "execution_count": 32,
   "metadata": {},
   "outputs": [],
   "source": [
    "predictions = predict(test_X.values)\n",
    "predictions = [round(num) for num in predictions]"
   ]
  },
  {
   "cell_type": "code",
   "execution_count": 33,
   "metadata": {},
   "outputs": [
    {
     "data": {
      "text/plain": [
       "0.85632"
      ]
     },
     "execution_count": 33,
     "metadata": {},
     "output_type": "execute_result"
    }
   ],
   "source": [
    "from sklearn.metrics import accuracy_score\n",
    "accuracy_score(test_y, predictions)"
   ]
  },
  {
   "cell_type": "markdown",
   "metadata": {},
   "source": [
    "**Question:** How does this model compare to the XGBoost model you created earlier? Why might these two models perform differently on this dataset? Which do *you* think is better for sentiment analysis?"
   ]
  },
  {
   "cell_type": "markdown",
   "metadata": {},
   "source": [
    "**Answer:**\n",
    "The difference between this model and XGBoost model is very small. The XGBBoost model is slightly better \n",
    "than this model"
   ]
  },
  {
   "cell_type": "markdown",
   "metadata": {},
   "source": [
    "### (TODO) More testing\n",
    "\n",
    "We now have a trained model which has been deployed and which we can send processed reviews to and which returns the predicted sentiment. However, ultimately we would like to be able to send our model an unprocessed review. That is, we would like to send the review itself as a string. For example, suppose we wish to send the following review to our model."
   ]
  },
  {
   "cell_type": "code",
   "execution_count": 34,
   "metadata": {},
   "outputs": [],
   "source": [
    "test_review = 'The simplest pleasures in life are the best, and this film is one of them. Combining a rather basic storyline of love and adventure this movie transcends the usual weekend fair with wit and unmitigated charm.'"
   ]
  },
  {
   "cell_type": "markdown",
   "metadata": {},
   "source": [
    "The question we now need to answer is, how do we send this review to our model?\n",
    "\n",
    "Recall in the first section of this notebook we did a bunch of data processing to the IMDb dataset. In particular, we did two specific things to the provided reviews.\n",
    " - Removed any html tags and stemmed the input\n",
    " - Encoded the review as a sequence of integers using `word_dict`\n",
    " \n",
    "In order process the review we will need to repeat these two steps.\n",
    "\n",
    "**TODO**: Using the `review_to_words` and `convert_and_pad` methods from section one, convert `test_review` into a numpy array `test_data` suitable to send to our model. Remember that our model expects input of the form `review_length, review[500]`."
   ]
  },
  {
   "cell_type": "code",
   "execution_count": 35,
   "metadata": {},
   "outputs": [],
   "source": [
    "# TODO: Convert test_review into a form usable by the model and save the results in test_data\n",
    "test_sentence = review_to_words(test_review)\n",
    "test_data = convert_and_pad_data(word_dict, [test_sentence])[0]\n"
   ]
  },
  {
   "cell_type": "markdown",
   "metadata": {},
   "source": [
    "Now that we have processed the review, we can send the resulting array to our model to predict the sentiment of the review."
   ]
  },
  {
   "cell_type": "code",
   "execution_count": 36,
   "metadata": {},
   "outputs": [
    {
     "data": {
      "text/plain": [
       "array(0.5871982, dtype=float32)"
      ]
     },
     "execution_count": 36,
     "metadata": {},
     "output_type": "execute_result"
    }
   ],
   "source": [
    "predictor.predict(test_data)"
   ]
  },
  {
   "cell_type": "markdown",
   "metadata": {},
   "source": [
    "Since the return value of our model is close to `1`, we can be certain that the review we submitted is positive."
   ]
  },
  {
   "cell_type": "markdown",
   "metadata": {},
   "source": [
    "### Delete the endpoint\n",
    "\n",
    "Of course, just like in the XGBoost notebook, once we've deployed an endpoint it continues to run until we tell it to shut down. Since we are done using our endpoint for now, we can delete it."
   ]
  },
  {
   "cell_type": "code",
   "execution_count": 37,
   "metadata": {},
   "outputs": [
    {
     "name": "stderr",
     "output_type": "stream",
     "text": [
      "estimator.delete_endpoint() will be deprecated in SageMaker Python SDK v2. Please use the delete_endpoint() function on your predictor instead.\n"
     ]
    }
   ],
   "source": [
    "estimator.delete_endpoint()"
   ]
  },
  {
   "cell_type": "markdown",
   "metadata": {},
   "source": [
    "## Step 6 (again) - Deploy the model for the web app\n",
    "\n",
    "Now that we know that our model is working, it's time to create some custom inference code so that we can send the model a review which has not been processed and have it determine the sentiment of the review.\n",
    "\n",
    "As we saw above, by default the estimator which we created, when deployed, will use the entry script and directory which we provided when creating the model. However, since we now wish to accept a string as input and our model expects a processed review, we need to write some custom inference code.\n",
    "\n",
    "We will store the code that we write in the `serve` directory. Provided in this directory is the `model.py` file that we used to construct our model, a `utils.py` file which contains the `review_to_words` and `convert_and_pad` pre-processing functions which we used during the initial data processing, and `predict.py`, the file which will contain our custom inference code. Note also that `requirements.txt` is present which will tell SageMaker what Python libraries are required by our custom inference code.\n",
    "\n",
    "When deploying a PyTorch model in SageMaker, you are expected to provide four functions which the SageMaker inference container will use.\n",
    " - `model_fn`: This function is the same function that we used in the training script and it tells SageMaker how to load our model.\n",
    " - `input_fn`: This function receives the raw serialized input that has been sent to the model's endpoint and its job is to de-serialize and make the input available for the inference code.\n",
    " - `output_fn`: This function takes the output of the inference code and its job is to serialize this output and return it to the caller of the model's endpoint.\n",
    " - `predict_fn`: The heart of the inference script, this is where the actual prediction is done and is the function which you will need to complete.\n",
    "\n",
    "For the simple website that we are constructing during this project, the `input_fn` and `output_fn` methods are relatively straightforward. We only require being able to accept a string as input and we expect to return a single value as output. You might imagine though that in a more complex application the input or output may be image data or some other binary data which would require some effort to serialize.\n",
    "\n",
    "### (TODO) Writing inference code\n",
    "\n",
    "Before writing our custom inference code, we will begin by taking a look at the code which has been provided."
   ]
  },
  {
   "cell_type": "code",
   "execution_count": 63,
   "metadata": {},
   "outputs": [
    {
     "name": "stdout",
     "output_type": "stream",
     "text": [
      "\u001b[34mimport\u001b[39;49;00m \u001b[04m\u001b[36margparse\u001b[39;49;00m\r\n",
      "\u001b[34mimport\u001b[39;49;00m \u001b[04m\u001b[36mjson\u001b[39;49;00m\r\n",
      "\u001b[34mimport\u001b[39;49;00m \u001b[04m\u001b[36mos\u001b[39;49;00m\r\n",
      "\u001b[34mimport\u001b[39;49;00m \u001b[04m\u001b[36mpickle\u001b[39;49;00m\r\n",
      "\u001b[34mimport\u001b[39;49;00m \u001b[04m\u001b[36msys\u001b[39;49;00m\r\n",
      "\u001b[34mimport\u001b[39;49;00m \u001b[04m\u001b[36msagemaker_containers\u001b[39;49;00m\r\n",
      "\u001b[34mimport\u001b[39;49;00m \u001b[04m\u001b[36mpandas\u001b[39;49;00m \u001b[34mas\u001b[39;49;00m \u001b[04m\u001b[36mpd\u001b[39;49;00m\r\n",
      "\u001b[34mimport\u001b[39;49;00m \u001b[04m\u001b[36mnumpy\u001b[39;49;00m \u001b[34mas\u001b[39;49;00m \u001b[04m\u001b[36mnp\u001b[39;49;00m\r\n",
      "\u001b[34mimport\u001b[39;49;00m \u001b[04m\u001b[36mtorch\u001b[39;49;00m\r\n",
      "\u001b[34mimport\u001b[39;49;00m \u001b[04m\u001b[36mtorch\u001b[39;49;00m\u001b[04m\u001b[36m.\u001b[39;49;00m\u001b[04m\u001b[36mnn\u001b[39;49;00m \u001b[34mas\u001b[39;49;00m \u001b[04m\u001b[36mnn\u001b[39;49;00m\r\n",
      "\u001b[34mimport\u001b[39;49;00m \u001b[04m\u001b[36mtorch\u001b[39;49;00m\u001b[04m\u001b[36m.\u001b[39;49;00m\u001b[04m\u001b[36moptim\u001b[39;49;00m \u001b[34mas\u001b[39;49;00m \u001b[04m\u001b[36moptim\u001b[39;49;00m\r\n",
      "\u001b[34mimport\u001b[39;49;00m \u001b[04m\u001b[36mtorch\u001b[39;49;00m\u001b[04m\u001b[36m.\u001b[39;49;00m\u001b[04m\u001b[36mutils\u001b[39;49;00m\u001b[04m\u001b[36m.\u001b[39;49;00m\u001b[04m\u001b[36mdata\u001b[39;49;00m\r\n",
      "\r\n",
      "\u001b[34mfrom\u001b[39;49;00m \u001b[04m\u001b[36mmodel\u001b[39;49;00m \u001b[34mimport\u001b[39;49;00m LSTMClassifier\r\n",
      "\r\n",
      "\u001b[34mfrom\u001b[39;49;00m \u001b[04m\u001b[36mutils\u001b[39;49;00m \u001b[34mimport\u001b[39;49;00m review_to_words, convert_and_pad\r\n",
      "\r\n",
      "\u001b[34mdef\u001b[39;49;00m \u001b[32mmodel_fn\u001b[39;49;00m(model_dir):\r\n",
      "    \u001b[33m\"\"\"Load the PyTorch model from the `model_dir` directory.\"\"\"\u001b[39;49;00m\r\n",
      "    \u001b[36mprint\u001b[39;49;00m(\u001b[33m\"\u001b[39;49;00m\u001b[33mLoading model.\u001b[39;49;00m\u001b[33m\"\u001b[39;49;00m)\r\n",
      "\r\n",
      "    \u001b[37m# First, load the parameters used to create the model.\u001b[39;49;00m\r\n",
      "    model_info = {}\r\n",
      "    model_info_path = os.path.join(model_dir, \u001b[33m'\u001b[39;49;00m\u001b[33mmodel_info.pth\u001b[39;49;00m\u001b[33m'\u001b[39;49;00m)\r\n",
      "    \u001b[34mwith\u001b[39;49;00m \u001b[36mopen\u001b[39;49;00m(model_info_path, \u001b[33m'\u001b[39;49;00m\u001b[33mrb\u001b[39;49;00m\u001b[33m'\u001b[39;49;00m) \u001b[34mas\u001b[39;49;00m f:\r\n",
      "        model_info = torch.load(f)\r\n",
      "\r\n",
      "    \u001b[36mprint\u001b[39;49;00m(\u001b[33m\"\u001b[39;49;00m\u001b[33mmodel_info: \u001b[39;49;00m\u001b[33m{}\u001b[39;49;00m\u001b[33m\"\u001b[39;49;00m.format(model_info))\r\n",
      "\r\n",
      "    \u001b[37m# Determine the device and construct the model.\u001b[39;49;00m\r\n",
      "    device = torch.device(\u001b[33m\"\u001b[39;49;00m\u001b[33mcuda\u001b[39;49;00m\u001b[33m\"\u001b[39;49;00m \u001b[34mif\u001b[39;49;00m torch.cuda.is_available() \u001b[34melse\u001b[39;49;00m \u001b[33m\"\u001b[39;49;00m\u001b[33mcpu\u001b[39;49;00m\u001b[33m\"\u001b[39;49;00m)\r\n",
      "    model = LSTMClassifier(model_info[\u001b[33m'\u001b[39;49;00m\u001b[33membedding_dim\u001b[39;49;00m\u001b[33m'\u001b[39;49;00m], model_info[\u001b[33m'\u001b[39;49;00m\u001b[33mhidden_dim\u001b[39;49;00m\u001b[33m'\u001b[39;49;00m], model_info[\u001b[33m'\u001b[39;49;00m\u001b[33mvocab_size\u001b[39;49;00m\u001b[33m'\u001b[39;49;00m])\r\n",
      "\r\n",
      "    \u001b[37m# Load the store model parameters.\u001b[39;49;00m\r\n",
      "    model_path = os.path.join(model_dir, \u001b[33m'\u001b[39;49;00m\u001b[33mmodel.pth\u001b[39;49;00m\u001b[33m'\u001b[39;49;00m)\r\n",
      "    \u001b[34mwith\u001b[39;49;00m \u001b[36mopen\u001b[39;49;00m(model_path, \u001b[33m'\u001b[39;49;00m\u001b[33mrb\u001b[39;49;00m\u001b[33m'\u001b[39;49;00m) \u001b[34mas\u001b[39;49;00m f:\r\n",
      "        model.load_state_dict(torch.load(f))\r\n",
      "\r\n",
      "    \u001b[37m# Load the saved word_dict.\u001b[39;49;00m\r\n",
      "    word_dict_path = os.path.join(model_dir, \u001b[33m'\u001b[39;49;00m\u001b[33mword_dict.pkl\u001b[39;49;00m\u001b[33m'\u001b[39;49;00m)\r\n",
      "    \u001b[34mwith\u001b[39;49;00m \u001b[36mopen\u001b[39;49;00m(word_dict_path, \u001b[33m'\u001b[39;49;00m\u001b[33mrb\u001b[39;49;00m\u001b[33m'\u001b[39;49;00m) \u001b[34mas\u001b[39;49;00m f:\r\n",
      "        model.word_dict = pickle.load(f)\r\n",
      "\r\n",
      "    model.to(device).eval()\r\n",
      "\r\n",
      "    \u001b[36mprint\u001b[39;49;00m(\u001b[33m\"\u001b[39;49;00m\u001b[33mDone loading model.\u001b[39;49;00m\u001b[33m\"\u001b[39;49;00m)\r\n",
      "    \u001b[34mreturn\u001b[39;49;00m model\r\n",
      "\r\n",
      "\u001b[34mdef\u001b[39;49;00m \u001b[32minput_fn\u001b[39;49;00m(serialized_input_data, content_type):\r\n",
      "    \u001b[36mprint\u001b[39;49;00m(\u001b[33m'\u001b[39;49;00m\u001b[33mDeserializing the input data.\u001b[39;49;00m\u001b[33m'\u001b[39;49;00m)\r\n",
      "    \u001b[34mif\u001b[39;49;00m content_type == \u001b[33m'\u001b[39;49;00m\u001b[33mtext/plain\u001b[39;49;00m\u001b[33m'\u001b[39;49;00m:\r\n",
      "        data = serialized_input_data.decode(\u001b[33m'\u001b[39;49;00m\u001b[33mutf-8\u001b[39;49;00m\u001b[33m'\u001b[39;49;00m)\r\n",
      "        \u001b[34mreturn\u001b[39;49;00m data\r\n",
      "    \u001b[34mraise\u001b[39;49;00m \u001b[36mException\u001b[39;49;00m(\u001b[33m'\u001b[39;49;00m\u001b[33mRequested unsupported ContentType in content_type: \u001b[39;49;00m\u001b[33m'\u001b[39;49;00m + content_type)\r\n",
      "\r\n",
      "\u001b[34mdef\u001b[39;49;00m \u001b[32moutput_fn\u001b[39;49;00m(prediction_output, accept):\r\n",
      "    \u001b[36mprint\u001b[39;49;00m(\u001b[33m'\u001b[39;49;00m\u001b[33mSerializing the generated output.\u001b[39;49;00m\u001b[33m'\u001b[39;49;00m)\r\n",
      "    \u001b[34mreturn\u001b[39;49;00m \u001b[36mstr\u001b[39;49;00m(prediction_output)\r\n",
      "\r\n",
      "\u001b[34mdef\u001b[39;49;00m \u001b[32mpredict_fn\u001b[39;49;00m(input_data, model):\r\n",
      "    \u001b[36mprint\u001b[39;49;00m(\u001b[33m'\u001b[39;49;00m\u001b[33mInferring sentiment of input data.\u001b[39;49;00m\u001b[33m'\u001b[39;49;00m)\r\n",
      "\r\n",
      "    device = torch.device(\u001b[33m\"\u001b[39;49;00m\u001b[33mcuda\u001b[39;49;00m\u001b[33m\"\u001b[39;49;00m \u001b[34mif\u001b[39;49;00m torch.cuda.is_available() \u001b[34melse\u001b[39;49;00m \u001b[33m\"\u001b[39;49;00m\u001b[33mcpu\u001b[39;49;00m\u001b[33m\"\u001b[39;49;00m)\r\n",
      "    \r\n",
      "    \u001b[34mif\u001b[39;49;00m model.word_dict \u001b[35mis\u001b[39;49;00m \u001b[34mNone\u001b[39;49;00m:\r\n",
      "        \u001b[34mraise\u001b[39;49;00m \u001b[36mException\u001b[39;49;00m(\u001b[33m'\u001b[39;49;00m\u001b[33mModel has not been loaded properly, no word_dict.\u001b[39;49;00m\u001b[33m'\u001b[39;49;00m)\r\n",
      "    \r\n",
      "    \u001b[37m# TODO: Process input_data so that it is ready to be sent to our model.\u001b[39;49;00m\r\n",
      "    \u001b[37m#       You should produce two variables:\u001b[39;49;00m\r\n",
      "    \u001b[37m#         data_X   - A sequence of length 500 which represents the converted review\u001b[39;49;00m\r\n",
      "    \u001b[37m#         data_len - The length of the review\u001b[39;49;00m\r\n",
      "\r\n",
      "    data_X = \u001b[34mNone\u001b[39;49;00m\r\n",
      "    data_len = \u001b[34mNone\u001b[39;49;00m\r\n",
      "\r\n",
      "    \u001b[37m# Using data_X and data_len we construct an appropriate input tensor. Remember\u001b[39;49;00m\r\n",
      "    \u001b[37m# that our model expects input data of the form 'len, review[500]'.\u001b[39;49;00m\r\n",
      "    data_pack = np.hstack((data_len, data_X))\r\n",
      "    data_pack = data_pack.reshape(\u001b[34m1\u001b[39;49;00m, -\u001b[34m1\u001b[39;49;00m)\r\n",
      "    \r\n",
      "    data = torch.from_numpy(data_pack)\r\n",
      "    data = data.to(device)\r\n",
      "\r\n",
      "    \u001b[37m# Make sure to put the model into evaluation mode\u001b[39;49;00m\r\n",
      "    model.eval()\r\n",
      "\r\n",
      "    \u001b[37m# TODO: Compute the result of applying the model to the input data. The variable `result` should\u001b[39;49;00m\r\n",
      "    \u001b[37m#       be a numpy array which contains a single integer which is either 1 or 0\u001b[39;49;00m\r\n",
      "\r\n",
      "    result = \u001b[34mNone\u001b[39;49;00m\r\n",
      "\r\n",
      "    \u001b[34mreturn\u001b[39;49;00m result\r\n"
     ]
    }
   ],
   "source": [
    "!pygmentize serve/predict.py"
   ]
  },
  {
   "cell_type": "markdown",
   "metadata": {},
   "source": [
    "As mentioned earlier, the `model_fn` method is the same as the one provided in the training code and the `input_fn` and `output_fn` methods are very simple and your task will be to complete the `predict_fn` method. Make sure that you save the completed file as `predict.py` in the `serve` directory.\n",
    "\n",
    "**TODO**: Complete the `predict_fn()` method in the `serve/predict.py` file."
   ]
  },
  {
   "cell_type": "markdown",
   "metadata": {},
   "source": [
    "### Deploying the model\n",
    "\n",
    "Now that the custom inference code has been written, we will create and deploy our model. To begin with, we need to construct a new PyTorchModel object which points to the model artifacts created during training and also points to the inference code that we wish to use. Then we can call the deploy method to launch the deployment container.\n",
    "\n",
    "**NOTE**: The default behaviour for a deployed PyTorch model is to assume that any input passed to the predictor is a `numpy` array. In our case we want to send a string so we need to construct a simple wrapper around the `RealTimePredictor` class to accomodate simple strings. In a more complicated situation you may want to provide a serialization object, for example if you wanted to sent image data."
   ]
  },
  {
   "cell_type": "code",
   "execution_count": 39,
   "metadata": {},
   "outputs": [
    {
     "name": "stderr",
     "output_type": "stream",
     "text": [
      "Parameter image will be renamed to image_uri in SageMaker Python SDK v2.\n",
      "'create_image_uri' will be deprecated in favor of 'ImageURIProvider' class in SageMaker Python SDK v2.\n"
     ]
    },
    {
     "name": "stdout",
     "output_type": "stream",
     "text": [
      "---------------!"
     ]
    }
   ],
   "source": [
    "from sagemaker.predictor import RealTimePredictor\n",
    "from sagemaker.pytorch import PyTorchModel\n",
    "\n",
    "class StringPredictor(RealTimePredictor):\n",
    "    def __init__(self, endpoint_name, sagemaker_session):\n",
    "        super(StringPredictor, self).__init__(endpoint_name, sagemaker_session, content_type='text/plain')\n",
    "\n",
    "model = PyTorchModel(model_data=estimator.model_data,\n",
    "                     role = role,\n",
    "                     framework_version='0.4.0',\n",
    "                     entry_point='predict.py',\n",
    "                     source_dir='serve',\n",
    "                     predictor_cls=StringPredictor)\n",
    "predictor = model.deploy(initial_instance_count=1, instance_type='ml.m4.xlarge')"
   ]
  },
  {
   "cell_type": "markdown",
   "metadata": {},
   "source": [
    "### Testing the model\n",
    "\n",
    "Now that we have deployed our model with the custom inference code, we should test to see if everything is working. Here we test our model by loading the first `250` positive and negative reviews and send them to the endpoint, then collect the results. The reason for only sending some of the data is that the amount of time it takes for our model to process the input and then perform inference is quite long and so testing the entire data set would be prohibitive."
   ]
  },
  {
   "cell_type": "code",
   "execution_count": 40,
   "metadata": {},
   "outputs": [],
   "source": [
    "import glob\n",
    "\n",
    "def test_reviews(data_dir='../data/aclImdb', stop=250):\n",
    "    \n",
    "    results = []\n",
    "    ground = []\n",
    "    \n",
    "    # We make sure to test both positive and negative reviews    \n",
    "    for sentiment in ['pos', 'neg']:\n",
    "        \n",
    "        path = os.path.join(data_dir, 'test', sentiment, '*.txt')\n",
    "        files = glob.glob(path)\n",
    "        \n",
    "        files_read = 0\n",
    "        \n",
    "        print('Starting ', sentiment, ' files')\n",
    "        \n",
    "        # Iterate through the files and send them to the predictor\n",
    "        for f in files:\n",
    "            with open(f) as review:\n",
    "                # First, we store the ground truth (was the review positive or negative)\n",
    "                if sentiment == 'pos':\n",
    "                    ground.append(1)\n",
    "                else:\n",
    "                    ground.append(0)\n",
    "                # Read in the review and convert to 'utf-8' for transmission via HTTP\n",
    "                review_input = review.read().encode('utf-8')\n",
    "                # Send the review to the predictor and store the results\n",
    "                results.append(float(predictor.predict(review_input)))\n",
    "                \n",
    "            # Sending reviews to our endpoint one at a time takes a while so we\n",
    "            # only send a small number of reviews\n",
    "            files_read += 1\n",
    "            if files_read == stop:\n",
    "                break\n",
    "            \n",
    "    return ground, results"
   ]
  },
  {
   "cell_type": "code",
   "execution_count": 41,
   "metadata": {},
   "outputs": [
    {
     "name": "stdout",
     "output_type": "stream",
     "text": [
      "Starting  pos  files\n",
      "Starting  neg  files\n"
     ]
    }
   ],
   "source": [
    "ground, results = test_reviews()"
   ]
  },
  {
   "cell_type": "code",
   "execution_count": 42,
   "metadata": {},
   "outputs": [
    {
     "data": {
      "text/plain": [
       "0.864"
      ]
     },
     "execution_count": 42,
     "metadata": {},
     "output_type": "execute_result"
    }
   ],
   "source": [
    "from sklearn.metrics import accuracy_score\n",
    "accuracy_score(ground, results)"
   ]
  },
  {
   "cell_type": "markdown",
   "metadata": {},
   "source": [
    "As an additional test, we can try sending the `test_review` that we looked at earlier."
   ]
  },
  {
   "cell_type": "code",
   "execution_count": 43,
   "metadata": {},
   "outputs": [
    {
     "data": {
      "text/plain": [
       "b'1'"
      ]
     },
     "execution_count": 43,
     "metadata": {},
     "output_type": "execute_result"
    }
   ],
   "source": [
    "predictor.predict(test_review)"
   ]
  },
  {
   "cell_type": "markdown",
   "metadata": {},
   "source": [
    "Now that we know our endpoint is working as expected, we can set up the web page that will interact with it. If you don't have time to finish the project now, make sure to skip down to the end of this notebook and shut down your endpoint. You can deploy it again when you come back."
   ]
  },
  {
   "cell_type": "markdown",
   "metadata": {},
   "source": [
    "## Step 7 (again): Use the model for the web app\n",
    "\n",
    "> **TODO:** This entire section and the next contain tasks for you to complete, mostly using the AWS console.\n",
    "\n",
    "So far we have been accessing our model endpoint by constructing a predictor object which uses the endpoint and then just using the predictor object to perform inference. What if we wanted to create a web app which accessed our model? The way things are set up currently makes that not possible since in order to access a SageMaker endpoint the app would first have to authenticate with AWS using an IAM role which included access to SageMaker endpoints. However, there is an easier way! We just need to use some additional AWS services.\n",
    "\n",
    "<img src=\"Web App Diagram.svg\">\n",
    "\n",
    "The diagram above gives an overview of how the various services will work together. On the far right is the model which we trained above and which is deployed using SageMaker. On the far left is our web app that collects a user's movie review, sends it off and expects a positive or negative sentiment in return.\n",
    "\n",
    "In the middle is where some of the magic happens. We will construct a Lambda function, which you can think of as a straightforward Python function that can be executed whenever a specified event occurs. We will give this function permission to send and recieve data from a SageMaker endpoint.\n",
    "\n",
    "Lastly, the method we will use to execute the Lambda function is a new endpoint that we will create using API Gateway. This endpoint will be a url that listens for data to be sent to it. Once it gets some data it will pass that data on to the Lambda function and then return whatever the Lambda function returns. Essentially it will act as an interface that lets our web app communicate with the Lambda function.\n",
    "\n",
    "### Setting up a Lambda function\n",
    "\n",
    "The first thing we are going to do is set up a Lambda function. This Lambda function will be executed whenever our public API has data sent to it. When it is executed it will receive the data, perform any sort of processing that is required, send the data (the review) to the SageMaker endpoint we've created and then return the result.\n",
    "\n",
    "#### Part A: Create an IAM Role for the Lambda function\n",
    "\n",
    "Since we want the Lambda function to call a SageMaker endpoint, we need to make sure that it has permission to do so. To do this, we will construct a role that we can later give the Lambda function.\n",
    "\n",
    "Using the AWS Console, navigate to the **IAM** page and click on **Roles**. Then, click on **Create role**. Make sure that the **AWS service** is the type of trusted entity selected and choose **Lambda** as the service that will use this role, then click **Next: Permissions**.\n",
    "\n",
    "In the search box type `sagemaker` and select the check box next to the **AmazonSageMakerFullAccess** policy. Then, click on **Next: Review**.\n",
    "\n",
    "Lastly, give this role a name. Make sure you use a name that you will remember later on, for example `LambdaSageMakerRole`. Then, click on **Create role**.\n",
    "\n",
    "#### Part B: Create a Lambda function\n",
    "\n",
    "Now it is time to actually create the Lambda function.\n",
    "\n",
    "Using the AWS Console, navigate to the AWS Lambda page and click on **Create a function**. When you get to the next page, make sure that **Author from scratch** is selected. Now, name your Lambda function, using a name that you will remember later on, for example `sentiment_analysis_func`. Make sure that the **Python 3.6** runtime is selected and then choose the role that you created in the previous part. Then, click on **Create Function**.\n",
    "\n",
    "On the next page you will see some information about the Lambda function you've just created. If you scroll down you should see an editor in which you can write the code that will be executed when your Lambda function is triggered. In our example, we will use the code below. \n",
    "\n",
    "```python\n",
    "# We need to use the low-level library to interact with SageMaker since the SageMaker API\n",
    "# is not available natively through Lambda.\n",
    "import boto3\n",
    "\n",
    "def lambda_handler(event, context):\n",
    "\n",
    "    # The SageMaker runtime is what allows us to invoke the endpoint that we've created.\n",
    "    runtime = boto3.Session().client('sagemaker-runtime')\n",
    "\n",
    "    # Now we use the SageMaker runtime to invoke our endpoint, sending the review we were given\n",
    "    response = runtime.invoke_endpoint(EndpointName = '**ENDPOINT NAME HERE**',    # The name of the endpoint we created\n",
    "                                       ContentType = 'text/plain',                 # The data format that is expected\n",
    "                                       Body = event['body'])                       # The actual review\n",
    "\n",
    "    # The response is an HTTP response whose body contains the result of our inference\n",
    "    result = response['Body'].read().decode('utf-8')\n",
    "\n",
    "    return {\n",
    "        'statusCode' : 200,\n",
    "        'headers' : { 'Content-Type' : 'text/plain', 'Access-Control-Allow-Origin' : '*' },\n",
    "        'body' : result\n",
    "    }\n",
    "```\n",
    "\n",
    "Once you have copy and pasted the code above into the Lambda code editor, replace the `**ENDPOINT NAME HERE**` portion with the name of the endpoint that we deployed earlier. You can determine the name of the endpoint using the code cell below."
   ]
  },
  {
   "cell_type": "code",
   "execution_count": 44,
   "metadata": {},
   "outputs": [
    {
     "data": {
      "text/plain": [
       "'sagemaker-pytorch-2021-01-22-14-52-07-766'"
      ]
     },
     "execution_count": 44,
     "metadata": {},
     "output_type": "execute_result"
    }
   ],
   "source": [
    "predictor.endpoint"
   ]
  },
  {
   "cell_type": "markdown",
   "metadata": {},
   "source": [
    "Once you have added the endpoint name to the Lambda function, click on **Save**. Your Lambda function is now up and running. Next we need to create a way for our web app to execute the Lambda function.\n",
    "\n",
    "### Setting up API Gateway\n",
    "\n",
    "Now that our Lambda function is set up, it is time to create a new API using API Gateway that will trigger the Lambda function we have just created.\n",
    "\n",
    "Using AWS Console, navigate to **Amazon API Gateway** and then click on **Get started**.\n",
    "\n",
    "On the next page, make sure that **New API** is selected and give the new api a name, for example, `sentiment_analysis_api`. Then, click on **Create API**.\n",
    "\n",
    "Now we have created an API, however it doesn't currently do anything. What we want it to do is to trigger the Lambda function that we created earlier.\n",
    "\n",
    "Select the **Actions** dropdown menu and click **Create Method**. A new blank method will be created, select its dropdown menu and select **POST**, then click on the check mark beside it.\n",
    "\n",
    "For the integration point, make sure that **Lambda Function** is selected and click on the **Use Lambda Proxy integration**. This option makes sure that the data that is sent to the API is then sent directly to the Lambda function with no processing. It also means that the return value must be a proper response object as it will also not be processed by API Gateway.\n",
    "\n",
    "Type the name of the Lambda function you created earlier into the **Lambda Function** text entry box and then click on **Save**. Click on **OK** in the pop-up box that then appears, giving permission to API Gateway to invoke the Lambda function you created.\n",
    "\n",
    "The last step in creating the API Gateway is to select the **Actions** dropdown and click on **Deploy API**. You will need to create a new Deployment stage and name it anything you like, for example `prod`.\n",
    "\n",
    "You have now successfully set up a public API to access your SageMaker model. Make sure to copy or write down the URL provided to invoke your newly created public API as this will be needed in the next step. This URL can be found at the top of the page, highlighted in blue next to the text **Invoke URL**."
   ]
  },
  {
   "cell_type": "markdown",
   "metadata": {},
   "source": [
    "## Step 4: Deploying our web app\n",
    "\n",
    "Now that we have a publicly available API, we can start using it in a web app. For our purposes, we have provided a simple static html file which can make use of the public api you created earlier.\n",
    "\n",
    "In the `website` folder there should be a file called `index.html`. Download the file to your computer and open that file up in a text editor of your choice. There should be a line which contains **\\*\\*REPLACE WITH PUBLIC API URL\\*\\***. Replace this string with the url that you wrote down in the last step and then save the file.\n",
    "\n",
    "Now, if you open `index.html` on your local computer, your browser will behave as a local web server and you can use the provided site to interact with your SageMaker model.\n",
    "\n",
    "If you'd like to go further, you can host this html file anywhere you'd like, for example using github or hosting a static site on Amazon's S3. Once you have done this you can share the link with anyone you'd like and have them play with it too!\n",
    "\n",
    "> **Important Note** In order for the web app to communicate with the SageMaker endpoint, the endpoint has to actually be deployed and running. This means that you are paying for it. Make sure that the endpoint is running when you want to use the web app but that you shut it down when you don't need it, otherwise you will end up with a surprisingly large AWS bill.\n",
    "\n",
    "**TODO:** Make sure that you include the edited `index.html` file in your project submission."
   ]
  },
  {
   "cell_type": "markdown",
   "metadata": {},
   "source": [
    "Now that your web app is working, trying playing around with it and see how well it works.\n",
    "\n",
    "**Question**: Give an example of a review that you entered into your web app. What was the predicted sentiment of your example review?"
   ]
  },
  {
   "cell_type": "markdown",
   "metadata": {},
   "source": [
    "**Answer:**\n",
    "    \n",
    "Test 1 review: The movie was terrible.\n",
    "\n",
    "result: Your review was NEGATIVE\n",
    "\n",
    "Test 2 review: The movie was fantastic.\n",
    "\n",
    "result: Your review was POSITIVE\n"
   ]
  },
  {
   "cell_type": "markdown",
   "metadata": {},
   "source": [
    "### Delete the endpoint\n",
    "\n",
    "Remember to always shut down your endpoint if you are no longer using it. You are charged for the length of time that the endpoint is running so if you forget and leave it on you could end up with an unexpectedly large bill."
   ]
  },
  {
   "cell_type": "code",
   "execution_count": 46,
   "metadata": {},
   "outputs": [],
   "source": [
    "predictor.delete_endpoint()"
   ]
  },
  {
   "cell_type": "code",
   "execution_count": null,
   "metadata": {},
   "outputs": [],
   "source": []
  }
 ],
 "metadata": {
  "kernelspec": {
   "display_name": "conda_pytorch_p36",
   "language": "python",
   "name": "conda_pytorch_p36"
  },
  "language_info": {
   "codemirror_mode": {
    "name": "ipython",
    "version": 3
   },
   "file_extension": ".py",
   "mimetype": "text/x-python",
   "name": "python",
   "nbconvert_exporter": "python",
   "pygments_lexer": "ipython3",
   "version": "3.6.10"
  }
 },
 "nbformat": 4,
 "nbformat_minor": 2
}
